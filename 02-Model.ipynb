{
 "cells": [
  {
   "cell_type": "markdown",
   "id": "d6138d0d-4365-457a-8d8b-ef29ed622332",
   "metadata": {},
   "source": [
    "# Model"
   ]
  },
  {
   "cell_type": "markdown",
   "id": "8459e880-a7d7-4d5f-8bcd-7b8b9574e2c9",
   "metadata": {},
   "source": [
    "## Imports"
   ]
  },
  {
   "cell_type": "code",
   "execution_count": 1,
   "id": "a04efeb2-7647-4779-b0b1-1c4238cf8f39",
   "metadata": {},
   "outputs": [],
   "source": [
    "import pandas as pd\n",
    "import numpy as np\n",
    "import matplotlib.pyplot as plt\n",
    "import seaborn as sns\n",
    "\n",
    "import warnings\n",
    "warnings.simplefilter(action='ignore', category=UserWarning)\n",
    "\n",
    "from sklearn.model_selection import train_test_split\n",
    "\n",
    "from sklearn.preprocessing import StandardScaler,OneHotEncoder\n",
    "\n",
    "from sklearn.linear_model import LogisticRegression\n",
    "from sklearn.svm import SVC\n",
    "from sklearn.tree import DecisionTreeClassifier\n",
    "from sklearn.neighbors import KNeighborsClassifier\n",
    "from sklearn.ensemble import RandomForestClassifier, ExtraTreesClassifier, AdaBoostClassifier, GradientBoostingClassifier\n",
    "from xgboost import XGBClassifier\n",
    "\n",
    "from sklearn.model_selection import cross_val_score, StratifiedKFold\n",
    "from sklearn.metrics import classification_report, confusion_matrix, accuracy_score,recall_score, make_scorer\n",
    "\n",
    "from sklearn.feature_selection import RFECV\n",
    "\n",
    "from catboost import CatBoostClassifier\n",
    "\n",
    "from collections import Counter\n",
    "from sklearn.datasets import make_classification\n",
    "from imblearn.over_sampling import SMOTE\n",
    "from imblearn.under_sampling import RandomUnderSampler\n",
    "from imblearn.pipeline import Pipeline\n",
    "from matplotlib import pyplot\n",
    "from numpy import where\n",
    "\n",
    "\n",
    "DEBUG = False\n",
    "SEED = 666"
   ]
  },
  {
   "cell_type": "markdown",
   "id": "5d5115ff-2fcc-47a4-a8b4-812f6a99be11",
   "metadata": {},
   "source": [
    "## Load Data"
   ]
  },
  {
   "cell_type": "markdown",
   "id": "ba86ca39-4656-41e1-af9d-c96743bd0e51",
   "metadata": {},
   "source": [
    "### Data for predictions"
   ]
  },
  {
   "cell_type": "code",
   "execution_count": 2,
   "id": "bf817bc9-eda2-4e48-b95a-751c044764bd",
   "metadata": {},
   "outputs": [
    {
     "name": "stdout",
     "output_type": "stream",
     "text": [
      "(3542, 20)\n"
     ]
    },
    {
     "data": {
      "text/html": [
       "<div>\n",
       "<style scoped>\n",
       "    .dataframe tbody tr th:only-of-type {\n",
       "        vertical-align: middle;\n",
       "    }\n",
       "\n",
       "    .dataframe tbody tr th {\n",
       "        vertical-align: top;\n",
       "    }\n",
       "\n",
       "    .dataframe thead th {\n",
       "        text-align: right;\n",
       "    }\n",
       "</style>\n",
       "<table border=\"1\" class=\"dataframe\">\n",
       "  <thead>\n",
       "    <tr style=\"text-align: right;\">\n",
       "      <th></th>\n",
       "      <th>Current</th>\n",
       "      <th>Deposit</th>\n",
       "      <th>Investment</th>\n",
       "      <th>Joint</th>\n",
       "      <th>Loan</th>\n",
       "      <th>Mortgage</th>\n",
       "      <th>On Demand Deposit</th>\n",
       "      <th>Card</th>\n",
       "      <th>Customer_Service_Calls</th>\n",
       "      <th>Credit_Limit</th>\n",
       "      <th>Average_Utilisation_Ratio</th>\n",
       "      <th>Age</th>\n",
       "      <th>Education</th>\n",
       "      <th>Marital_Status</th>\n",
       "      <th>Dependents</th>\n",
       "      <th>Income</th>\n",
       "      <th>Total_Transactions</th>\n",
       "      <th>Avg_Transaction</th>\n",
       "      <th>Num_Transactions</th>\n",
       "      <th>Loyalty</th>\n",
       "    </tr>\n",
       "    <tr>\n",
       "      <th>Customer</th>\n",
       "      <th></th>\n",
       "      <th></th>\n",
       "      <th></th>\n",
       "      <th></th>\n",
       "      <th></th>\n",
       "      <th></th>\n",
       "      <th></th>\n",
       "      <th></th>\n",
       "      <th></th>\n",
       "      <th></th>\n",
       "      <th></th>\n",
       "      <th></th>\n",
       "      <th></th>\n",
       "      <th></th>\n",
       "      <th></th>\n",
       "      <th></th>\n",
       "      <th></th>\n",
       "      <th></th>\n",
       "      <th></th>\n",
       "      <th></th>\n",
       "    </tr>\n",
       "  </thead>\n",
       "  <tbody>\n",
       "    <tr>\n",
       "      <th>708182832</th>\n",
       "      <td>1</td>\n",
       "      <td>1</td>\n",
       "      <td>1</td>\n",
       "      <td>0</td>\n",
       "      <td>0</td>\n",
       "      <td>0</td>\n",
       "      <td>0</td>\n",
       "      <td>1</td>\n",
       "      <td>1</td>\n",
       "      <td>3375.0</td>\n",
       "      <td>0.513</td>\n",
       "      <td>37</td>\n",
       "      <td>5</td>\n",
       "      <td>Single</td>\n",
       "      <td>2</td>\n",
       "      <td>2</td>\n",
       "      <td>4341.01</td>\n",
       "      <td>67.828281</td>\n",
       "      <td>64</td>\n",
       "      <td>824</td>\n",
       "    </tr>\n",
       "  </tbody>\n",
       "</table>\n",
       "</div>"
      ],
      "text/plain": [
       "           Current  Deposit  Investment  Joint  Loan  Mortgage  \\\n",
       "Customer                                                         \n",
       "708182832        1        1           1      0     0         0   \n",
       "\n",
       "           On Demand Deposit  Card  Customer_Service_Calls  Credit_Limit  \\\n",
       "Customer                                                                   \n",
       "708182832                  0     1                       1        3375.0   \n",
       "\n",
       "           Average_Utilisation_Ratio  Age  Education Marital_Status  \\\n",
       "Customer                                                              \n",
       "708182832                      0.513   37          5         Single   \n",
       "\n",
       "           Dependents  Income  Total_Transactions  Avg_Transaction  \\\n",
       "Customer                                                             \n",
       "708182832           2       2             4341.01        67.828281   \n",
       "\n",
       "           Num_Transactions  Loyalty  \n",
       "Customer                              \n",
       "708182832                64      824  "
      ]
     },
     "execution_count": 2,
     "metadata": {},
     "output_type": "execute_result"
    }
   ],
   "source": [
    "df_churn_test = pd.read_pickle(\"./orig/data/churn_test.pkl\")\n",
    "print(df_churn_test.shape)\n",
    "df_churn_test.head(1)"
   ]
  },
  {
   "cell_type": "markdown",
   "id": "d6677af0-ff4f-4630-97e1-a2c039655f01",
   "metadata": {},
   "source": [
    "### Training data"
   ]
  },
  {
   "cell_type": "code",
   "execution_count": 3,
   "id": "ef248904-8840-49a9-a80c-4dc63a6e7a80",
   "metadata": {},
   "outputs": [
    {
     "name": "stdout",
     "output_type": "stream",
     "text": [
      "(5831, 21)\n"
     ]
    },
    {
     "data": {
      "text/html": [
       "<div>\n",
       "<style scoped>\n",
       "    .dataframe tbody tr th:only-of-type {\n",
       "        vertical-align: middle;\n",
       "    }\n",
       "\n",
       "    .dataframe tbody tr th {\n",
       "        vertical-align: top;\n",
       "    }\n",
       "\n",
       "    .dataframe thead th {\n",
       "        text-align: right;\n",
       "    }\n",
       "</style>\n",
       "<table border=\"1\" class=\"dataframe\">\n",
       "  <thead>\n",
       "    <tr style=\"text-align: right;\">\n",
       "      <th></th>\n",
       "      <th>Current</th>\n",
       "      <th>Deposit</th>\n",
       "      <th>Investment</th>\n",
       "      <th>Joint</th>\n",
       "      <th>Loan</th>\n",
       "      <th>Mortgage</th>\n",
       "      <th>On Demand Deposit</th>\n",
       "      <th>Churn</th>\n",
       "      <th>Card</th>\n",
       "      <th>Customer_Service_Calls</th>\n",
       "      <th>...</th>\n",
       "      <th>Average_Utilisation_Ratio</th>\n",
       "      <th>Age</th>\n",
       "      <th>Education</th>\n",
       "      <th>Marital_Status</th>\n",
       "      <th>Dependents</th>\n",
       "      <th>Income</th>\n",
       "      <th>Total_Transactions</th>\n",
       "      <th>Avg_Transaction</th>\n",
       "      <th>Num_Transactions</th>\n",
       "      <th>Loyalty</th>\n",
       "    </tr>\n",
       "    <tr>\n",
       "      <th>Customer</th>\n",
       "      <th></th>\n",
       "      <th></th>\n",
       "      <th></th>\n",
       "      <th></th>\n",
       "      <th></th>\n",
       "      <th></th>\n",
       "      <th></th>\n",
       "      <th></th>\n",
       "      <th></th>\n",
       "      <th></th>\n",
       "      <th></th>\n",
       "      <th></th>\n",
       "      <th></th>\n",
       "      <th></th>\n",
       "      <th></th>\n",
       "      <th></th>\n",
       "      <th></th>\n",
       "      <th></th>\n",
       "      <th></th>\n",
       "      <th></th>\n",
       "      <th></th>\n",
       "    </tr>\n",
       "  </thead>\n",
       "  <tbody>\n",
       "    <tr>\n",
       "      <th>708115009</th>\n",
       "      <td>0</td>\n",
       "      <td>0</td>\n",
       "      <td>0</td>\n",
       "      <td>0</td>\n",
       "      <td>0</td>\n",
       "      <td>0</td>\n",
       "      <td>0</td>\n",
       "      <td>Yes</td>\n",
       "      <td>1</td>\n",
       "      <td>3</td>\n",
       "      <td>...</td>\n",
       "      <td>0.0</td>\n",
       "      <td>47.0</td>\n",
       "      <td>1</td>\n",
       "      <td>Single</td>\n",
       "      <td>3</td>\n",
       "      <td>1</td>\n",
       "      <td>1886.99</td>\n",
       "      <td>52.416389</td>\n",
       "      <td>36</td>\n",
       "      <td>1159</td>\n",
       "    </tr>\n",
       "  </tbody>\n",
       "</table>\n",
       "<p>1 rows × 21 columns</p>\n",
       "</div>"
      ],
      "text/plain": [
       "           Current  Deposit  Investment  Joint  Loan  Mortgage  \\\n",
       "Customer                                                         \n",
       "708115009        0        0           0      0     0         0   \n",
       "\n",
       "           On Demand Deposit Churn  Card  Customer_Service_Calls  ...  \\\n",
       "Customer                                                          ...   \n",
       "708115009                  0   Yes     1                       3  ...   \n",
       "\n",
       "           Average_Utilisation_Ratio   Age  Education  Marital_Status  \\\n",
       "Customer                                                                \n",
       "708115009                        0.0  47.0          1          Single   \n",
       "\n",
       "          Dependents  Income  Total_Transactions  Avg_Transaction  \\\n",
       "Customer                                                            \n",
       "708115009          3       1             1886.99        52.416389   \n",
       "\n",
       "           Num_Transactions  Loyalty  \n",
       "Customer                              \n",
       "708115009                36     1159  \n",
       "\n",
       "[1 rows x 21 columns]"
      ]
     },
     "execution_count": 3,
     "metadata": {},
     "output_type": "execute_result"
    }
   ],
   "source": [
    "df = pd.read_pickle(\"./orig/data/churn_train.pkl\")\n",
    "print(df.shape)\n",
    "df.head(1)"
   ]
  },
  {
   "cell_type": "code",
   "execution_count": 4,
   "id": "77af0caa-4f51-480f-b53c-52bac9be5289",
   "metadata": {},
   "outputs": [
    {
     "data": {
      "text/plain": [
       "Current                         int64\n",
       "Deposit                         int64\n",
       "Investment                      int64\n",
       "Joint                           int64\n",
       "Loan                            int64\n",
       "Mortgage                        int64\n",
       "On Demand Deposit               int64\n",
       "Churn                        category\n",
       "Card                            int64\n",
       "Customer_Service_Calls          int64\n",
       "Credit_Limit                  float64\n",
       "Average_Utilisation_Ratio     float64\n",
       "Age                           float64\n",
       "Education                       int64\n",
       "Marital_Status               category\n",
       "Dependents                      int64\n",
       "Income                          int64\n",
       "Total_Transactions            float64\n",
       "Avg_Transaction               float64\n",
       "Num_Transactions                int64\n",
       "Loyalty                         int64\n",
       "dtype: object"
      ]
     },
     "execution_count": 4,
     "metadata": {},
     "output_type": "execute_result"
    }
   ],
   "source": [
    "df.dtypes"
   ]
  },
  {
   "cell_type": "markdown",
   "id": "7161535b-20d7-4b9e-a84c-173df701789a",
   "metadata": {},
   "source": [
    "#### Features and Target"
   ]
  },
  {
   "cell_type": "code",
   "execution_count": 5,
   "id": "384f88b6-68cf-4734-acd6-d488f062b47b",
   "metadata": {},
   "outputs": [
    {
     "name": "stdout",
     "output_type": "stream",
     "text": [
      "Target: Churn\n",
      "Categorical Features: ['Marital_Status']\n",
      "Numerical Features: ['Current', 'Deposit', 'Investment', 'Joint', 'Loan', 'Mortgage', 'On Demand Deposit', 'Card', 'Customer_Service_Calls', 'Credit_Limit', 'Average_Utilisation_Ratio', 'Age', 'Education', 'Dependents', 'Income', 'Total_Transactions', 'Avg_Transaction', 'Num_Transactions', 'Loyalty']\n"
     ]
    }
   ],
   "source": [
    "target = \"Churn\"\n",
    "cat_features = [c for c in df.select_dtypes(\"category\").columns if c not in target]\n",
    "num_features = [c for c in df.select_dtypes([\"int\",\"float\"]).columns if c not in target]\n",
    "features = cat_features + num_features\n",
    "\n",
    "\n",
    "print(f\"Target: {target}\")\n",
    "\n",
    "print(f\"Categorical Features: {cat_features}\")\n",
    "print(f\"Numerical Features: {num_features}\")"
   ]
  },
  {
   "cell_type": "markdown",
   "id": "6fda6011-defd-47b8-9a92-2a0513b0874c",
   "metadata": {},
   "source": [
    "## Check Target Values"
   ]
  },
  {
   "cell_type": "code",
   "execution_count": 6,
   "id": "277bc318-bf50-4103-9f27-4d91b90b971c",
   "metadata": {},
   "outputs": [
    {
     "data": {
      "text/plain": [
       "No     4919\n",
       "Yes     912\n",
       "Name: Churn, dtype: int64"
      ]
     },
     "execution_count": 6,
     "metadata": {},
     "output_type": "execute_result"
    }
   ],
   "source": [
    "df[target].value_counts()"
   ]
  },
  {
   "cell_type": "code",
   "execution_count": 7,
   "id": "270a390a-9864-4b21-9a87-28927da4e60b",
   "metadata": {},
   "outputs": [
    {
     "data": {
      "text/plain": [
       "0"
      ]
     },
     "execution_count": 7,
     "metadata": {},
     "output_type": "execute_result"
    }
   ],
   "source": [
    "df.isna().sum().sum()"
   ]
  },
  {
   "cell_type": "markdown",
   "id": "49851bc7-f946-4ba5-ab70-416f6d4bc610",
   "metadata": {},
   "source": [
    "### Comments\n",
    "- From the relative frequencies above we can see clearly that the dataset is unbalanced.\n",
    "- We will attempt to use a Synthetic Minority Oversampling Technique (SMOTE) to balance out the dataset later on."
   ]
  },
  {
   "cell_type": "markdown",
   "id": "8b7dcae2-f7ad-49da-b9ee-7b6716714593",
   "metadata": {},
   "source": [
    "## Encode Categorical Values"
   ]
  },
  {
   "cell_type": "markdown",
   "id": "30870280-3a06-4b3e-9be3-6cc40486b08a",
   "metadata": {
    "tags": []
   },
   "source": [
    "### Train-Test Split"
   ]
  },
  {
   "cell_type": "code",
   "execution_count": 8,
   "id": "470db3c1-d759-4a60-b49d-85512196a49a",
   "metadata": {},
   "outputs": [
    {
     "data": {
      "text/plain": [
       "((3498, 20), (2333, 20))"
      ]
     },
     "execution_count": 8,
     "metadata": {},
     "output_type": "execute_result"
    }
   ],
   "source": [
    "df_train, df_test, y_train, y_test = train_test_split(df[features], df[target], train_size=0.6, stratify=df[target], random_state=SEED)\n",
    "df_train.shape, df_test.shape"
   ]
  },
  {
   "cell_type": "markdown",
   "id": "f2a52a6f-5ebf-47ff-be09-da3511415bf9",
   "metadata": {},
   "source": [
    "## Encoding Values"
   ]
  },
  {
   "cell_type": "code",
   "execution_count": 9,
   "id": "36c1ab84-f340-4663-98d3-96967dc19a2e",
   "metadata": {},
   "outputs": [],
   "source": [
    "def encode_df(df_train, y_train):\n",
    "    cat_e = OneHotEncoder()\n",
    "    num_e = StandardScaler()\n",
    "    \n",
    "    data = cat_e.fit_transform(df_train[cat_features]).toarray()\n",
    "    index = df_train.index\n",
    "    columns = cat_e.get_feature_names_out()\n",
    "    df_cat = pd.DataFrame(data=data, index=index, columns=columns)\n",
    "\n",
    "    data = num_e.fit_transform(df_train[num_features])\n",
    "    index = df_train.index\n",
    "    columns = num_features\n",
    "    df_num = pd.DataFrame(data=data, index=index, columns=num_features)\n",
    "    df_num = df_train[num_features]\n",
    "    \n",
    "    df_train = pd.concat([df_cat, df_num], axis=1)\n",
    "    \n",
    "    y_train = y_train.map( {'No':0, \"Yes\":1} )\n",
    "    \n",
    "    return df_train, y_train"
   ]
  },
  {
   "cell_type": "markdown",
   "id": "d0ffd225-ec5f-4d5c-ac40-59e84e7038a5",
   "metadata": {},
   "source": [
    "### Encode churn pred dataframe"
   ]
  },
  {
   "cell_type": "code",
   "execution_count": 10,
   "id": "8df65937-35ed-4caf-b512-c5c8b030e2b4",
   "metadata": {},
   "outputs": [
    {
     "data": {
      "text/html": [
       "<div>\n",
       "<style scoped>\n",
       "    .dataframe tbody tr th:only-of-type {\n",
       "        vertical-align: middle;\n",
       "    }\n",
       "\n",
       "    .dataframe tbody tr th {\n",
       "        vertical-align: top;\n",
       "    }\n",
       "\n",
       "    .dataframe thead th {\n",
       "        text-align: right;\n",
       "    }\n",
       "</style>\n",
       "<table border=\"1\" class=\"dataframe\">\n",
       "  <thead>\n",
       "    <tr style=\"text-align: right;\">\n",
       "      <th></th>\n",
       "      <th>Marital_Status_Divorced</th>\n",
       "      <th>Marital_Status_Married</th>\n",
       "      <th>Marital_Status_Single</th>\n",
       "      <th>Marital_Status_Unknown</th>\n",
       "      <th>Current</th>\n",
       "      <th>Deposit</th>\n",
       "      <th>Investment</th>\n",
       "      <th>Joint</th>\n",
       "      <th>Loan</th>\n",
       "      <th>Mortgage</th>\n",
       "      <th>...</th>\n",
       "      <th>Credit_Limit</th>\n",
       "      <th>Average_Utilisation_Ratio</th>\n",
       "      <th>Age</th>\n",
       "      <th>Education</th>\n",
       "      <th>Dependents</th>\n",
       "      <th>Income</th>\n",
       "      <th>Total_Transactions</th>\n",
       "      <th>Avg_Transaction</th>\n",
       "      <th>Num_Transactions</th>\n",
       "      <th>Loyalty</th>\n",
       "    </tr>\n",
       "    <tr>\n",
       "      <th>Customer</th>\n",
       "      <th></th>\n",
       "      <th></th>\n",
       "      <th></th>\n",
       "      <th></th>\n",
       "      <th></th>\n",
       "      <th></th>\n",
       "      <th></th>\n",
       "      <th></th>\n",
       "      <th></th>\n",
       "      <th></th>\n",
       "      <th></th>\n",
       "      <th></th>\n",
       "      <th></th>\n",
       "      <th></th>\n",
       "      <th></th>\n",
       "      <th></th>\n",
       "      <th></th>\n",
       "      <th></th>\n",
       "      <th></th>\n",
       "      <th></th>\n",
       "      <th></th>\n",
       "    </tr>\n",
       "  </thead>\n",
       "  <tbody>\n",
       "    <tr>\n",
       "      <th>708182832</th>\n",
       "      <td>0.0</td>\n",
       "      <td>0.0</td>\n",
       "      <td>1.0</td>\n",
       "      <td>0.0</td>\n",
       "      <td>1</td>\n",
       "      <td>1</td>\n",
       "      <td>1</td>\n",
       "      <td>0</td>\n",
       "      <td>0</td>\n",
       "      <td>0</td>\n",
       "      <td>...</td>\n",
       "      <td>3375.0</td>\n",
       "      <td>0.513</td>\n",
       "      <td>37</td>\n",
       "      <td>5</td>\n",
       "      <td>2</td>\n",
       "      <td>2</td>\n",
       "      <td>4341.01</td>\n",
       "      <td>67.828281</td>\n",
       "      <td>64</td>\n",
       "      <td>824</td>\n",
       "    </tr>\n",
       "  </tbody>\n",
       "</table>\n",
       "<p>1 rows × 23 columns</p>\n",
       "</div>"
      ],
      "text/plain": [
       "           Marital_Status_Divorced  Marital_Status_Married  \\\n",
       "Customer                                                     \n",
       "708182832                      0.0                     0.0   \n",
       "\n",
       "           Marital_Status_Single  Marital_Status_Unknown  Current  Deposit  \\\n",
       "Customer                                                                     \n",
       "708182832                    1.0                     0.0        1        1   \n",
       "\n",
       "           Investment  Joint  Loan  Mortgage  ...  Credit_Limit  \\\n",
       "Customer                                      ...                 \n",
       "708182832           1      0     0         0  ...        3375.0   \n",
       "\n",
       "           Average_Utilisation_Ratio  Age  Education  Dependents  Income  \\\n",
       "Customer                                                                   \n",
       "708182832                      0.513   37          5           2       2   \n",
       "\n",
       "           Total_Transactions  Avg_Transaction  Num_Transactions  Loyalty  \n",
       "Customer                                                                   \n",
       "708182832             4341.01        67.828281                64      824  \n",
       "\n",
       "[1 rows x 23 columns]"
      ]
     },
     "execution_count": 10,
     "metadata": {},
     "output_type": "execute_result"
    }
   ],
   "source": [
    "df_churn_test[\"Churn\"] = \"No\"\n",
    "df_churn_test , y_churn = encode_df(df_churn_test.iloc[:, :-1],df_churn_test[\"Churn\"])\n",
    "df_churn_test.head(1)\n",
    "#np.unique(df_churn_test.Marital_Status_Unknown)"
   ]
  },
  {
   "cell_type": "markdown",
   "id": "c1fd92ca-3318-4f28-81c6-080fc3d90c20",
   "metadata": {},
   "source": [
    "### Encode Train"
   ]
  },
  {
   "cell_type": "code",
   "execution_count": 11,
   "id": "f9c2c9b7-0d79-4b72-b01b-b294955b9ca8",
   "metadata": {},
   "outputs": [
    {
     "data": {
      "text/html": [
       "<div>\n",
       "<style scoped>\n",
       "    .dataframe tbody tr th:only-of-type {\n",
       "        vertical-align: middle;\n",
       "    }\n",
       "\n",
       "    .dataframe tbody tr th {\n",
       "        vertical-align: top;\n",
       "    }\n",
       "\n",
       "    .dataframe thead th {\n",
       "        text-align: right;\n",
       "    }\n",
       "</style>\n",
       "<table border=\"1\" class=\"dataframe\">\n",
       "  <thead>\n",
       "    <tr style=\"text-align: right;\">\n",
       "      <th></th>\n",
       "      <th>Marital_Status_Divorced</th>\n",
       "      <th>Marital_Status_Married</th>\n",
       "      <th>Marital_Status_Single</th>\n",
       "      <th>Current</th>\n",
       "      <th>Deposit</th>\n",
       "      <th>Investment</th>\n",
       "      <th>Joint</th>\n",
       "      <th>Loan</th>\n",
       "      <th>Mortgage</th>\n",
       "      <th>On Demand Deposit</th>\n",
       "      <th>...</th>\n",
       "      <th>Average_Utilisation_Ratio</th>\n",
       "      <th>Age</th>\n",
       "      <th>Education</th>\n",
       "      <th>Marital_Status_Unknown</th>\n",
       "      <th>Dependents</th>\n",
       "      <th>Income</th>\n",
       "      <th>Total_Transactions</th>\n",
       "      <th>Avg_Transaction</th>\n",
       "      <th>Num_Transactions</th>\n",
       "      <th>Loyalty</th>\n",
       "    </tr>\n",
       "    <tr>\n",
       "      <th>Customer</th>\n",
       "      <th></th>\n",
       "      <th></th>\n",
       "      <th></th>\n",
       "      <th></th>\n",
       "      <th></th>\n",
       "      <th></th>\n",
       "      <th></th>\n",
       "      <th></th>\n",
       "      <th></th>\n",
       "      <th></th>\n",
       "      <th></th>\n",
       "      <th></th>\n",
       "      <th></th>\n",
       "      <th></th>\n",
       "      <th></th>\n",
       "      <th></th>\n",
       "      <th></th>\n",
       "      <th></th>\n",
       "      <th></th>\n",
       "      <th></th>\n",
       "      <th></th>\n",
       "    </tr>\n",
       "  </thead>\n",
       "  <tbody>\n",
       "    <tr>\n",
       "      <th>793319878</th>\n",
       "      <td>0.0</td>\n",
       "      <td>1.0</td>\n",
       "      <td>0.0</td>\n",
       "      <td>1</td>\n",
       "      <td>1</td>\n",
       "      <td>0</td>\n",
       "      <td>0</td>\n",
       "      <td>0</td>\n",
       "      <td>0</td>\n",
       "      <td>0</td>\n",
       "      <td>...</td>\n",
       "      <td>0.603</td>\n",
       "      <td>51.0</td>\n",
       "      <td>5</td>\n",
       "      <td>0</td>\n",
       "      <td>3</td>\n",
       "      <td>2</td>\n",
       "      <td>4798.03</td>\n",
       "      <td>65.726438</td>\n",
       "      <td>73</td>\n",
       "      <td>1190</td>\n",
       "    </tr>\n",
       "  </tbody>\n",
       "</table>\n",
       "<p>1 rows × 23 columns</p>\n",
       "</div>"
      ],
      "text/plain": [
       "           Marital_Status_Divorced  Marital_Status_Married  \\\n",
       "Customer                                                     \n",
       "793319878                      0.0                     1.0   \n",
       "\n",
       "           Marital_Status_Single  Current  Deposit  Investment  Joint  Loan  \\\n",
       "Customer                                                                      \n",
       "793319878                    0.0        1        1           0      0     0   \n",
       "\n",
       "           Mortgage  On Demand Deposit  ...  Average_Utilisation_Ratio   Age  \\\n",
       "Customer                                ...                                    \n",
       "793319878         0                  0  ...                      0.603  51.0   \n",
       "\n",
       "           Education  Marital_Status_Unknown  Dependents  Income  \\\n",
       "Customer                                                           \n",
       "793319878          5                       0           3       2   \n",
       "\n",
       "           Total_Transactions  Avg_Transaction  Num_Transactions  Loyalty  \n",
       "Customer                                                                   \n",
       "793319878             4798.03        65.726438                73     1190  \n",
       "\n",
       "[1 rows x 23 columns]"
      ]
     },
     "metadata": {},
     "output_type": "display_data"
    }
   ],
   "source": [
    "df_train, y_train = encode_df(df_train,y_train)\n",
    "df_train.insert(loc=16, column='Marital_Status_Unknown',value=0)\n",
    "display(df_train.head(1))"
   ]
  },
  {
   "cell_type": "markdown",
   "id": "8ec57161-dff4-43ea-ad85-328812afd911",
   "metadata": {
    "jp-MarkdownHeadingCollapsed": true,
    "tags": []
   },
   "source": [
    "#### Comment:\n",
    "- OHE still doesnt add columns for categorical values that dont show up in a dataframe so we have to manually add in a marital status column to match the testing dataframe for churn"
   ]
  },
  {
   "cell_type": "markdown",
   "id": "9a8ff452-ab63-4d26-8adf-782b0a0e4254",
   "metadata": {},
   "source": [
    "### Encode Test"
   ]
  },
  {
   "cell_type": "code",
   "execution_count": 12,
   "id": "e316ad01-4b03-4c45-bfc3-c0238108e619",
   "metadata": {},
   "outputs": [
    {
     "data": {
      "text/html": [
       "<div>\n",
       "<style scoped>\n",
       "    .dataframe tbody tr th:only-of-type {\n",
       "        vertical-align: middle;\n",
       "    }\n",
       "\n",
       "    .dataframe tbody tr th {\n",
       "        vertical-align: top;\n",
       "    }\n",
       "\n",
       "    .dataframe thead th {\n",
       "        text-align: right;\n",
       "    }\n",
       "</style>\n",
       "<table border=\"1\" class=\"dataframe\">\n",
       "  <thead>\n",
       "    <tr style=\"text-align: right;\">\n",
       "      <th></th>\n",
       "      <th>Marital_Status_Divorced</th>\n",
       "      <th>Marital_Status_Married</th>\n",
       "      <th>Marital_Status_Single</th>\n",
       "      <th>Current</th>\n",
       "      <th>Deposit</th>\n",
       "      <th>Investment</th>\n",
       "      <th>Joint</th>\n",
       "      <th>Loan</th>\n",
       "      <th>Mortgage</th>\n",
       "      <th>On Demand Deposit</th>\n",
       "      <th>...</th>\n",
       "      <th>Average_Utilisation_Ratio</th>\n",
       "      <th>Age</th>\n",
       "      <th>Education</th>\n",
       "      <th>Marital_Status_Unknown</th>\n",
       "      <th>Dependents</th>\n",
       "      <th>Income</th>\n",
       "      <th>Total_Transactions</th>\n",
       "      <th>Avg_Transaction</th>\n",
       "      <th>Num_Transactions</th>\n",
       "      <th>Loyalty</th>\n",
       "    </tr>\n",
       "    <tr>\n",
       "      <th>Customer</th>\n",
       "      <th></th>\n",
       "      <th></th>\n",
       "      <th></th>\n",
       "      <th></th>\n",
       "      <th></th>\n",
       "      <th></th>\n",
       "      <th></th>\n",
       "      <th></th>\n",
       "      <th></th>\n",
       "      <th></th>\n",
       "      <th></th>\n",
       "      <th></th>\n",
       "      <th></th>\n",
       "      <th></th>\n",
       "      <th></th>\n",
       "      <th></th>\n",
       "      <th></th>\n",
       "      <th></th>\n",
       "      <th></th>\n",
       "      <th></th>\n",
       "      <th></th>\n",
       "    </tr>\n",
       "  </thead>\n",
       "  <tbody>\n",
       "    <tr>\n",
       "      <th>767479181</th>\n",
       "      <td>0.0</td>\n",
       "      <td>1.0</td>\n",
       "      <td>0.0</td>\n",
       "      <td>1</td>\n",
       "      <td>1</td>\n",
       "      <td>1</td>\n",
       "      <td>0</td>\n",
       "      <td>0</td>\n",
       "      <td>0</td>\n",
       "      <td>0</td>\n",
       "      <td>...</td>\n",
       "      <td>0.099</td>\n",
       "      <td>47.0</td>\n",
       "      <td>3</td>\n",
       "      <td>0</td>\n",
       "      <td>3</td>\n",
       "      <td>0</td>\n",
       "      <td>1593.04</td>\n",
       "      <td>34.631304</td>\n",
       "      <td>46</td>\n",
       "      <td>1404</td>\n",
       "    </tr>\n",
       "  </tbody>\n",
       "</table>\n",
       "<p>1 rows × 23 columns</p>\n",
       "</div>"
      ],
      "text/plain": [
       "           Marital_Status_Divorced  Marital_Status_Married  \\\n",
       "Customer                                                     \n",
       "767479181                      0.0                     1.0   \n",
       "\n",
       "           Marital_Status_Single  Current  Deposit  Investment  Joint  Loan  \\\n",
       "Customer                                                                      \n",
       "767479181                    0.0        1        1           1      0     0   \n",
       "\n",
       "           Mortgage  On Demand Deposit  ...  Average_Utilisation_Ratio   Age  \\\n",
       "Customer                                ...                                    \n",
       "767479181         0                  0  ...                      0.099  47.0   \n",
       "\n",
       "           Education  Marital_Status_Unknown  Dependents  Income  \\\n",
       "Customer                                                           \n",
       "767479181          3                       0           3       0   \n",
       "\n",
       "           Total_Transactions  Avg_Transaction  Num_Transactions  Loyalty  \n",
       "Customer                                                                   \n",
       "767479181             1593.04        34.631304                46     1404  \n",
       "\n",
       "[1 rows x 23 columns]"
      ]
     },
     "metadata": {},
     "output_type": "display_data"
    }
   ],
   "source": [
    "df_test, y_test = encode_df(df_test, y_test)\n",
    "df_test.insert(loc=16, column='Marital_Status_Unknown',value=0)\n",
    "display(df_test.head(1))"
   ]
  },
  {
   "cell_type": "markdown",
   "id": "10b2e148-a765-46b4-96d7-f64a56c4b5b0",
   "metadata": {
    "tags": []
   },
   "source": [
    "### Feature Selection"
   ]
  },
  {
   "cell_type": "code",
   "execution_count": 13,
   "id": "71733454-daac-4c7a-b972-e66008d3d24f",
   "metadata": {},
   "outputs": [],
   "source": [
    "models = {\n",
    "    \"LR\": LogisticRegression(max_iter=1000),\n",
    "    \"DT\": DecisionTreeClassifier(),\n",
    "    \"KNN\": KNeighborsClassifier(),\n",
    "    \"RF\": RandomForestClassifier(),\n",
    "    \"ET\": ExtraTreesClassifier(),\n",
    "    #\"XGB\": XGBClassifier(use_label_encoder=False, eval_metric='logloss', random_state=SEED),\n",
    "    \"CLF\": CatBoostClassifier(silent=True),\n",
    "    \"ADA\": AdaBoostClassifier(n_estimators=100,random_state=SEED),\n",
    "    \"GBRT\": GradientBoostingClassifier(max_depth=2, n_estimators=3, learning_rate=1.0, random_state=42)\n",
    "\n",
    "    \n",
    "}\n",
    "\n",
    "scorer = make_scorer(recall_score)"
   ]
  },
  {
   "cell_type": "code",
   "execution_count": 14,
   "id": "2987a05f-9843-4448-9af7-6ce9b2ff0ad1",
   "metadata": {
    "tags": []
   },
   "outputs": [
    {
     "name": "stdout",
     "output_type": "stream",
     "text": [
      "Optimal number of features : 19\n"
     ]
    },
    {
     "data": {
      "image/png": "[encoded data removed]",
      "text/plain": [
       "<Figure size 640x480 with 1 Axes>"
      ]
     },
     "metadata": {},
     "output_type": "display_data"
    }
   ],
   "source": [
    "name = 'LR'  # use any LR, DT\n",
    "model = models[name]\n",
    "\n",
    "rfecv = RFECV(estimator=model, step=1, cv=StratifiedKFold(4), scoring=scorer)\n",
    "rfecv.fit(df_train, y_train)\n",
    "print(\"Optimal number of features : %d\" % rfecv.n_features_)\n",
    "\n",
    "# Plot number of features VS. cross-validation scores\n",
    "plt.figure()\n",
    "plt.title(f\"{name} with RFECV\")\n",
    "plt.xlabel(\"Number of features selected\")\n",
    "plt.ylabel(\"Cross validation score\")\n",
    "results = rfecv.cv_results_\n",
    "plt.plot(range(1, len(results['mean_test_score']) + 1), results['split0_test_score'], label='split0')\n",
    "plt.plot(range(1, len(results['mean_test_score']) + 1), results['split1_test_score'], label='split1')\n",
    "plt.plot(range(1, len(results['mean_test_score']) + 1), results['mean_test_score'], label='mean')\n",
    "plt.legend()\n",
    "plt.show()"
   ]
  },
  {
   "cell_type": "code",
   "execution_count": 15,
   "id": "76c9fd2f-328a-498c-b0f1-cb5394ffdba0",
   "metadata": {},
   "outputs": [
    {
     "data": {
      "text/plain": [
       "['Marital_Status_Divorced',\n",
       " 'Marital_Status_Married',\n",
       " 'Marital_Status_Single',\n",
       " 'Current',\n",
       " 'Deposit',\n",
       " 'Investment',\n",
       " 'Joint',\n",
       " 'Loan',\n",
       " 'Mortgage',\n",
       " 'On Demand Deposit',\n",
       " 'Card',\n",
       " 'Customer_Service_Calls',\n",
       " 'Average_Utilisation_Ratio',\n",
       " 'Age',\n",
       " 'Education',\n",
       " 'Dependents',\n",
       " 'Income',\n",
       " 'Avg_Transaction',\n",
       " 'Num_Transactions']"
      ]
     },
     "execution_count": 15,
     "metadata": {},
     "output_type": "execute_result"
    }
   ],
   "source": [
    "if len(rfecv.support_)<len(df_train.columns):\n",
    "    print(\"It looks like you have run cells out of order. Runn cells from Pre-Processing Data (2)\")\n",
    "\n",
    "features_selected = np.array(df_train.columns)[rfecv.support_].tolist()\n",
    "features_selected"
   ]
  },
  {
   "cell_type": "markdown",
   "id": "4ffecf0a-64aa-4bda-a9e5-9fa45f86db00",
   "metadata": {
    "tags": []
   },
   "source": [
    "### SMOTE"
   ]
  },
  {
   "cell_type": "markdown",
   "id": "294b6c05-2d21-4e23-a4bc-aecc6427c9a3",
   "metadata": {},
   "source": [
    "#### Define Pipeline"
   ]
  },
  {
   "cell_type": "code",
   "execution_count": 16,
   "id": "150866d6-a65a-4d3d-9ad0-cdeaa377fa71",
   "metadata": {},
   "outputs": [],
   "source": [
    "over = SMOTE(sampling_strategy=0.7)\n",
    "under = RandomUnderSampler(sampling_strategy=0.4)\n",
    "#steps = [('o', over),('u',under)]\n",
    "steps = [('o', over)]\n",
    "pipeline = Pipeline(steps=steps)"
   ]
  },
  {
   "cell_type": "markdown",
   "id": "efca75c8-5009-4ba5-8cf2-a75d5fc06f1b",
   "metadata": {},
   "source": [
    "#### Applying Smote to balance datasest"
   ]
  },
  {
   "cell_type": "code",
   "execution_count": 17,
   "id": "03dd8a97-8d8d-479f-b520-7b92a71f772b",
   "metadata": {},
   "outputs": [],
   "source": [
    "#X_smote, y_smote = pipeline.fit_resample(df_train,y_train)\n",
    "X_smote, y_smote = pipeline.fit_resample(df_train[features_selected],y_train)"
   ]
  },
  {
   "cell_type": "code",
   "execution_count": 18,
   "id": "151ea6c5-61e4-4517-8559-ddc96ac6ee38",
   "metadata": {},
   "outputs": [
    {
     "name": "stderr",
     "output_type": "stream",
     "text": [
      "/home/PStefans/.local/lib/python3.10/site-packages/seaborn/_decorators.py:36: FutureWarning: Pass the following variable as a keyword arg: x. From version 0.12, the only valid positional argument will be `data`, and passing other arguments without an explicit keyword will result in an error or misinterpretation.\n",
      "  warnings.warn(\n",
      "/home/PStefans/.local/lib/python3.10/site-packages/seaborn/_decorators.py:36: FutureWarning: Pass the following variable as a keyword arg: x. From version 0.12, the only valid positional argument will be `data`, and passing other arguments without an explicit keyword will result in an error or misinterpretation.\n",
      "  warnings.warn(\n"
     ]
    },
    {
     "data": {
      "image/png": "[encoded data removed]",
      "text/plain": [
       "<Figure size 1000x800 with 2 Axes>"
      ]
     },
     "metadata": {},
     "output_type": "display_data"
    },
    {
     "data": {
      "text/plain": [
       "Counter({0: 2951, 1: 2065})"
      ]
     },
     "execution_count": 18,
     "metadata": {},
     "output_type": "execute_result"
    }
   ],
   "source": [
    "plt.figure(figsize = (10, 8))\n",
    "plt.subplot(1, 2, 1)\n",
    "sns.countplot(y_train)\n",
    "plt.title('Ratio before SMOTE')\n",
    "plt.subplot(1, 2, 2)\n",
    "sns.countplot(y_smote)\n",
    "plt.title('Ratio after SMOTE')\n",
    "plt.show()\n",
    "Counter(y_smote)"
   ]
  },
  {
   "cell_type": "markdown",
   "id": "106ea866-42e0-4d83-8d88-7e4c1326b226",
   "metadata": {},
   "source": [
    "### Model Selection"
   ]
  },
  {
   "cell_type": "code",
   "execution_count": 19,
   "id": "85650e70-745a-4ec5-b009-f5399838bf30",
   "metadata": {},
   "outputs": [
    {
     "name": "stdout",
     "output_type": "stream",
     "text": [
      "LR Recall: 0.46 (+/- 0.13)\n",
      "DT Recall: 0.72 (+/- 0.11)\n",
      "KNN Recall: 0.45 (+/- 0.14)\n",
      "RF Recall: 0.71 (+/- 0.11)\n",
      "ET Recall: 0.54 (+/- 0.15)\n",
      "CLF Recall: 0.79 (+/- 0.09)\n",
      "ADA Recall: 0.74 (+/- 0.13)\n",
      "GBRT Recall: 0.59 (+/- 0.17)\n"
     ]
    }
   ],
   "source": [
    "cv = StratifiedKFold(n_splits=10, shuffle=True, random_state=SEED)\n",
    "for name,model in models.items():\n",
    "    scores = cross_val_score(model, df_train, y_train, cv=cv, scoring=scorer)\n",
    "    #scores = cross_val_score(model, df_train[features_selected], y_train, cv=cv, scoring=scorer)\n",
    "    #scores = cross_val_score(model, X_smote, y_smote, cv=cv, scoring=scorer)\n",
    "    print(name, \"Recall: %0.2f (+/- %0.2f)\" % (scores.mean(), scores.std() * 2))"
   ]
  },
  {
   "cell_type": "code",
   "execution_count": 20,
   "id": "8683d9f3-d3ae-41d9-966f-0d276dde11a2",
   "metadata": {},
   "outputs": [
    {
     "data": {
      "text/plain": [
       "array([0, 0, 0, ..., 0, 0, 0])"
      ]
     },
     "execution_count": 20,
     "metadata": {},
     "output_type": "execute_result"
    }
   ],
   "source": [
    "model = CatBoostClassifier(silent=True)\n",
    "model.fit(df_train, y_train)\n",
    "#model.fit(df_train[features_selected], y_train)\n",
    "#model.fit(X_smote, y_smote)\n",
    "y_pred = model.predict(df_test)\n",
    "y_pred"
   ]
  },
  {
   "cell_type": "code",
   "execution_count": 21,
   "id": "86817ba1-26fa-4c46-86a1-b70bf529dd42",
   "metadata": {},
   "outputs": [
    {
     "data": {
      "text/plain": [
       "array([0, 1])"
      ]
     },
     "execution_count": 21,
     "metadata": {},
     "output_type": "execute_result"
    }
   ],
   "source": [
    "np.unique(y_pred)"
   ]
  },
  {
   "cell_type": "code",
   "execution_count": 22,
   "id": "2c8ff063-ab43-4ab3-875f-fb1bb7269c1b",
   "metadata": {},
   "outputs": [],
   "source": [
    "def showDiagnostics(y_test, y_pred):\n",
    "  # Model Accuracy, how often is the classifier correct?\n",
    "  print(\"Accuracy:\",accuracy_score(y_test, y_pred))\n",
    "  print(\"Confusion Matrix:\")\n",
    "  print(confusion_matrix(y_test, y_pred))\n",
    "  print(\"Classification Report:\")\n",
    "  print(classification_report(y_test, y_pred, digits=3))"
   ]
  },
  {
   "cell_type": "code",
   "execution_count": 23,
   "id": "79d3b6f4-0526-4f35-a1fb-91d4d3e35688",
   "metadata": {},
   "outputs": [
    {
     "name": "stdout",
     "output_type": "stream",
     "text": [
      "Accuracy: 0.9507072438919846\n",
      "Confusion Matrix:\n",
      "[[1929   39]\n",
      " [  76  289]]\n",
      "Classification Report:\n",
      "              precision    recall  f1-score   support\n",
      "\n",
      "           0      0.962     0.980     0.971      1968\n",
      "           1      0.881     0.792     0.834       365\n",
      "\n",
      "    accuracy                          0.951      2333\n",
      "   macro avg      0.922     0.886     0.903      2333\n",
      "weighted avg      0.949     0.951     0.950      2333\n",
      "\n"
     ]
    }
   ],
   "source": [
    "showDiagnostics(y_test,y_pred)"
   ]
  },
  {
   "cell_type": "markdown",
   "id": "f0e8da06-4625-41ba-af31-743478d0ae97",
   "metadata": {},
   "source": [
    "## Generate predictions"
   ]
  },
  {
   "cell_type": "code",
   "execution_count": 24,
   "id": "2f07cd08-e0b5-4210-802f-920df760c2b0",
   "metadata": {},
   "outputs": [],
   "source": [
    "y_pred = model.predict(df_churn_test)"
   ]
  },
  {
   "cell_type": "code",
   "execution_count": 25,
   "id": "9e62b5dc-63e9-4e91-891b-fdd60500ca16",
   "metadata": {},
   "outputs": [
    {
     "name": "stdout",
     "output_type": "stream",
     "text": [
      "(3542, 2)\n",
      "    Customer Churn\n",
      "0  708182832    No\n",
      "1  708240660    No\n",
      "2  708249778    No\n",
      "3  708259785    No\n",
      "4  708264579    No\n"
     ]
    }
   ],
   "source": [
    "df_pred = pd.DataFrame({'Churn': y_pred}, index=df_churn_test.index)\n",
    "df_pred = df_pred.Churn.map( {0:'No', 1:\"Yes\"} )\n",
    "df_pred = df_pred.reset_index()\n",
    "print(df_pred.shape)\n",
    "print(df_pred.head(5))\n",
    "df_pred.to_csv(\"./orig/output/pred.csv\",index=False)\n"
   ]
  },
  {
   "cell_type": "markdown",
   "id": "f972895c-1cc4-4b00-9b9a-006735ed8f38",
   "metadata": {},
   "source": [
    "#### Kaggle Scores\n",
    "- No Feature Engineering - 0.950 - CLF\n",
    "- Basic Feature Engineering and SMOTE 0.944 -CLF\n",
    "- SMOTE and Feature Selection - 0.942 CLF\n",
    "- Feature Engineering Cat to Num, Smote - 0.938 - CLF\n",
    "- Feature Engineering Cat to Num - 0.952 -CLF"
   ]
  },
  {
   "cell_type": "code",
   "execution_count": null,
   "id": "339f0795-d29a-4f6e-9c8e-e7d09f4bac0e",
   "metadata": {},
   "outputs": [],
   "source": []
  }
 ],
 "metadata": {
  "kernelspec": {
   "display_name": "Python 3 (ipykernel)",
   "language": "python",
   "name": "python3"
  },
  "language_info": {
   "codemirror_mode": {
    "name": "ipython",
    "version": 3
   },
   "file_extension": ".py",
   "mimetype": "text/x-python",
   "name": "python",
   "nbconvert_exporter": "python",
   "pygments_lexer": "ipython3",
   "version": "3.10.2"
  }
 },
 "nbformat": 4,
 "nbformat_minor": 5
}
