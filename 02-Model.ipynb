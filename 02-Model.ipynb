{
 "cells": [
  {
   "cell_type": "markdown",
   "id": "d6138d0d-4365-457a-8d8b-ef29ed622332",
   "metadata": {},
   "source": [
    "# Model"
   ]
  },
  {
   "cell_type": "markdown",
   "id": "8459e880-a7d7-4d5f-8bcd-7b8b9574e2c9",
   "metadata": {},
   "source": [
    "## Imports"
   ]
  },
  {
   "cell_type": "code",
   "execution_count": 1,
   "id": "a04efeb2-7647-4779-b0b1-1c4238cf8f39",
   "metadata": {},
   "outputs": [],
   "source": [
    "import pandas as pd\n",
    "import numpy as np\n",
    "import matplotlib.pyplot as plt\n",
    "import seaborn as sns\n",
    "\n",
    "import warnings\n",
    "warnings.simplefilter(action='ignore', category=UserWarning)\n",
    "\n",
    "from sklearn.model_selection import train_test_split\n",
    "\n",
    "from sklearn.preprocessing import StandardScaler,OneHotEncoder\n",
    "\n",
    "from sklearn.linear_model import LogisticRegression\n",
    "from sklearn.svm import SVC\n",
    "from sklearn.tree import DecisionTreeClassifier\n",
    "from sklearn.neighbors import KNeighborsClassifier\n",
    "from sklearn.ensemble import RandomForestClassifier, ExtraTreesClassifier, AdaBoostClassifier, GradientBoostingClassifier\n",
    "from xgboost import XGBClassifier\n",
    "\n",
    "from sklearn.model_selection import cross_val_score, StratifiedKFold\n",
    "from sklearn.metrics import classification_report, confusion_matrix, accuracy_score,recall_score, make_scorer\n",
    "\n",
    "from sklearn.feature_selection import RFECV\n",
    "\n",
    "from catboost import CatBoostClassifier\n",
    "\n",
    "from collections import Counter\n",
    "from sklearn.datasets import make_classification\n",
    "from imblearn.over_sampling import SMOTE\n",
    "from imblearn.under_sampling import RandomUnderSampler\n",
    "from imblearn.pipeline import Pipeline\n",
    "from matplotlib import pyplot\n",
    "from numpy import where\n",
    "\n",
    "from sklearn.ensemble import StackingClassifier\n",
    "\n",
    "DEBUG = False\n",
    "SEED = 666"
   ]
  },
  {
   "cell_type": "markdown",
   "id": "5d5115ff-2fcc-47a4-a8b4-812f6a99be11",
   "metadata": {},
   "source": [
    "## Load Data"
   ]
  },
  {
   "cell_type": "markdown",
   "id": "ba86ca39-4656-41e1-af9d-c96743bd0e51",
   "metadata": {},
   "source": [
    "### Data for predictions"
   ]
  },
  {
   "cell_type": "code",
   "execution_count": 2,
   "id": "bf817bc9-eda2-4e48-b95a-751c044764bd",
   "metadata": {},
   "outputs": [
    {
     "name": "stdout",
     "output_type": "stream",
     "text": [
      "(3542, 20)\n"
     ]
    },
    {
     "data": {
      "text/html": [
       "<div>\n",
       "<style scoped>\n",
       "    .dataframe tbody tr th:only-of-type {\n",
       "        vertical-align: middle;\n",
       "    }\n",
       "\n",
       "    .dataframe tbody tr th {\n",
       "        vertical-align: top;\n",
       "    }\n",
       "\n",
       "    .dataframe thead th {\n",
       "        text-align: right;\n",
       "    }\n",
       "</style>\n",
       "<table border=\"1\" class=\"dataframe\">\n",
       "  <thead>\n",
       "    <tr style=\"text-align: right;\">\n",
       "      <th></th>\n",
       "      <th>Current</th>\n",
       "      <th>Deposit</th>\n",
       "      <th>Investment</th>\n",
       "      <th>Joint</th>\n",
       "      <th>Loan</th>\n",
       "      <th>Mortgage</th>\n",
       "      <th>On Demand Deposit</th>\n",
       "      <th>Card</th>\n",
       "      <th>Customer_Service_Calls</th>\n",
       "      <th>Credit_Limit</th>\n",
       "      <th>Total_Revolving_Balance</th>\n",
       "      <th>Average_Open_To_Buy</th>\n",
       "      <th>Age</th>\n",
       "      <th>Education</th>\n",
       "      <th>Marital_Status</th>\n",
       "      <th>Dependents</th>\n",
       "      <th>Income</th>\n",
       "      <th>Total_Transactions</th>\n",
       "      <th>Num_Transactions</th>\n",
       "      <th>Loyalty</th>\n",
       "    </tr>\n",
       "    <tr>\n",
       "      <th>Customer</th>\n",
       "      <th></th>\n",
       "      <th></th>\n",
       "      <th></th>\n",
       "      <th></th>\n",
       "      <th></th>\n",
       "      <th></th>\n",
       "      <th></th>\n",
       "      <th></th>\n",
       "      <th></th>\n",
       "      <th></th>\n",
       "      <th></th>\n",
       "      <th></th>\n",
       "      <th></th>\n",
       "      <th></th>\n",
       "      <th></th>\n",
       "      <th></th>\n",
       "      <th></th>\n",
       "      <th></th>\n",
       "      <th></th>\n",
       "      <th></th>\n",
       "    </tr>\n",
       "  </thead>\n",
       "  <tbody>\n",
       "    <tr>\n",
       "      <th>708182832</th>\n",
       "      <td>1</td>\n",
       "      <td>1</td>\n",
       "      <td>1</td>\n",
       "      <td>0</td>\n",
       "      <td>0</td>\n",
       "      <td>0</td>\n",
       "      <td>0</td>\n",
       "      <td>1</td>\n",
       "      <td>1</td>\n",
       "      <td>3375.0</td>\n",
       "      <td>1730</td>\n",
       "      <td>1645.0</td>\n",
       "      <td>37</td>\n",
       "      <td>5</td>\n",
       "      <td>Single</td>\n",
       "      <td>2</td>\n",
       "      <td>2</td>\n",
       "      <td>4341.01</td>\n",
       "      <td>64</td>\n",
       "      <td>824</td>\n",
       "    </tr>\n",
       "  </tbody>\n",
       "</table>\n",
       "</div>"
      ],
      "text/plain": [
       "           Current  Deposit  Investment  Joint  Loan  Mortgage  \\\n",
       "Customer                                                         \n",
       "708182832        1        1           1      0     0         0   \n",
       "\n",
       "           On Demand Deposit  Card  Customer_Service_Calls  Credit_Limit  \\\n",
       "Customer                                                                   \n",
       "708182832                  0     1                       1        3375.0   \n",
       "\n",
       "           Total_Revolving_Balance  Average_Open_To_Buy  Age  Education  \\\n",
       "Customer                                                                  \n",
       "708182832                     1730               1645.0   37          5   \n",
       "\n",
       "          Marital_Status  Dependents  Income  Total_Transactions  \\\n",
       "Customer                                                           \n",
       "708182832         Single           2       2             4341.01   \n",
       "\n",
       "           Num_Transactions  Loyalty  \n",
       "Customer                              \n",
       "708182832                64      824  "
      ]
     },
     "execution_count": 2,
     "metadata": {},
     "output_type": "execute_result"
    }
   ],
   "source": [
    "df_churn_test = pd.read_pickle(\"./orig/data/churn_test.pkl\")\n",
    "print(df_churn_test.shape)\n",
    "df_churn_test.head(1)"
   ]
  },
  {
   "cell_type": "markdown",
   "id": "d6677af0-ff4f-4630-97e1-a2c039655f01",
   "metadata": {},
   "source": [
    "### Training data"
   ]
  },
  {
   "cell_type": "code",
   "execution_count": 3,
   "id": "ef248904-8840-49a9-a80c-4dc63a6e7a80",
   "metadata": {},
   "outputs": [
    {
     "name": "stdout",
     "output_type": "stream",
     "text": [
      "(5831, 21)\n"
     ]
    },
    {
     "data": {
      "text/html": [
       "<div>\n",
       "<style scoped>\n",
       "    .dataframe tbody tr th:only-of-type {\n",
       "        vertical-align: middle;\n",
       "    }\n",
       "\n",
       "    .dataframe tbody tr th {\n",
       "        vertical-align: top;\n",
       "    }\n",
       "\n",
       "    .dataframe thead th {\n",
       "        text-align: right;\n",
       "    }\n",
       "</style>\n",
       "<table border=\"1\" class=\"dataframe\">\n",
       "  <thead>\n",
       "    <tr style=\"text-align: right;\">\n",
       "      <th></th>\n",
       "      <th>Current</th>\n",
       "      <th>Deposit</th>\n",
       "      <th>Investment</th>\n",
       "      <th>Joint</th>\n",
       "      <th>Loan</th>\n",
       "      <th>Mortgage</th>\n",
       "      <th>On Demand Deposit</th>\n",
       "      <th>Churn</th>\n",
       "      <th>Card</th>\n",
       "      <th>Customer_Service_Calls</th>\n",
       "      <th>...</th>\n",
       "      <th>Total_Revolving_Balance</th>\n",
       "      <th>Average_Open_To_Buy</th>\n",
       "      <th>Age</th>\n",
       "      <th>Education</th>\n",
       "      <th>Marital_Status</th>\n",
       "      <th>Dependents</th>\n",
       "      <th>Income</th>\n",
       "      <th>Total_Transactions</th>\n",
       "      <th>Num_Transactions</th>\n",
       "      <th>Loyalty</th>\n",
       "    </tr>\n",
       "    <tr>\n",
       "      <th>Customer</th>\n",
       "      <th></th>\n",
       "      <th></th>\n",
       "      <th></th>\n",
       "      <th></th>\n",
       "      <th></th>\n",
       "      <th></th>\n",
       "      <th></th>\n",
       "      <th></th>\n",
       "      <th></th>\n",
       "      <th></th>\n",
       "      <th></th>\n",
       "      <th></th>\n",
       "      <th></th>\n",
       "      <th></th>\n",
       "      <th></th>\n",
       "      <th></th>\n",
       "      <th></th>\n",
       "      <th></th>\n",
       "      <th></th>\n",
       "      <th></th>\n",
       "      <th></th>\n",
       "    </tr>\n",
       "  </thead>\n",
       "  <tbody>\n",
       "    <tr>\n",
       "      <th>708115009</th>\n",
       "      <td>0</td>\n",
       "      <td>0</td>\n",
       "      <td>0</td>\n",
       "      <td>0</td>\n",
       "      <td>0</td>\n",
       "      <td>0</td>\n",
       "      <td>0</td>\n",
       "      <td>Yes</td>\n",
       "      <td>1</td>\n",
       "      <td>3</td>\n",
       "      <td>...</td>\n",
       "      <td>0</td>\n",
       "      <td>5398.0</td>\n",
       "      <td>47.0</td>\n",
       "      <td>1</td>\n",
       "      <td>Single</td>\n",
       "      <td>3</td>\n",
       "      <td>1</td>\n",
       "      <td>1886.99</td>\n",
       "      <td>36</td>\n",
       "      <td>1159</td>\n",
       "    </tr>\n",
       "  </tbody>\n",
       "</table>\n",
       "<p>1 rows × 21 columns</p>\n",
       "</div>"
      ],
      "text/plain": [
       "           Current  Deposit  Investment  Joint  Loan  Mortgage  \\\n",
       "Customer                                                         \n",
       "708115009        0        0           0      0     0         0   \n",
       "\n",
       "           On Demand Deposit Churn  Card  Customer_Service_Calls  ...  \\\n",
       "Customer                                                          ...   \n",
       "708115009                  0   Yes     1                       3  ...   \n",
       "\n",
       "           Total_Revolving_Balance  Average_Open_To_Buy   Age  Education  \\\n",
       "Customer                                                                   \n",
       "708115009                        0               5398.0  47.0          1   \n",
       "\n",
       "           Marital_Status Dependents  Income  Total_Transactions  \\\n",
       "Customer                                                           \n",
       "708115009          Single          3       1             1886.99   \n",
       "\n",
       "           Num_Transactions  Loyalty  \n",
       "Customer                              \n",
       "708115009                36     1159  \n",
       "\n",
       "[1 rows x 21 columns]"
      ]
     },
     "execution_count": 3,
     "metadata": {},
     "output_type": "execute_result"
    }
   ],
   "source": [
    "df = pd.read_pickle(\"./orig/data/churn_train.pkl\")\n",
    "print(df.shape)\n",
    "df.head(1)"
   ]
  },
  {
   "cell_type": "code",
   "execution_count": 4,
   "id": "77af0caa-4f51-480f-b53c-52bac9be5289",
   "metadata": {},
   "outputs": [
    {
     "data": {
      "text/plain": [
       "Current                       int64\n",
       "Deposit                       int64\n",
       "Investment                    int64\n",
       "Joint                         int64\n",
       "Loan                          int64\n",
       "Mortgage                      int64\n",
       "On Demand Deposit             int64\n",
       "Churn                      category\n",
       "Card                          int64\n",
       "Customer_Service_Calls        int64\n",
       "Credit_Limit                float64\n",
       "Total_Revolving_Balance       int64\n",
       "Average_Open_To_Buy         float64\n",
       "Age                         float64\n",
       "Education                     int64\n",
       "Marital_Status             category\n",
       "Dependents                    int64\n",
       "Income                        int64\n",
       "Total_Transactions          float64\n",
       "Num_Transactions              int64\n",
       "Loyalty                       int64\n",
       "dtype: object"
      ]
     },
     "execution_count": 4,
     "metadata": {},
     "output_type": "execute_result"
    }
   ],
   "source": [
    "df.dtypes"
   ]
  },
  {
   "cell_type": "markdown",
   "id": "7161535b-20d7-4b9e-a84c-173df701789a",
   "metadata": {},
   "source": [
    "#### Features and Target"
   ]
  },
  {
   "cell_type": "code",
   "execution_count": 5,
   "id": "384f88b6-68cf-4734-acd6-d488f062b47b",
   "metadata": {},
   "outputs": [
    {
     "name": "stdout",
     "output_type": "stream",
     "text": [
      "Target: Churn\n",
      "Categorical Features: ['Marital_Status']\n",
      "Numerical Features: ['Current', 'Deposit', 'Investment', 'Joint', 'Loan', 'Mortgage', 'On Demand Deposit', 'Card', 'Customer_Service_Calls', 'Credit_Limit', 'Total_Revolving_Balance', 'Average_Open_To_Buy', 'Age', 'Education', 'Dependents', 'Income', 'Total_Transactions', 'Num_Transactions', 'Loyalty']\n"
     ]
    }
   ],
   "source": [
    "target = \"Churn\"\n",
    "cat_features = [c for c in df.select_dtypes(\"category\").columns if c not in target]\n",
    "num_features = [c for c in df.select_dtypes([\"int\",\"float\"]).columns if c not in target]\n",
    "features = cat_features + num_features\n",
    "\n",
    "\n",
    "print(f\"Target: {target}\")\n",
    "\n",
    "print(f\"Categorical Features: {cat_features}\")\n",
    "print(f\"Numerical Features: {num_features}\")"
   ]
  },
  {
   "cell_type": "markdown",
   "id": "6fda6011-defd-47b8-9a92-2a0513b0874c",
   "metadata": {},
   "source": [
    "## Check Target Values"
   ]
  },
  {
   "cell_type": "code",
   "execution_count": 6,
   "id": "277bc318-bf50-4103-9f27-4d91b90b971c",
   "metadata": {},
   "outputs": [
    {
     "data": {
      "text/plain": [
       "No     4919\n",
       "Yes     912\n",
       "Name: Churn, dtype: int64"
      ]
     },
     "execution_count": 6,
     "metadata": {},
     "output_type": "execute_result"
    }
   ],
   "source": [
    "df[target].value_counts()"
   ]
  },
  {
   "cell_type": "code",
   "execution_count": 7,
   "id": "270a390a-9864-4b21-9a87-28927da4e60b",
   "metadata": {},
   "outputs": [
    {
     "data": {
      "text/plain": [
       "0"
      ]
     },
     "execution_count": 7,
     "metadata": {},
     "output_type": "execute_result"
    }
   ],
   "source": [
    "df.isna().sum().sum()"
   ]
  },
  {
   "cell_type": "markdown",
   "id": "49851bc7-f946-4ba5-ab70-416f6d4bc610",
   "metadata": {},
   "source": [
    "### Comments\n",
    "- From the relative frequencies above we can see clearly that the dataset is unbalanced.\n",
    "- We will attempt to use a Synthetic Minority Oversampling Technique (SMOTE) to balance out the dataset later on."
   ]
  },
  {
   "cell_type": "markdown",
   "id": "8b7dcae2-f7ad-49da-b9ee-7b6716714593",
   "metadata": {},
   "source": [
    "## Encode Categorical Values"
   ]
  },
  {
   "cell_type": "markdown",
   "id": "30870280-3a06-4b3e-9be3-6cc40486b08a",
   "metadata": {
    "tags": []
   },
   "source": [
    "### Train-Test Split"
   ]
  },
  {
   "cell_type": "code",
   "execution_count": 8,
   "id": "470db3c1-d759-4a60-b49d-85512196a49a",
   "metadata": {},
   "outputs": [
    {
     "data": {
      "text/plain": [
       "((3498, 20), (2333, 20))"
      ]
     },
     "execution_count": 8,
     "metadata": {},
     "output_type": "execute_result"
    }
   ],
   "source": [
    "df_train, df_test, y_train, y_test = train_test_split(df[features], df[target], train_size=0.6, stratify=df[target], random_state=SEED)\n",
    "df_train.shape, df_test.shape"
   ]
  },
  {
   "cell_type": "markdown",
   "id": "f2a52a6f-5ebf-47ff-be09-da3511415bf9",
   "metadata": {},
   "source": [
    "## Encoding Values"
   ]
  },
  {
   "cell_type": "code",
   "execution_count": 9,
   "id": "36c1ab84-f340-4663-98d3-96967dc19a2e",
   "metadata": {},
   "outputs": [],
   "source": [
    "def encode_df(df_train, y_train):\n",
    "    cat_e = OneHotEncoder()\n",
    "    num_e = StandardScaler()\n",
    "    \n",
    "    data = cat_e.fit_transform(df_train[cat_features]).toarray()\n",
    "    index = df_train.index\n",
    "    columns = cat_e.get_feature_names_out()\n",
    "    df_cat = pd.DataFrame(data=data, index=index, columns=columns)\n",
    "\n",
    "    data = num_e.fit_transform(df_train[num_features])\n",
    "    index = df_train.index\n",
    "    columns = num_features\n",
    "    df_num = pd.DataFrame(data=data, index=index, columns=num_features)\n",
    "    df_num = df_train[num_features]\n",
    "    \n",
    "    df_train = pd.concat([df_cat, df_num], axis=1)\n",
    "    \n",
    "    y_train = y_train.map( {'No':0, \"Yes\":1} )\n",
    "    \n",
    "    return df_train, y_train"
   ]
  },
  {
   "cell_type": "markdown",
   "id": "d0ffd225-ec5f-4d5c-ac40-59e84e7038a5",
   "metadata": {},
   "source": [
    "### Encode churn pred dataframe"
   ]
  },
  {
   "cell_type": "code",
   "execution_count": 10,
   "id": "8df65937-35ed-4caf-b512-c5c8b030e2b4",
   "metadata": {},
   "outputs": [
    {
     "data": {
      "text/html": [
       "<div>\n",
       "<style scoped>\n",
       "    .dataframe tbody tr th:only-of-type {\n",
       "        vertical-align: middle;\n",
       "    }\n",
       "\n",
       "    .dataframe tbody tr th {\n",
       "        vertical-align: top;\n",
       "    }\n",
       "\n",
       "    .dataframe thead th {\n",
       "        text-align: right;\n",
       "    }\n",
       "</style>\n",
       "<table border=\"1\" class=\"dataframe\">\n",
       "  <thead>\n",
       "    <tr style=\"text-align: right;\">\n",
       "      <th></th>\n",
       "      <th>Marital_Status_Divorced</th>\n",
       "      <th>Marital_Status_Married</th>\n",
       "      <th>Marital_Status_Single</th>\n",
       "      <th>Marital_Status_Unknown</th>\n",
       "      <th>Current</th>\n",
       "      <th>Deposit</th>\n",
       "      <th>Investment</th>\n",
       "      <th>Joint</th>\n",
       "      <th>Loan</th>\n",
       "      <th>Mortgage</th>\n",
       "      <th>...</th>\n",
       "      <th>Credit_Limit</th>\n",
       "      <th>Total_Revolving_Balance</th>\n",
       "      <th>Average_Open_To_Buy</th>\n",
       "      <th>Age</th>\n",
       "      <th>Education</th>\n",
       "      <th>Dependents</th>\n",
       "      <th>Income</th>\n",
       "      <th>Total_Transactions</th>\n",
       "      <th>Num_Transactions</th>\n",
       "      <th>Loyalty</th>\n",
       "    </tr>\n",
       "    <tr>\n",
       "      <th>Customer</th>\n",
       "      <th></th>\n",
       "      <th></th>\n",
       "      <th></th>\n",
       "      <th></th>\n",
       "      <th></th>\n",
       "      <th></th>\n",
       "      <th></th>\n",
       "      <th></th>\n",
       "      <th></th>\n",
       "      <th></th>\n",
       "      <th></th>\n",
       "      <th></th>\n",
       "      <th></th>\n",
       "      <th></th>\n",
       "      <th></th>\n",
       "      <th></th>\n",
       "      <th></th>\n",
       "      <th></th>\n",
       "      <th></th>\n",
       "      <th></th>\n",
       "      <th></th>\n",
       "    </tr>\n",
       "  </thead>\n",
       "  <tbody>\n",
       "    <tr>\n",
       "      <th>708182832</th>\n",
       "      <td>0.0</td>\n",
       "      <td>0.0</td>\n",
       "      <td>1.0</td>\n",
       "      <td>0.0</td>\n",
       "      <td>1</td>\n",
       "      <td>1</td>\n",
       "      <td>1</td>\n",
       "      <td>0</td>\n",
       "      <td>0</td>\n",
       "      <td>0</td>\n",
       "      <td>...</td>\n",
       "      <td>3375.0</td>\n",
       "      <td>1730</td>\n",
       "      <td>1645.0</td>\n",
       "      <td>37</td>\n",
       "      <td>5</td>\n",
       "      <td>2</td>\n",
       "      <td>2</td>\n",
       "      <td>4341.01</td>\n",
       "      <td>64</td>\n",
       "      <td>824</td>\n",
       "    </tr>\n",
       "  </tbody>\n",
       "</table>\n",
       "<p>1 rows × 23 columns</p>\n",
       "</div>"
      ],
      "text/plain": [
       "           Marital_Status_Divorced  Marital_Status_Married  \\\n",
       "Customer                                                     \n",
       "708182832                      0.0                     0.0   \n",
       "\n",
       "           Marital_Status_Single  Marital_Status_Unknown  Current  Deposit  \\\n",
       "Customer                                                                     \n",
       "708182832                    1.0                     0.0        1        1   \n",
       "\n",
       "           Investment  Joint  Loan  Mortgage  ...  Credit_Limit  \\\n",
       "Customer                                      ...                 \n",
       "708182832           1      0     0         0  ...        3375.0   \n",
       "\n",
       "           Total_Revolving_Balance  Average_Open_To_Buy  Age  Education  \\\n",
       "Customer                                                                  \n",
       "708182832                     1730               1645.0   37          5   \n",
       "\n",
       "           Dependents  Income  Total_Transactions  Num_Transactions  Loyalty  \n",
       "Customer                                                                      \n",
       "708182832           2       2             4341.01                64      824  \n",
       "\n",
       "[1 rows x 23 columns]"
      ]
     },
     "execution_count": 10,
     "metadata": {},
     "output_type": "execute_result"
    }
   ],
   "source": [
    "df_churn_test[\"Churn\"] = \"No\"\n",
    "df_churn_test , y_churn = encode_df(df_churn_test.iloc[:, :-1],df_churn_test[\"Churn\"])\n",
    "df_churn_test.head(1)\n",
    "#np.unique(df_churn_test.Marital_Status_Unknown)"
   ]
  },
  {
   "cell_type": "markdown",
   "id": "c1fd92ca-3318-4f28-81c6-080fc3d90c20",
   "metadata": {},
   "source": [
    "### Encode Train"
   ]
  },
  {
   "cell_type": "code",
   "execution_count": 11,
   "id": "f9c2c9b7-0d79-4b72-b01b-b294955b9ca8",
   "metadata": {},
   "outputs": [
    {
     "data": {
      "text/html": [
       "<div>\n",
       "<style scoped>\n",
       "    .dataframe tbody tr th:only-of-type {\n",
       "        vertical-align: middle;\n",
       "    }\n",
       "\n",
       "    .dataframe tbody tr th {\n",
       "        vertical-align: top;\n",
       "    }\n",
       "\n",
       "    .dataframe thead th {\n",
       "        text-align: right;\n",
       "    }\n",
       "</style>\n",
       "<table border=\"1\" class=\"dataframe\">\n",
       "  <thead>\n",
       "    <tr style=\"text-align: right;\">\n",
       "      <th></th>\n",
       "      <th>Marital_Status_Divorced</th>\n",
       "      <th>Marital_Status_Married</th>\n",
       "      <th>Marital_Status_Single</th>\n",
       "      <th>Current</th>\n",
       "      <th>Deposit</th>\n",
       "      <th>Investment</th>\n",
       "      <th>Joint</th>\n",
       "      <th>Loan</th>\n",
       "      <th>Mortgage</th>\n",
       "      <th>On Demand Deposit</th>\n",
       "      <th>...</th>\n",
       "      <th>Total_Revolving_Balance</th>\n",
       "      <th>Average_Open_To_Buy</th>\n",
       "      <th>Age</th>\n",
       "      <th>Marital_Status_Unknown</th>\n",
       "      <th>Education</th>\n",
       "      <th>Dependents</th>\n",
       "      <th>Income</th>\n",
       "      <th>Total_Transactions</th>\n",
       "      <th>Num_Transactions</th>\n",
       "      <th>Loyalty</th>\n",
       "    </tr>\n",
       "    <tr>\n",
       "      <th>Customer</th>\n",
       "      <th></th>\n",
       "      <th></th>\n",
       "      <th></th>\n",
       "      <th></th>\n",
       "      <th></th>\n",
       "      <th></th>\n",
       "      <th></th>\n",
       "      <th></th>\n",
       "      <th></th>\n",
       "      <th></th>\n",
       "      <th></th>\n",
       "      <th></th>\n",
       "      <th></th>\n",
       "      <th></th>\n",
       "      <th></th>\n",
       "      <th></th>\n",
       "      <th></th>\n",
       "      <th></th>\n",
       "      <th></th>\n",
       "      <th></th>\n",
       "      <th></th>\n",
       "    </tr>\n",
       "  </thead>\n",
       "  <tbody>\n",
       "    <tr>\n",
       "      <th>793319878</th>\n",
       "      <td>0.0</td>\n",
       "      <td>1.0</td>\n",
       "      <td>0.0</td>\n",
       "      <td>1</td>\n",
       "      <td>1</td>\n",
       "      <td>0</td>\n",
       "      <td>0</td>\n",
       "      <td>0</td>\n",
       "      <td>0</td>\n",
       "      <td>0</td>\n",
       "      <td>...</td>\n",
       "      <td>944</td>\n",
       "      <td>621.0</td>\n",
       "      <td>51.0</td>\n",
       "      <td>0</td>\n",
       "      <td>5</td>\n",
       "      <td>3</td>\n",
       "      <td>2</td>\n",
       "      <td>4798.03</td>\n",
       "      <td>73</td>\n",
       "      <td>1190</td>\n",
       "    </tr>\n",
       "  </tbody>\n",
       "</table>\n",
       "<p>1 rows × 23 columns</p>\n",
       "</div>"
      ],
      "text/plain": [
       "           Marital_Status_Divorced  Marital_Status_Married  \\\n",
       "Customer                                                     \n",
       "793319878                      0.0                     1.0   \n",
       "\n",
       "           Marital_Status_Single  Current  Deposit  Investment  Joint  Loan  \\\n",
       "Customer                                                                      \n",
       "793319878                    0.0        1        1           0      0     0   \n",
       "\n",
       "           Mortgage  On Demand Deposit  ...  Total_Revolving_Balance  \\\n",
       "Customer                                ...                            \n",
       "793319878         0                  0  ...                      944   \n",
       "\n",
       "           Average_Open_To_Buy   Age  Marital_Status_Unknown  Education  \\\n",
       "Customer                                                                  \n",
       "793319878                621.0  51.0                       0          5   \n",
       "\n",
       "           Dependents  Income  Total_Transactions  Num_Transactions  Loyalty  \n",
       "Customer                                                                      \n",
       "793319878           3       2             4798.03                73     1190  \n",
       "\n",
       "[1 rows x 23 columns]"
      ]
     },
     "metadata": {},
     "output_type": "display_data"
    }
   ],
   "source": [
    "df_train, y_train = encode_df(df_train,y_train)\n",
    "df_train.insert(loc=16, column='Marital_Status_Unknown',value=0)\n",
    "display(df_train.head(1))"
   ]
  },
  {
   "cell_type": "markdown",
   "id": "8ec57161-dff4-43ea-ad85-328812afd911",
   "metadata": {
    "jp-MarkdownHeadingCollapsed": true,
    "tags": []
   },
   "source": [
    "#### Comment:\n",
    "- OHE still doesnt add columns for categorical values that dont show up in a dataframe so we have to manually add in a marital status column to match the testing dataframe for churn"
   ]
  },
  {
   "cell_type": "markdown",
   "id": "9a8ff452-ab63-4d26-8adf-782b0a0e4254",
   "metadata": {},
   "source": [
    "### Encode Test"
   ]
  },
  {
   "cell_type": "code",
   "execution_count": 12,
   "id": "e316ad01-4b03-4c45-bfc3-c0238108e619",
   "metadata": {},
   "outputs": [
    {
     "data": {
      "text/html": [
       "<div>\n",
       "<style scoped>\n",
       "    .dataframe tbody tr th:only-of-type {\n",
       "        vertical-align: middle;\n",
       "    }\n",
       "\n",
       "    .dataframe tbody tr th {\n",
       "        vertical-align: top;\n",
       "    }\n",
       "\n",
       "    .dataframe thead th {\n",
       "        text-align: right;\n",
       "    }\n",
       "</style>\n",
       "<table border=\"1\" class=\"dataframe\">\n",
       "  <thead>\n",
       "    <tr style=\"text-align: right;\">\n",
       "      <th></th>\n",
       "      <th>Marital_Status_Divorced</th>\n",
       "      <th>Marital_Status_Married</th>\n",
       "      <th>Marital_Status_Single</th>\n",
       "      <th>Current</th>\n",
       "      <th>Deposit</th>\n",
       "      <th>Investment</th>\n",
       "      <th>Joint</th>\n",
       "      <th>Loan</th>\n",
       "      <th>Mortgage</th>\n",
       "      <th>On Demand Deposit</th>\n",
       "      <th>...</th>\n",
       "      <th>Total_Revolving_Balance</th>\n",
       "      <th>Average_Open_To_Buy</th>\n",
       "      <th>Age</th>\n",
       "      <th>Marital_Status_Unknown</th>\n",
       "      <th>Education</th>\n",
       "      <th>Dependents</th>\n",
       "      <th>Income</th>\n",
       "      <th>Total_Transactions</th>\n",
       "      <th>Num_Transactions</th>\n",
       "      <th>Loyalty</th>\n",
       "    </tr>\n",
       "    <tr>\n",
       "      <th>Customer</th>\n",
       "      <th></th>\n",
       "      <th></th>\n",
       "      <th></th>\n",
       "      <th></th>\n",
       "      <th></th>\n",
       "      <th></th>\n",
       "      <th></th>\n",
       "      <th></th>\n",
       "      <th></th>\n",
       "      <th></th>\n",
       "      <th></th>\n",
       "      <th></th>\n",
       "      <th></th>\n",
       "      <th></th>\n",
       "      <th></th>\n",
       "      <th></th>\n",
       "      <th></th>\n",
       "      <th></th>\n",
       "      <th></th>\n",
       "      <th></th>\n",
       "      <th></th>\n",
       "    </tr>\n",
       "  </thead>\n",
       "  <tbody>\n",
       "    <tr>\n",
       "      <th>767479181</th>\n",
       "      <td>0.0</td>\n",
       "      <td>1.0</td>\n",
       "      <td>0.0</td>\n",
       "      <td>1</td>\n",
       "      <td>1</td>\n",
       "      <td>1</td>\n",
       "      <td>0</td>\n",
       "      <td>0</td>\n",
       "      <td>0</td>\n",
       "      <td>0</td>\n",
       "      <td>...</td>\n",
       "      <td>1335</td>\n",
       "      <td>12138.0</td>\n",
       "      <td>47.0</td>\n",
       "      <td>0</td>\n",
       "      <td>3</td>\n",
       "      <td>3</td>\n",
       "      <td>0</td>\n",
       "      <td>1593.04</td>\n",
       "      <td>46</td>\n",
       "      <td>1404</td>\n",
       "    </tr>\n",
       "  </tbody>\n",
       "</table>\n",
       "<p>1 rows × 23 columns</p>\n",
       "</div>"
      ],
      "text/plain": [
       "           Marital_Status_Divorced  Marital_Status_Married  \\\n",
       "Customer                                                     \n",
       "767479181                      0.0                     1.0   \n",
       "\n",
       "           Marital_Status_Single  Current  Deposit  Investment  Joint  Loan  \\\n",
       "Customer                                                                      \n",
       "767479181                    0.0        1        1           1      0     0   \n",
       "\n",
       "           Mortgage  On Demand Deposit  ...  Total_Revolving_Balance  \\\n",
       "Customer                                ...                            \n",
       "767479181         0                  0  ...                     1335   \n",
       "\n",
       "           Average_Open_To_Buy   Age  Marital_Status_Unknown  Education  \\\n",
       "Customer                                                                  \n",
       "767479181              12138.0  47.0                       0          3   \n",
       "\n",
       "           Dependents  Income  Total_Transactions  Num_Transactions  Loyalty  \n",
       "Customer                                                                      \n",
       "767479181           3       0             1593.04                46     1404  \n",
       "\n",
       "[1 rows x 23 columns]"
      ]
     },
     "metadata": {},
     "output_type": "display_data"
    }
   ],
   "source": [
    "df_test, y_test = encode_df(df_test, y_test)\n",
    "df_test.insert(loc=16, column='Marital_Status_Unknown',value=0)\n",
    "display(df_test.head(1))"
   ]
  },
  {
   "cell_type": "markdown",
   "id": "10b2e148-a765-46b4-96d7-f64a56c4b5b0",
   "metadata": {
    "tags": []
   },
   "source": [
    "### Feature Selection"
   ]
  },
  {
   "cell_type": "code",
   "execution_count": 13,
   "id": "71733454-daac-4c7a-b972-e66008d3d24f",
   "metadata": {},
   "outputs": [],
   "source": [
    "models = {\n",
    "    \"LR\": LogisticRegression(max_iter=1000),\n",
    "    \"DT\": DecisionTreeClassifier(),\n",
    "    \"KNN\": KNeighborsClassifier(),\n",
    "    \"RF\": RandomForestClassifier(),\n",
    "    \"ET\": ExtraTreesClassifier(),\n",
    "    #\"XGB\": XGBClassifier(use_label_encoder=False, eval_metric='logloss', random_state=SEED),\n",
    "    \"CB\": CatBoostClassifier(silent=True),\n",
    "    \"CB_HPT\": CatBoostClassifier(depth=7,iterations=50, learning_rate=0.1,silent=True),\n",
    "    \"ADA\": AdaBoostClassifier(n_estimators=100,random_state=SEED),\n",
    "    \"GBRT\": GradientBoostingClassifier(max_depth=2, n_estimators=3, learning_rate=1.0, random_state=42)\n",
    "\n",
    "    \n",
    "}\n",
    "\n",
    "scorer = make_scorer(recall_score)"
   ]
  },
  {
   "cell_type": "code",
   "execution_count": 14,
   "id": "2987a05f-9843-4448-9af7-6ce9b2ff0ad1",
   "metadata": {
    "tags": []
   },
   "outputs": [
    {
     "name": "stdout",
     "output_type": "stream",
     "text": [
      "Optimal number of features : 18\n"
     ]
    },
    {
     "data": {
      "image/png": "[encoded data removed]",
      "text/plain": [
       "<Figure size 640x480 with 1 Axes>"
      ]
     },
     "metadata": {},
     "output_type": "display_data"
    }
   ],
   "source": [
    "name = 'LR'  # use any LR, DT\n",
    "model = models[name]\n",
    "\n",
    "rfecv = RFECV(estimator=model, step=1, cv=StratifiedKFold(4), scoring=scorer)\n",
    "rfecv.fit(df_train, y_train)\n",
    "print(\"Optimal number of features : %d\" % rfecv.n_features_)\n",
    "\n",
    "# Plot number of features VS. cross-validation scores\n",
    "plt.figure()\n",
    "plt.title(f\"{name} with RFECV\")\n",
    "plt.xlabel(\"Number of features selected\")\n",
    "plt.ylabel(\"Cross validation score\")\n",
    "results = rfecv.cv_results_\n",
    "plt.plot(range(1, len(results['mean_test_score']) + 1), results['split0_test_score'], label='split0')\n",
    "plt.plot(range(1, len(results['mean_test_score']) + 1), results['split1_test_score'], label='split1')\n",
    "plt.plot(range(1, len(results['mean_test_score']) + 1), results['mean_test_score'], label='mean')\n",
    "plt.legend()\n",
    "plt.show()"
   ]
  },
  {
   "cell_type": "code",
   "execution_count": 15,
   "id": "76c9fd2f-328a-498c-b0f1-cb5394ffdba0",
   "metadata": {},
   "outputs": [
    {
     "data": {
      "text/plain": [
       "['Marital_Status_Divorced',\n",
       " 'Marital_Status_Married',\n",
       " 'Marital_Status_Single',\n",
       " 'Current',\n",
       " 'Deposit',\n",
       " 'Investment',\n",
       " 'Joint',\n",
       " 'Loan',\n",
       " 'Mortgage',\n",
       " 'On Demand Deposit',\n",
       " 'Card',\n",
       " 'Customer_Service_Calls',\n",
       " 'Total_Revolving_Balance',\n",
       " 'Age',\n",
       " 'Education',\n",
       " 'Dependents',\n",
       " 'Income',\n",
       " 'Num_Transactions']"
      ]
     },
     "execution_count": 15,
     "metadata": {},
     "output_type": "execute_result"
    }
   ],
   "source": [
    "if len(rfecv.support_)<len(df_train.columns):\n",
    "    print(\"It looks like you have run cells out of order. Runn cells from Pre-Processing Data (2)\")\n",
    "\n",
    "features_selected = np.array(df_train.columns)[rfecv.support_].tolist()\n",
    "features_selected"
   ]
  },
  {
   "cell_type": "markdown",
   "id": "4ffecf0a-64aa-4bda-a9e5-9fa45f86db00",
   "metadata": {
    "jp-MarkdownHeadingCollapsed": true,
    "tags": []
   },
   "source": [
    "### SMOTE"
   ]
  },
  {
   "cell_type": "markdown",
   "id": "294b6c05-2d21-4e23-a4bc-aecc6427c9a3",
   "metadata": {
    "tags": []
   },
   "source": [
    "#### Define Pipeline"
   ]
  },
  {
   "cell_type": "code",
   "execution_count": 16,
   "id": "150866d6-a65a-4d3d-9ad0-cdeaa377fa71",
   "metadata": {},
   "outputs": [],
   "source": [
    "over = SMOTE(sampling_strategy=0.4)\n",
    "under = RandomUnderSampler(sampling_strategy=0.4)\n",
    "#steps = [('o', over),('u',under)]\n",
    "steps = [('o', over)]\n",
    "pipeline = Pipeline(steps=steps)"
   ]
  },
  {
   "cell_type": "markdown",
   "id": "efca75c8-5009-4ba5-8cf2-a75d5fc06f1b",
   "metadata": {},
   "source": [
    "#### Applying Smote to balance datasest"
   ]
  },
  {
   "cell_type": "code",
   "execution_count": 17,
   "id": "03dd8a97-8d8d-479f-b520-7b92a71f772b",
   "metadata": {},
   "outputs": [],
   "source": [
    "X_smote, y_smote = pipeline.fit_resample(df_train,y_train)\n",
    "#X_smote, y_smote = pipeline.fit_resample(df_train[features_selected],y_train)"
   ]
  },
  {
   "cell_type": "code",
   "execution_count": 18,
   "id": "151ea6c5-61e4-4517-8559-ddc96ac6ee38",
   "metadata": {},
   "outputs": [
    {
     "name": "stderr",
     "output_type": "stream",
     "text": [
      "/home/PStefans/.local/lib/python3.10/site-packages/seaborn/_decorators.py:36: FutureWarning: Pass the following variable as a keyword arg: x. From version 0.12, the only valid positional argument will be `data`, and passing other arguments without an explicit keyword will result in an error or misinterpretation.\n",
      "  warnings.warn(\n",
      "/home/PStefans/.local/lib/python3.10/site-packages/seaborn/_decorators.py:36: FutureWarning: Pass the following variable as a keyword arg: x. From version 0.12, the only valid positional argument will be `data`, and passing other arguments without an explicit keyword will result in an error or misinterpretation.\n",
      "  warnings.warn(\n"
     ]
    },
    {
     "data": {
      "image/png": "[encoded data removed]",
      "text/plain": [
       "<Figure size 1000x800 with 2 Axes>"
      ]
     },
     "metadata": {},
     "output_type": "display_data"
    },
    {
     "data": {
      "text/plain": [
       "Counter({0: 2951, 1: 1180})"
      ]
     },
     "execution_count": 18,
     "metadata": {},
     "output_type": "execute_result"
    }
   ],
   "source": [
    "plt.figure(figsize = (10, 8))\n",
    "plt.subplot(1, 2, 1)\n",
    "sns.countplot(y_train)\n",
    "plt.title('Ratio before SMOTE')\n",
    "plt.subplot(1, 2, 2)\n",
    "sns.countplot(y_smote)\n",
    "plt.title('Ratio after SMOTE')\n",
    "plt.show()\n",
    "Counter(y_smote)"
   ]
  },
  {
   "cell_type": "markdown",
   "id": "106ea866-42e0-4d83-8d88-7e4c1326b226",
   "metadata": {
    "tags": []
   },
   "source": [
    "### Model Selection"
   ]
  },
  {
   "cell_type": "code",
   "execution_count": null,
   "id": "8a379944-c709-4e5d-9041-cf4d944d47fd",
   "metadata": {},
   "outputs": [
    {
     "name": "stdout",
     "output_type": "stream",
     "text": [
      "LR Recall: 0.46 (+/- 0.14)\n",
      "DT Recall: 0.72 (+/- 0.16)\n",
      "KNN Recall: 0.51 (+/- 0.11)\n",
      "RF Recall: 0.65 (+/- 0.14)\n",
      "ET Recall: 0.52 (+/- 0.14)\n"
     ]
    }
   ],
   "source": [
    "cv = StratifiedKFold(n_splits=10, shuffle=True, random_state=SEED)\n",
    "for name,model in models.items():\n",
    "    scores = cross_val_score(model, df_train, y_train, cv=cv, scoring=scorer)\n",
    "    #scores = cross_val_score(model, df_train[features_selected], y_train, cv=cv, scoring=scorer)\n",
    "    #scores = cross_val_score(model, X_smote, y_smote, cv=cv, scoring=scorer)\n",
    "    print(name, \"Recall: %0.2f (+/- %0.2f)\" % (scores.mean(), scores.std() * 2))"
   ]
  },
  {
   "cell_type": "code",
   "execution_count": null,
   "id": "8683d9f3-d3ae-41d9-966f-0d276dde11a2",
   "metadata": {},
   "outputs": [],
   "source": [
    "model = CatBoostClassifier(silent=True)\n",
    "model.fit(df_train, y_train)\n",
    "#model.fit(df_train[features_selected], y_train)\n",
    "#model.fit(X_smote, y_smote)\n",
    "y_pred = model.predict(df_test)\n",
    "y_pred"
   ]
  },
  {
   "cell_type": "code",
   "execution_count": null,
   "id": "86817ba1-26fa-4c46-86a1-b70bf529dd42",
   "metadata": {},
   "outputs": [],
   "source": [
    "np.unique(y_pred)"
   ]
  },
  {
   "cell_type": "code",
   "execution_count": null,
   "id": "2c8ff063-ab43-4ab3-875f-fb1bb7269c1b",
   "metadata": {},
   "outputs": [],
   "source": [
    "def showDiagnostics(y_test, y_pred):\n",
    "  # Model Accuracy, how often is the classifier correct?\n",
    "  print(\"Accuracy:\",accuracy_score(y_test, y_pred))\n",
    "  print(\"Confusion Matrix:\")\n",
    "  print(confusion_matrix(y_test, y_pred))\n",
    "  print(\"Classification Report:\")\n",
    "  print(classification_report(y_test, y_pred, digits=3))"
   ]
  },
  {
   "cell_type": "markdown",
   "id": "74c1dcaa-4726-4697-847d-0275c9467382",
   "metadata": {
    "tags": []
   },
   "source": [
    "### CatBoost"
   ]
  },
  {
   "cell_type": "code",
   "execution_count": null,
   "id": "df090321-a8c5-45c4-803b-038d27069154",
   "metadata": {},
   "outputs": [],
   "source": [
    "showDiagnostics(y_test,y_pred)"
   ]
  },
  {
   "cell_type": "markdown",
   "id": "5c0ad95e-0cb5-49fd-b8f1-dce6ea2a4290",
   "metadata": {
    "tags": []
   },
   "source": [
    "### Stacked Learner"
   ]
  },
  {
   "cell_type": "code",
   "execution_count": null,
   "id": "e98ebe10-2592-446c-a2be-dcca146ff6cb",
   "metadata": {},
   "outputs": [],
   "source": [
    "# level_0_models =  {\n",
    "#     \"DT\": DecisionTreeClassifier(),\n",
    "#     \"RF\": RandomForestClassifier(),\n",
    "#     \"ADA\": AdaBoostClassifier(n_estimators=100,random_state=SEED),\n",
    "#     \"ET\": ExtraTreesClassifier(),\n",
    "#     \"KNN\": KNeighborsClassifier()\n",
    "# }\n",
    "\n",
    "level_0_models = models\n",
    "\n",
    "level_1_model = models['CB']"
   ]
  },
  {
   "cell_type": "code",
   "execution_count": null,
   "id": "210218ba-192b-45d1-a15a-300503cbdca7",
   "metadata": {},
   "outputs": [],
   "source": [
    "cv = StratifiedKFold(n_splits=10, shuffle=True, random_state=SEED)\n",
    "\n",
    "stacking_model = StackingClassifier(\n",
    "    estimators=list(level_0_models.items()), final_estimator=level_1_model, \n",
    "    passthrough=True, cv=cv, stack_method=\"predict_proba\")"
   ]
  },
  {
   "cell_type": "code",
   "execution_count": null,
   "id": "d016fcc4-cae5-4f0c-a866-da200e400e21",
   "metadata": {},
   "outputs": [],
   "source": [
    "#stacking_model.fit(df_train, y_train)\n",
    "#tmp = stacking_model.fit_transform(X_smote, y_smote)\n",
    "tmp = stacking_model.fit_transform(df_train, y_train)"
   ]
  },
  {
   "cell_type": "code",
   "execution_count": null,
   "id": "338c71e3-ae2a-485f-b147-36869e2e2fc8",
   "metadata": {},
   "outputs": [],
   "source": [
    "level_0_columns = [f\"{name}_prediction\" for name in level_0_models.keys()]\n",
    "level_0_columns\n",
    "df_stacked = pd.DataFrame(tmp, columns=level_0_columns+list(X_smote.columns))\n",
    "df_stacked.head()"
   ]
  },
  {
   "cell_type": "code",
   "execution_count": null,
   "id": "8bcbb80e-b6c0-4f2d-9e2e-88d34df25355",
   "metadata": {},
   "outputs": [],
   "source": [
    "y_pred_stacking = stacking_model.predict(df_test)\n",
    "\n",
    "showDiagnostics(y_test, y_pred_stacking)"
   ]
  },
  {
   "cell_type": "markdown",
   "id": "861abf16-7e10-4809-9689-493dea6383f9",
   "metadata": {
    "tags": []
   },
   "source": [
    "## Ensemble Learning"
   ]
  },
  {
   "cell_type": "code",
   "execution_count": null,
   "id": "3d909615-5078-448b-885f-623c7c8720be",
   "metadata": {},
   "outputs": [],
   "source": [
    "base_estimator = DecisionTreeClassifier(max_depth=1)\n",
    "\n",
    "CatBoost_CLF = CatBoostClassifier(silent=True)\n",
    "\n",
    "CatBoost_CLF.fit(df_train,y_train)\n",
    "#CatBoost_CLF.fit(X_smote, y_smote)"
   ]
  },
  {
   "cell_type": "code",
   "execution_count": null,
   "id": "aab949e6-5482-4d48-9c8d-b3ed7a5860d3",
   "metadata": {},
   "outputs": [],
   "source": [
    "CatBoost_CLF.score(df_train, y_train)\n",
    "#CatBoost_CLF.score(X_smote, y_smote)"
   ]
  },
  {
   "cell_type": "code",
   "execution_count": null,
   "id": "f07412cd-40a2-481c-9559-721b85e45943",
   "metadata": {},
   "outputs": [],
   "source": [
    "y_pred_ensemble = CatBoost_CLF.predict(df_test)"
   ]
  },
  {
   "cell_type": "code",
   "execution_count": null,
   "id": "13fcad19-5ce1-4bbe-889f-b164d1224ec4",
   "metadata": {},
   "outputs": [],
   "source": [
    "showDiagnostics(y_test, y_pred_ensemble)"
   ]
  },
  {
   "cell_type": "markdown",
   "id": "fc08ab55-c540-4f53-82ce-11dfab7d8154",
   "metadata": {
    "tags": []
   },
   "source": [
    "### CatBoost Hyper-parameter Tuning"
   ]
  },
  {
   "cell_type": "code",
   "execution_count": null,
   "id": "66d45f5d-73cf-4af1-b5d0-551b7ae68f04",
   "metadata": {},
   "outputs": [],
   "source": [
    "from catboost import CatBoostClassifier\n",
    "from sklearn.model_selection import GridSearchCV\n",
    "\n",
    "params = {\n",
    "    'iterations': [5, 20, 50, 100],\n",
    "    'learning_rate': [0.01, 0.1, 1],\n",
    "    'depth': [3, 5, 7,10,12]\n",
    "}\n",
    "\n",
    "catboost = CatBoostClassifier(silent=True)\n",
    "\n",
    "grid_search = GridSearchCV(catboost, params, cv=5, verbose=0)\n",
    "\n",
    "\n",
    "grid_search.fit(df_train, y_train)\n",
    "#grid_search.fit(X_smote, y_smote)\n",
    "\n",
    "print(grid_search.best_params_)"
   ]
  },
  {
   "cell_type": "code",
   "execution_count": null,
   "id": "c01195d4-8782-4160-91bb-b6f95947bce7",
   "metadata": {},
   "outputs": [],
   "source": [
    "CatBoost_HPT = CatBoostClassifier(depth=3,iterations=100, learning_rate=0.1,silent=True)"
   ]
  },
  {
   "cell_type": "code",
   "execution_count": null,
   "id": "8eff2a9e-0f6e-4e3e-b308-df8f98e7c91a",
   "metadata": {},
   "outputs": [],
   "source": [
    "CatBoost_HPT.fit(df_train,y_train)\n",
    "#CatBoost_HPT.fit(X_smote,y_smote)"
   ]
  },
  {
   "cell_type": "code",
   "execution_count": null,
   "id": "8cd21dfb-ade8-4568-9bc0-e9d5b6bda813",
   "metadata": {},
   "outputs": [],
   "source": [
    "y_pred_hpt = CatBoost_HPT.predict(df_test)\n",
    "showDiagnostics(y_test,y_pred_hpt)"
   ]
  },
  {
   "cell_type": "markdown",
   "id": "f0e8da06-4625-41ba-af31-743478d0ae97",
   "metadata": {},
   "source": [
    "## Generate predictions"
   ]
  },
  {
   "cell_type": "code",
   "execution_count": null,
   "id": "2f07cd08-e0b5-4210-802f-920df760c2b0",
   "metadata": {},
   "outputs": [],
   "source": [
    "#y_pred = model.predict(df_churn_test)\n",
    "y_pred = stacking_model.predict(df_churn_test)\n",
    "\n"
   ]
  },
  {
   "cell_type": "code",
   "execution_count": null,
   "id": "9e62b5dc-63e9-4e91-891b-fdd60500ca16",
   "metadata": {},
   "outputs": [],
   "source": [
    "df_pred = pd.DataFrame({'Churn': y_pred}, index=df_churn_test.index)\n",
    "df_pred = df_pred.Churn.map( {0:'No', 1:\"Yes\"} )\n",
    "df_pred = df_pred.reset_index()\n",
    "print(df_pred.shape)\n",
    "print(df_pred.head(5))\n",
    "df_pred.to_csv(\"./orig/output/pred.csv\",index=False)\n"
   ]
  },
  {
   "cell_type": "markdown",
   "id": "f972895c-1cc4-4b00-9b9a-006735ed8f38",
   "metadata": {},
   "source": [
    "## Kaggle Scores\n",
    "- No Feature Engineering - 0.950 - CLF\n",
    "- Basic Feature Engineering and SMOTE 0.944 -CLF\n",
    "- SMOTE and Feature Selection - 0.942 CLF\n",
    "- Feature Engineering Cat to Num, Smote - 0.938 - CLF\n",
    "- Feature Engineering Cat to Num - 0.952 -CLF\n",
    "- Featire Engineering Cat to Num, Stacked Learner - 0.93 - CLF\n",
    "- Cat Boost hyper parameter - 0.94 -CLF\n",
    "- Feature Engineering and HPT - 0.933\n",
    "- Feature Engineering and ensmble - 0.939\n",
    "- Feature Engineering and stacked -  0.934\n",
    "- Feature Engineering and feature selection - 0.904"
   ]
  },
  {
   "cell_type": "markdown",
   "id": "aaacf635-0dcc-45c5-9a9d-955831ce0019",
   "metadata": {},
   "source": [
    "## Conclusion\n",
    "- The best score was achieved with simple feature engineering and converting categorical values to numerical. \n",
    "- Different combintations of over and undersampling using SMOTE and RUS were evaluated, generally speaking the classification report indicated worse performance with smote. When oversampling was used by itself it gave better results in the classification report however this still ultimetely lead to lower scores on kaggle.\n",
    "- Stacked and Ensmble were both used to try an optimize the model, classification reports didnt differ much when they were used and never improved the kaggle scores.\n",
    "- Using the values from Hyper Parameter Tuning for CatBoostClassifier showed lower recall values than that off the basic CatBoost, I then decided not to use HyperParameter for the rest of my experimentations.\n",
    "- Feature Engineering with Cat to Num conversions during the EDA improved our baseline model  and gave us our highest score.\n",
    "- Feature Selection performed just as well as feature engineering with our baseline model however the results in kaggle were worse.\n",
    "- The best results were achieved with a basic model and more advanced feature engineering.\n",
    "\n",
    "I believe a better score could be achieved with a better application of feature engineering and more advnaced approach to stacked and ensemble learners. The results so far were good and spending more time fine tuning the model may not neccesarily result in significant imrovements at this point."
   ]
  },
  {
   "cell_type": "code",
   "execution_count": null,
   "id": "ae494ef1-1982-4d5d-a0be-4cbf75946788",
   "metadata": {},
   "outputs": [],
   "source": []
  }
 ],
 "metadata": {
  "kernelspec": {
   "display_name": "Python 3 (ipykernel)",
   "language": "python",
   "name": "python3"
  },
  "language_info": {
   "codemirror_mode": {
    "name": "ipython",
    "version": 3
   },
   "file_extension": ".py",
   "mimetype": "text/x-python",
   "name": "python",
   "nbconvert_exporter": "python",
   "pygments_lexer": "ipython3",
   "version": "3.10.2"
  },
  "toc-autonumbering": false,
  "toc-showtags": false
 },
 "nbformat": 4,
 "nbformat_minor": 5
}
