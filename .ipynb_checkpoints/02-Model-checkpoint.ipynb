{
 "cells": [
  {
   "cell_type": "markdown",
   "id": "d6138d0d-4365-457a-8d8b-ef29ed622332",
   "metadata": {},
   "source": [
    "# Model"
   ]
  },
  {
   "cell_type": "markdown",
   "id": "8459e880-a7d7-4d5f-8bcd-7b8b9574e2c9",
   "metadata": {},
   "source": [
    "## Imports"
   ]
  },
  {
   "cell_type": "code",
   "execution_count": 1,
   "id": "a04efeb2-7647-4779-b0b1-1c4238cf8f39",
   "metadata": {},
   "outputs": [],
   "source": [
    "import pandas as pd\n",
    "import numpy as np\n",
    "import matplotlib.pyplot as plt\n",
    "import seaborn as sns\n",
    "\n",
    "import warnings\n",
    "warnings.simplefilter(action='ignore', category=UserWarning)\n",
    "\n",
    "from sklearn.model_selection import train_test_split\n",
    "\n",
    "from sklearn.preprocessing import StandardScaler,OneHotEncoder\n",
    "\n",
    "from sklearn.linear_model import LogisticRegression\n",
    "from sklearn.svm import SVC\n",
    "from sklearn.tree import DecisionTreeClassifier\n",
    "from sklearn.neighbors import KNeighborsClassifier\n",
    "from sklearn.ensemble import RandomForestClassifier, ExtraTreesClassifier, AdaBoostClassifier\n",
    "from xgboost import XGBClassifier\n",
    "\n",
    "from sklearn.model_selection import cross_val_score, StratifiedKFold\n",
    "from sklearn.metrics import classification_report, confusion_matrix, accuracy_score,recall_score, make_scorer\n",
    "\n",
    "from catboost import CatBoostClassifier\n",
    "\n",
    "from sklearn.model_selection import cross_val_score\n",
    "from sklearn.metrics import confusion_matrix, classification_report\n",
    "import matplotlib.pyplot as plt\n",
    "\n",
    "DEBUG = False\n",
    "SEED = 666"
   ]
  },
  {
   "cell_type": "markdown",
   "id": "5d5115ff-2fcc-47a4-a8b4-812f6a99be11",
   "metadata": {},
   "source": [
    "## Load Data"
   ]
  },
  {
   "cell_type": "markdown",
   "id": "ba86ca39-4656-41e1-af9d-c96743bd0e51",
   "metadata": {},
   "source": [
    "### Data for predictions"
   ]
  },
  {
   "cell_type": "code",
   "execution_count": 2,
   "id": "bf817bc9-eda2-4e48-b95a-751c044764bd",
   "metadata": {},
   "outputs": [
    {
     "name": "stdout",
     "output_type": "stream",
     "text": [
      "(3542, 34)\n"
     ]
    },
    {
     "data": {
      "text/html": [
       "<div>\n",
       "<style scoped>\n",
       "    .dataframe tbody tr th:only-of-type {\n",
       "        vertical-align: middle;\n",
       "    }\n",
       "\n",
       "    .dataframe tbody tr th {\n",
       "        vertical-align: top;\n",
       "    }\n",
       "\n",
       "    .dataframe thead th {\n",
       "        text-align: right;\n",
       "    }\n",
       "</style>\n",
       "<table border=\"1\" class=\"dataframe\">\n",
       "  <thead>\n",
       "    <tr style=\"text-align: right;\">\n",
       "      <th></th>\n",
       "      <th>Credit Card</th>\n",
       "      <th>Current</th>\n",
       "      <th>Deposit</th>\n",
       "      <th>Investment</th>\n",
       "      <th>Joint</th>\n",
       "      <th>Loan</th>\n",
       "      <th>Mortgage</th>\n",
       "      <th>On Demand Deposit</th>\n",
       "      <th>Card</th>\n",
       "      <th>Customer_Service_Calls</th>\n",
       "      <th>...</th>\n",
       "      <th>Mar_Total</th>\n",
       "      <th>Apr_Total</th>\n",
       "      <th>May_Total</th>\n",
       "      <th>Jun_Total</th>\n",
       "      <th>Jul_Total</th>\n",
       "      <th>Aug_Total</th>\n",
       "      <th>Sep_Total</th>\n",
       "      <th>Oct_Total</th>\n",
       "      <th>Nov_Total</th>\n",
       "      <th>Dec_Total</th>\n",
       "    </tr>\n",
       "    <tr>\n",
       "      <th>Customer</th>\n",
       "      <th></th>\n",
       "      <th></th>\n",
       "      <th></th>\n",
       "      <th></th>\n",
       "      <th></th>\n",
       "      <th></th>\n",
       "      <th></th>\n",
       "      <th></th>\n",
       "      <th></th>\n",
       "      <th></th>\n",
       "      <th></th>\n",
       "      <th></th>\n",
       "      <th></th>\n",
       "      <th></th>\n",
       "      <th></th>\n",
       "      <th></th>\n",
       "      <th></th>\n",
       "      <th></th>\n",
       "      <th></th>\n",
       "      <th></th>\n",
       "      <th></th>\n",
       "    </tr>\n",
       "  </thead>\n",
       "  <tbody>\n",
       "    <tr>\n",
       "      <th>708182832</th>\n",
       "      <td>1</td>\n",
       "      <td>1</td>\n",
       "      <td>1</td>\n",
       "      <td>1</td>\n",
       "      <td>0</td>\n",
       "      <td>0</td>\n",
       "      <td>0</td>\n",
       "      <td>0</td>\n",
       "      <td>Silver</td>\n",
       "      <td>1</td>\n",
       "      <td>...</td>\n",
       "      <td>925.22</td>\n",
       "      <td>260.99</td>\n",
       "      <td>443.52</td>\n",
       "      <td>361.47</td>\n",
       "      <td>334.93</td>\n",
       "      <td>0.0</td>\n",
       "      <td>519.59</td>\n",
       "      <td>0.0</td>\n",
       "      <td>364.3</td>\n",
       "      <td>457.4</td>\n",
       "    </tr>\n",
       "  </tbody>\n",
       "</table>\n",
       "<p>1 rows × 34 columns</p>\n",
       "</div>"
      ],
      "text/plain": [
       "           Credit Card  Current  Deposit  Investment  Joint  Loan  Mortgage  \\\n",
       "Customer                                                                      \n",
       "708182832            1        1        1           1      0     0         0   \n",
       "\n",
       "           On Demand Deposit    Card  Customer_Service_Calls  ...  Mar_Total  \\\n",
       "Customer                                                      ...              \n",
       "708182832                  0  Silver                       1  ...     925.22   \n",
       "\n",
       "           Apr_Total  May_Total  Jun_Total  Jul_Total Aug_Total Sep_Total  \\\n",
       "Customer                                                                    \n",
       "708182832     260.99     443.52     361.47     334.93       0.0    519.59   \n",
       "\n",
       "          Oct_Total  Nov_Total Dec_Total  \n",
       "Customer                                  \n",
       "708182832       0.0      364.3     457.4  \n",
       "\n",
       "[1 rows x 34 columns]"
      ]
     },
     "execution_count": 2,
     "metadata": {},
     "output_type": "execute_result"
    }
   ],
   "source": [
    "df_churn_test = pd.read_pickle(\"./orig/data/churn_test.pkl\")\n",
    "print(df_churn_test.shape)\n",
    "df_churn_test.head(1)"
   ]
  },
  {
   "cell_type": "markdown",
   "id": "d6677af0-ff4f-4630-97e1-a2c039655f01",
   "metadata": {},
   "source": [
    "### Training data"
   ]
  },
  {
   "cell_type": "code",
   "execution_count": 3,
   "id": "ef248904-8840-49a9-a80c-4dc63a6e7a80",
   "metadata": {},
   "outputs": [
    {
     "name": "stdout",
     "output_type": "stream",
     "text": [
      "(5831, 35)\n"
     ]
    },
    {
     "data": {
      "text/html": [
       "<div>\n",
       "<style scoped>\n",
       "    .dataframe tbody tr th:only-of-type {\n",
       "        vertical-align: middle;\n",
       "    }\n",
       "\n",
       "    .dataframe tbody tr th {\n",
       "        vertical-align: top;\n",
       "    }\n",
       "\n",
       "    .dataframe thead th {\n",
       "        text-align: right;\n",
       "    }\n",
       "</style>\n",
       "<table border=\"1\" class=\"dataframe\">\n",
       "  <thead>\n",
       "    <tr style=\"text-align: right;\">\n",
       "      <th></th>\n",
       "      <th>Credit Card</th>\n",
       "      <th>Current</th>\n",
       "      <th>Deposit</th>\n",
       "      <th>Investment</th>\n",
       "      <th>Joint</th>\n",
       "      <th>Loan</th>\n",
       "      <th>Mortgage</th>\n",
       "      <th>On Demand Deposit</th>\n",
       "      <th>Churn</th>\n",
       "      <th>Card</th>\n",
       "      <th>...</th>\n",
       "      <th>Mar_Total</th>\n",
       "      <th>Apr_Total</th>\n",
       "      <th>May_Total</th>\n",
       "      <th>Jun_Total</th>\n",
       "      <th>Jul_Total</th>\n",
       "      <th>Aug_Total</th>\n",
       "      <th>Sep_Total</th>\n",
       "      <th>Oct_Total</th>\n",
       "      <th>Nov_Total</th>\n",
       "      <th>Dec_Total</th>\n",
       "    </tr>\n",
       "    <tr>\n",
       "      <th>Customer</th>\n",
       "      <th></th>\n",
       "      <th></th>\n",
       "      <th></th>\n",
       "      <th></th>\n",
       "      <th></th>\n",
       "      <th></th>\n",
       "      <th></th>\n",
       "      <th></th>\n",
       "      <th></th>\n",
       "      <th></th>\n",
       "      <th></th>\n",
       "      <th></th>\n",
       "      <th></th>\n",
       "      <th></th>\n",
       "      <th></th>\n",
       "      <th></th>\n",
       "      <th></th>\n",
       "      <th></th>\n",
       "      <th></th>\n",
       "      <th></th>\n",
       "      <th></th>\n",
       "    </tr>\n",
       "  </thead>\n",
       "  <tbody>\n",
       "    <tr>\n",
       "      <th>708115009</th>\n",
       "      <td>1</td>\n",
       "      <td>0</td>\n",
       "      <td>0</td>\n",
       "      <td>0</td>\n",
       "      <td>0</td>\n",
       "      <td>0</td>\n",
       "      <td>0</td>\n",
       "      <td>0</td>\n",
       "      <td>Yes</td>\n",
       "      <td>Silver</td>\n",
       "      <td>...</td>\n",
       "      <td>0.0</td>\n",
       "      <td>25.44</td>\n",
       "      <td>38.82</td>\n",
       "      <td>391.74</td>\n",
       "      <td>89.15</td>\n",
       "      <td>0.0</td>\n",
       "      <td>282.99</td>\n",
       "      <td>7.23</td>\n",
       "      <td>397.94</td>\n",
       "      <td>0.0</td>\n",
       "    </tr>\n",
       "  </tbody>\n",
       "</table>\n",
       "<p>1 rows × 35 columns</p>\n",
       "</div>"
      ],
      "text/plain": [
       "           Credit Card  Current  Deposit  Investment  Joint  Loan  Mortgage  \\\n",
       "Customer                                                                      \n",
       "708115009            1        0        0           0      0     0         0   \n",
       "\n",
       "           On Demand Deposit Churn    Card  ...  Mar_Total  Apr_Total  \\\n",
       "Customer                                    ...                         \n",
       "708115009                  0   Yes  Silver  ...        0.0      25.44   \n",
       "\n",
       "           May_Total  Jun_Total  Jul_Total  Aug_Total Sep_Total Oct_Total  \\\n",
       "Customer                                                                    \n",
       "708115009      38.82     391.74      89.15        0.0    282.99      7.23   \n",
       "\n",
       "          Nov_Total  Dec_Total  \n",
       "Customer                        \n",
       "708115009    397.94        0.0  \n",
       "\n",
       "[1 rows x 35 columns]"
      ]
     },
     "execution_count": 3,
     "metadata": {},
     "output_type": "execute_result"
    }
   ],
   "source": [
    "df = pd.read_pickle(\"./orig/data/churn_train.pkl\")\n",
    "print(df.shape)\n",
    "df.head(1)"
   ]
  },
  {
   "cell_type": "code",
   "execution_count": 4,
   "id": "77af0caa-4f51-480f-b53c-52bac9be5289",
   "metadata": {},
   "outputs": [
    {
     "data": {
      "text/plain": [
       "Credit Card                     int64\n",
       "Current                         int64\n",
       "Deposit                         int64\n",
       "Investment                      int64\n",
       "Joint                           int64\n",
       "Loan                            int64\n",
       "Mortgage                        int64\n",
       "On Demand Deposit               int64\n",
       "Churn                        category\n",
       "Card                         category\n",
       "Customer_Service_Calls          int64\n",
       "Credit_Limit                  float64\n",
       "Total_Revolving_Balance         int64\n",
       "Average_Open_To_Buy           float64\n",
       "Average_Utilisation_Ratio     float64\n",
       "Age                           float64\n",
       "Gender                       category\n",
       "Education                    category\n",
       "Marital_Status               category\n",
       "Dependents                      int64\n",
       "Income                       category\n",
       "Start_Year                   category\n",
       "Start_Day                    category\n",
       "Jan_Total                     float64\n",
       "Feb_Total                     float64\n",
       "Mar_Total                     float64\n",
       "Apr_Total                     float64\n",
       "May_Total                     float64\n",
       "Jun_Total                     float64\n",
       "Jul_Total                     float64\n",
       "Aug_Total                     float64\n",
       "Sep_Total                     float64\n",
       "Oct_Total                     float64\n",
       "Nov_Total                     float64\n",
       "Dec_Total                     float64\n",
       "dtype: object"
      ]
     },
     "execution_count": 4,
     "metadata": {},
     "output_type": "execute_result"
    }
   ],
   "source": [
    "df.dtypes"
   ]
  },
  {
   "cell_type": "markdown",
   "id": "7161535b-20d7-4b9e-a84c-173df701789a",
   "metadata": {},
   "source": [
    "#### Features and Target"
   ]
  },
  {
   "cell_type": "code",
   "execution_count": 5,
   "id": "384f88b6-68cf-4734-acd6-d488f062b47b",
   "metadata": {},
   "outputs": [
    {
     "name": "stdout",
     "output_type": "stream",
     "text": [
      "Target: Churn\n",
      "Categorical Features: ['Card', 'Gender', 'Education', 'Marital_Status', 'Income', 'Start_Year', 'Start_Day']\n",
      "Numerical Features: ['Credit Card', 'Current', 'Deposit', 'Investment', 'Joint', 'Loan', 'Mortgage', 'On Demand Deposit', 'Customer_Service_Calls', 'Credit_Limit', 'Total_Revolving_Balance', 'Average_Open_To_Buy', 'Average_Utilisation_Ratio', 'Age', 'Dependents', 'Jan_Total', 'Feb_Total', 'Mar_Total', 'Apr_Total', 'May_Total', 'Jun_Total', 'Jul_Total', 'Aug_Total', 'Sep_Total', 'Oct_Total', 'Nov_Total', 'Dec_Total']\n"
     ]
    }
   ],
   "source": [
    "target = \"Churn\"\n",
    "cat_features = [c for c in df.select_dtypes(\"category\").columns if c not in target]\n",
    "num_features = [c for c in df.select_dtypes([\"int\",\"float\"]).columns if c not in target]\n",
    "features = cat_features + num_features\n",
    "\n",
    "\n",
    "print(f\"Target: {target}\")\n",
    "\n",
    "print(f\"Categorical Features: {cat_features}\")\n",
    "print(f\"Numerical Features: {num_features}\")"
   ]
  },
  {
   "cell_type": "markdown",
   "id": "6fda6011-defd-47b8-9a92-2a0513b0874c",
   "metadata": {},
   "source": [
    "## Check Target Values"
   ]
  },
  {
   "cell_type": "code",
   "execution_count": 6,
   "id": "277bc318-bf50-4103-9f27-4d91b90b971c",
   "metadata": {},
   "outputs": [
    {
     "data": {
      "text/plain": [
       "No     0.843595\n",
       "Yes    0.156405\n",
       "Name: Churn, dtype: float64"
      ]
     },
     "execution_count": 6,
     "metadata": {},
     "output_type": "execute_result"
    }
   ],
   "source": [
    "df[target].value_counts(normalize=True)"
   ]
  },
  {
   "cell_type": "code",
   "execution_count": 7,
   "id": "270a390a-9864-4b21-9a87-28927da4e60b",
   "metadata": {},
   "outputs": [
    {
     "data": {
      "text/plain": [
       "0"
      ]
     },
     "execution_count": 7,
     "metadata": {},
     "output_type": "execute_result"
    }
   ],
   "source": [
    "df.isna().sum().sum()"
   ]
  },
  {
   "cell_type": "markdown",
   "id": "49851bc7-f946-4ba5-ab70-416f6d4bc610",
   "metadata": {},
   "source": [
    "### Comments\n",
    "- From the relative frequencies above we can see clearly that the dataset is unbalanced.\n",
    "- We will attempt to use a Synthetic Minority Oversampling Technique (SMOTE) to balance out the dataset later on."
   ]
  },
  {
   "cell_type": "markdown",
   "id": "8b7dcae2-f7ad-49da-b9ee-7b6716714593",
   "metadata": {},
   "source": [
    "## Encode Categorical Values"
   ]
  },
  {
   "cell_type": "markdown",
   "id": "30870280-3a06-4b3e-9be3-6cc40486b08a",
   "metadata": {
    "tags": []
   },
   "source": [
    "### Train-Test Split"
   ]
  },
  {
   "cell_type": "code",
   "execution_count": 8,
   "id": "470db3c1-d759-4a60-b49d-85512196a49a",
   "metadata": {},
   "outputs": [
    {
     "data": {
      "text/plain": [
       "((3498, 34), (2333, 34))"
      ]
     },
     "execution_count": 8,
     "metadata": {},
     "output_type": "execute_result"
    }
   ],
   "source": [
    "df_train, df_test, y_train, y_test = train_test_split(df[features], df[target], train_size=0.6, stratify=df[target], random_state=SEED)\n",
    "df_train.shape, df_test.shape"
   ]
  },
  {
   "cell_type": "markdown",
   "id": "f2a52a6f-5ebf-47ff-be09-da3511415bf9",
   "metadata": {},
   "source": [
    "## Encoding Values"
   ]
  },
  {
   "cell_type": "code",
   "execution_count": 9,
   "id": "36c1ab84-f340-4663-98d3-96967dc19a2e",
   "metadata": {},
   "outputs": [],
   "source": [
    "def encode_df(df_train, y_train):\n",
    "    cat_e = OneHotEncoder()\n",
    "    num_e = StandardScaler()\n",
    "    \n",
    "    data = cat_e.fit_transform(df_train[cat_features]).toarray()\n",
    "    index = df_train.index\n",
    "    columns = cat_e.get_feature_names_out()\n",
    "    df_cat = pd.DataFrame(data=data, index=index, columns=columns)\n",
    "\n",
    "    #data = num_e.fit_transform(df_train[num_features])\n",
    "    #index = df_train.index\n",
    "    #columns = num_features\n",
    "    #df_num = pd.DataFrame(data=data, index=index, columns=num_features)\n",
    "    df_num = df_train[num_features]\n",
    "    \n",
    "    df_train = pd.concat([df_cat, df_num], axis=1)\n",
    "    \n",
    "    y_train = y_train.map( {'No':0, \"Yes\":1} )\n",
    "    \n",
    "    return df_train, y_train"
   ]
  },
  {
   "cell_type": "markdown",
   "id": "d0ffd225-ec5f-4d5c-ac40-59e84e7038a5",
   "metadata": {},
   "source": [
    "### Encode churn pred dataframe"
   ]
  },
  {
   "cell_type": "code",
   "execution_count": 10,
   "id": "8df65937-35ed-4caf-b512-c5c8b030e2b4",
   "metadata": {},
   "outputs": [
    {
     "data": {
      "text/html": [
       "<div>\n",
       "<style scoped>\n",
       "    .dataframe tbody tr th:only-of-type {\n",
       "        vertical-align: middle;\n",
       "    }\n",
       "\n",
       "    .dataframe tbody tr th {\n",
       "        vertical-align: top;\n",
       "    }\n",
       "\n",
       "    .dataframe thead th {\n",
       "        text-align: right;\n",
       "    }\n",
       "</style>\n",
       "<table border=\"1\" class=\"dataframe\">\n",
       "  <thead>\n",
       "    <tr style=\"text-align: right;\">\n",
       "      <th></th>\n",
       "      <th>Card_Black</th>\n",
       "      <th>Card_Gold</th>\n",
       "      <th>Card_Platinum</th>\n",
       "      <th>Card_Silver</th>\n",
       "      <th>Gender_F</th>\n",
       "      <th>Gender_M</th>\n",
       "      <th>Education_Graduate</th>\n",
       "      <th>Education_MSc</th>\n",
       "      <th>Education_PhD</th>\n",
       "      <th>Education_Post LC</th>\n",
       "      <th>...</th>\n",
       "      <th>Mar_Total</th>\n",
       "      <th>Apr_Total</th>\n",
       "      <th>May_Total</th>\n",
       "      <th>Jun_Total</th>\n",
       "      <th>Jul_Total</th>\n",
       "      <th>Aug_Total</th>\n",
       "      <th>Sep_Total</th>\n",
       "      <th>Oct_Total</th>\n",
       "      <th>Nov_Total</th>\n",
       "      <th>Dec_Total</th>\n",
       "    </tr>\n",
       "    <tr>\n",
       "      <th>Customer</th>\n",
       "      <th></th>\n",
       "      <th></th>\n",
       "      <th></th>\n",
       "      <th></th>\n",
       "      <th></th>\n",
       "      <th></th>\n",
       "      <th></th>\n",
       "      <th></th>\n",
       "      <th></th>\n",
       "      <th></th>\n",
       "      <th></th>\n",
       "      <th></th>\n",
       "      <th></th>\n",
       "      <th></th>\n",
       "      <th></th>\n",
       "      <th></th>\n",
       "      <th></th>\n",
       "      <th></th>\n",
       "      <th></th>\n",
       "      <th></th>\n",
       "      <th></th>\n",
       "    </tr>\n",
       "  </thead>\n",
       "  <tbody>\n",
       "    <tr>\n",
       "      <th>708182832</th>\n",
       "      <td>0.0</td>\n",
       "      <td>0.0</td>\n",
       "      <td>0.0</td>\n",
       "      <td>1.0</td>\n",
       "      <td>1.0</td>\n",
       "      <td>0.0</td>\n",
       "      <td>1.0</td>\n",
       "      <td>0.0</td>\n",
       "      <td>0.0</td>\n",
       "      <td>0.0</td>\n",
       "      <td>...</td>\n",
       "      <td>925.22</td>\n",
       "      <td>260.99</td>\n",
       "      <td>443.52</td>\n",
       "      <td>361.47</td>\n",
       "      <td>334.93</td>\n",
       "      <td>0.0</td>\n",
       "      <td>519.59</td>\n",
       "      <td>0.0</td>\n",
       "      <td>364.3</td>\n",
       "      <td>457.4</td>\n",
       "    </tr>\n",
       "  </tbody>\n",
       "</table>\n",
       "<p>1 rows × 66 columns</p>\n",
       "</div>"
      ],
      "text/plain": [
       "           Card_Black  Card_Gold  Card_Platinum  Card_Silver  Gender_F  \\\n",
       "Customer                                                                 \n",
       "708182832         0.0        0.0            0.0          1.0       1.0   \n",
       "\n",
       "           Gender_M  Education_Graduate  Education_MSc  Education_PhD  \\\n",
       "Customer                                                                \n",
       "708182832       0.0                 1.0            0.0            0.0   \n",
       "\n",
       "           Education_Post LC  ...  Mar_Total  Apr_Total  May_Total  Jun_Total  \\\n",
       "Customer                      ...                                               \n",
       "708182832                0.0  ...     925.22     260.99     443.52     361.47   \n",
       "\n",
       "           Jul_Total  Aug_Total  Sep_Total  Oct_Total  Nov_Total  Dec_Total  \n",
       "Customer                                                                     \n",
       "708182832     334.93        0.0     519.59        0.0      364.3      457.4  \n",
       "\n",
       "[1 rows x 66 columns]"
      ]
     },
     "execution_count": 10,
     "metadata": {},
     "output_type": "execute_result"
    }
   ],
   "source": [
    "df_churn_test[\"Churn\"] = \"No\"\n",
    "df_churn_test , y_churn = encode_df(df_churn_test.iloc[:, :-1],df_churn_test[\"Churn\"])\n",
    "df_churn_test.head(1)\n",
    "#np.unique(df_churn_test.Marital_Status_Unknown)"
   ]
  },
  {
   "cell_type": "markdown",
   "id": "c1fd92ca-3318-4f28-81c6-080fc3d90c20",
   "metadata": {},
   "source": [
    "### Encode Train"
   ]
  },
  {
   "cell_type": "code",
   "execution_count": 11,
   "id": "f9c2c9b7-0d79-4b72-b01b-b294955b9ca8",
   "metadata": {},
   "outputs": [
    {
     "data": {
      "text/html": [
       "<div>\n",
       "<style scoped>\n",
       "    .dataframe tbody tr th:only-of-type {\n",
       "        vertical-align: middle;\n",
       "    }\n",
       "\n",
       "    .dataframe tbody tr th {\n",
       "        vertical-align: top;\n",
       "    }\n",
       "\n",
       "    .dataframe thead th {\n",
       "        text-align: right;\n",
       "    }\n",
       "</style>\n",
       "<table border=\"1\" class=\"dataframe\">\n",
       "  <thead>\n",
       "    <tr style=\"text-align: right;\">\n",
       "      <th></th>\n",
       "      <th>Card_Black</th>\n",
       "      <th>Card_Gold</th>\n",
       "      <th>Card_Platinum</th>\n",
       "      <th>Card_Silver</th>\n",
       "      <th>Gender_F</th>\n",
       "      <th>Gender_M</th>\n",
       "      <th>Education_Graduate</th>\n",
       "      <th>Education_MSc</th>\n",
       "      <th>Education_PhD</th>\n",
       "      <th>Education_Post LC</th>\n",
       "      <th>...</th>\n",
       "      <th>Mar_Total</th>\n",
       "      <th>Apr_Total</th>\n",
       "      <th>May_Total</th>\n",
       "      <th>Jun_Total</th>\n",
       "      <th>Jul_Total</th>\n",
       "      <th>Aug_Total</th>\n",
       "      <th>Sep_Total</th>\n",
       "      <th>Oct_Total</th>\n",
       "      <th>Nov_Total</th>\n",
       "      <th>Dec_Total</th>\n",
       "    </tr>\n",
       "    <tr>\n",
       "      <th>Customer</th>\n",
       "      <th></th>\n",
       "      <th></th>\n",
       "      <th></th>\n",
       "      <th></th>\n",
       "      <th></th>\n",
       "      <th></th>\n",
       "      <th></th>\n",
       "      <th></th>\n",
       "      <th></th>\n",
       "      <th></th>\n",
       "      <th></th>\n",
       "      <th></th>\n",
       "      <th></th>\n",
       "      <th></th>\n",
       "      <th></th>\n",
       "      <th></th>\n",
       "      <th></th>\n",
       "      <th></th>\n",
       "      <th></th>\n",
       "      <th></th>\n",
       "      <th></th>\n",
       "    </tr>\n",
       "  </thead>\n",
       "  <tbody>\n",
       "    <tr>\n",
       "      <th>793319878</th>\n",
       "      <td>0.0</td>\n",
       "      <td>0.0</td>\n",
       "      <td>0.0</td>\n",
       "      <td>1.0</td>\n",
       "      <td>1.0</td>\n",
       "      <td>0.0</td>\n",
       "      <td>1.0</td>\n",
       "      <td>0.0</td>\n",
       "      <td>0.0</td>\n",
       "      <td>0.0</td>\n",
       "      <td>...</td>\n",
       "      <td>0.0</td>\n",
       "      <td>1337.32</td>\n",
       "      <td>285.37</td>\n",
       "      <td>55.78</td>\n",
       "      <td>0.0</td>\n",
       "      <td>1603.73</td>\n",
       "      <td>0.0</td>\n",
       "      <td>137.97</td>\n",
       "      <td>206.07</td>\n",
       "      <td>362.12</td>\n",
       "    </tr>\n",
       "  </tbody>\n",
       "</table>\n",
       "<p>1 rows × 66 columns</p>\n",
       "</div>"
      ],
      "text/plain": [
       "           Card_Black  Card_Gold  Card_Platinum  Card_Silver  Gender_F  \\\n",
       "Customer                                                                 \n",
       "793319878         0.0        0.0            0.0          1.0       1.0   \n",
       "\n",
       "           Gender_M  Education_Graduate  Education_MSc  Education_PhD  \\\n",
       "Customer                                                                \n",
       "793319878       0.0                 1.0            0.0            0.0   \n",
       "\n",
       "           Education_Post LC  ...  Mar_Total  Apr_Total  May_Total  Jun_Total  \\\n",
       "Customer                      ...                                               \n",
       "793319878                0.0  ...        0.0    1337.32     285.37      55.78   \n",
       "\n",
       "           Jul_Total  Aug_Total  Sep_Total  Oct_Total  Nov_Total  Dec_Total  \n",
       "Customer                                                                     \n",
       "793319878        0.0    1603.73        0.0     137.97     206.07     362.12  \n",
       "\n",
       "[1 rows x 66 columns]"
      ]
     },
     "metadata": {},
     "output_type": "display_data"
    }
   ],
   "source": [
    "df_train, y_train = encode_df(df_train,y_train)\n",
    "df_train.insert(loc=16, column='Marital_Status_Unknown',value=0)\n",
    "display(df_train.head(1))"
   ]
  },
  {
   "cell_type": "markdown",
   "id": "8ec57161-dff4-43ea-ad85-328812afd911",
   "metadata": {},
   "source": [
    "#### Comment:\n",
    "- OHE still doesnt add columns for categorical values that dont show up in a dataframe so we have to manually add in a marital status column to match the testing dataframe for churn"
   ]
  },
  {
   "cell_type": "markdown",
   "id": "9a8ff452-ab63-4d26-8adf-782b0a0e4254",
   "metadata": {},
   "source": [
    "### Encode Test"
   ]
  },
  {
   "cell_type": "code",
   "execution_count": 12,
   "id": "e316ad01-4b03-4c45-bfc3-c0238108e619",
   "metadata": {},
   "outputs": [
    {
     "data": {
      "text/html": [
       "<div>\n",
       "<style scoped>\n",
       "    .dataframe tbody tr th:only-of-type {\n",
       "        vertical-align: middle;\n",
       "    }\n",
       "\n",
       "    .dataframe tbody tr th {\n",
       "        vertical-align: top;\n",
       "    }\n",
       "\n",
       "    .dataframe thead th {\n",
       "        text-align: right;\n",
       "    }\n",
       "</style>\n",
       "<table border=\"1\" class=\"dataframe\">\n",
       "  <thead>\n",
       "    <tr style=\"text-align: right;\">\n",
       "      <th></th>\n",
       "      <th>Card_Black</th>\n",
       "      <th>Card_Gold</th>\n",
       "      <th>Card_Platinum</th>\n",
       "      <th>Card_Silver</th>\n",
       "      <th>Gender_F</th>\n",
       "      <th>Gender_M</th>\n",
       "      <th>Education_Graduate</th>\n",
       "      <th>Education_MSc</th>\n",
       "      <th>Education_PhD</th>\n",
       "      <th>Education_Post LC</th>\n",
       "      <th>...</th>\n",
       "      <th>Mar_Total</th>\n",
       "      <th>Apr_Total</th>\n",
       "      <th>May_Total</th>\n",
       "      <th>Jun_Total</th>\n",
       "      <th>Jul_Total</th>\n",
       "      <th>Aug_Total</th>\n",
       "      <th>Sep_Total</th>\n",
       "      <th>Oct_Total</th>\n",
       "      <th>Nov_Total</th>\n",
       "      <th>Dec_Total</th>\n",
       "    </tr>\n",
       "    <tr>\n",
       "      <th>Customer</th>\n",
       "      <th></th>\n",
       "      <th></th>\n",
       "      <th></th>\n",
       "      <th></th>\n",
       "      <th></th>\n",
       "      <th></th>\n",
       "      <th></th>\n",
       "      <th></th>\n",
       "      <th></th>\n",
       "      <th></th>\n",
       "      <th></th>\n",
       "      <th></th>\n",
       "      <th></th>\n",
       "      <th></th>\n",
       "      <th></th>\n",
       "      <th></th>\n",
       "      <th></th>\n",
       "      <th></th>\n",
       "      <th></th>\n",
       "      <th></th>\n",
       "      <th></th>\n",
       "    </tr>\n",
       "  </thead>\n",
       "  <tbody>\n",
       "    <tr>\n",
       "      <th>767479181</th>\n",
       "      <td>0.0</td>\n",
       "      <td>0.0</td>\n",
       "      <td>0.0</td>\n",
       "      <td>1.0</td>\n",
       "      <td>1.0</td>\n",
       "      <td>0.0</td>\n",
       "      <td>0.0</td>\n",
       "      <td>0.0</td>\n",
       "      <td>0.0</td>\n",
       "      <td>0.0</td>\n",
       "      <td>...</td>\n",
       "      <td>263.08</td>\n",
       "      <td>236.12</td>\n",
       "      <td>146.94</td>\n",
       "      <td>0.0</td>\n",
       "      <td>193.7</td>\n",
       "      <td>0.0</td>\n",
       "      <td>163.99</td>\n",
       "      <td>101.38</td>\n",
       "      <td>0.0</td>\n",
       "      <td>281.05</td>\n",
       "    </tr>\n",
       "  </tbody>\n",
       "</table>\n",
       "<p>1 rows × 66 columns</p>\n",
       "</div>"
      ],
      "text/plain": [
       "           Card_Black  Card_Gold  Card_Platinum  Card_Silver  Gender_F  \\\n",
       "Customer                                                                 \n",
       "767479181         0.0        0.0            0.0          1.0       1.0   \n",
       "\n",
       "           Gender_M  Education_Graduate  Education_MSc  Education_PhD  \\\n",
       "Customer                                                                \n",
       "767479181       0.0                 0.0            0.0            0.0   \n",
       "\n",
       "           Education_Post LC  ...  Mar_Total  Apr_Total  May_Total  Jun_Total  \\\n",
       "Customer                      ...                                               \n",
       "767479181                0.0  ...     263.08     236.12     146.94        0.0   \n",
       "\n",
       "           Jul_Total  Aug_Total  Sep_Total  Oct_Total  Nov_Total  Dec_Total  \n",
       "Customer                                                                     \n",
       "767479181      193.7        0.0     163.99     101.38        0.0     281.05  \n",
       "\n",
       "[1 rows x 66 columns]"
      ]
     },
     "metadata": {},
     "output_type": "display_data"
    }
   ],
   "source": [
    "df_test, y_test = encode_df(df_test, y_test)\n",
    "df_test.insert(loc=16, column='Marital_Status_Unknown',value=0)\n",
    "display(df_test.head(1))"
   ]
  },
  {
   "cell_type": "markdown",
   "id": "289fdd7f-8104-4125-bccb-ed6e19ee5b28",
   "metadata": {},
   "source": [
    "### Model Selection"
   ]
  },
  {
   "cell_type": "code",
   "execution_count": 13,
   "id": "1f12d055-ce69-4d37-8096-fbe6a2d39ec0",
   "metadata": {},
   "outputs": [],
   "source": [
    "models = {\n",
    "    \"LR\": LogisticRegression(max_iter=1000),\n",
    "    \"DT\": DecisionTreeClassifier(),\n",
    "    \"KNN\": KNeighborsClassifier(),\n",
    "    \"RF\": RandomForestClassifier(),\n",
    "    \"ET\": ExtraTreesClassifier(),\n",
    "    \"XGB\": XGBClassifier(use_label_encoder=False, eval_metric='logloss', random_state=SEED),\n",
    "    \"CLF\": CatBoostClassifier(silent=True),\n",
    "    \"ADA\": AdaBoostClassifier(n_estimators=100,random_state=SEED)\n",
    "}"
   ]
  },
  {
   "cell_type": "code",
   "execution_count": 14,
   "id": "85650e70-745a-4ec5-b009-f5399838bf30",
   "metadata": {},
   "outputs": [
    {
     "name": "stdout",
     "output_type": "stream",
     "text": [
      "LR Recall: 0.28 (+/- 0.17)\n",
      "DT Recall: 0.43 (+/- 0.14)\n",
      "KNN Recall: 0.38 (+/- 0.06)\n",
      "RF Recall: 0.31 (+/- 0.15)\n",
      "ET Recall: 0.24 (+/- 0.12)\n",
      "XGB Recall: 0.49 (+/- 0.18)\n",
      "CLF Recall: 0.46 (+/- 0.18)\n",
      "ADA Recall: 0.48 (+/- 0.17)\n"
     ]
    }
   ],
   "source": [
    "scorer = make_scorer(recall_score)\n",
    "\n",
    "cv = StratifiedKFold(n_splits=10, shuffle=True, random_state=SEED)\n",
    "for name,model in models.items():\n",
    "    scores = cross_val_score(model, df_train, y_train, cv=cv, scoring=scorer)\n",
    "    print(name, \"Recall: %0.2f (+/- %0.2f)\" % (scores.mean(), scores.std() * 2))"
   ]
  },
  {
   "cell_type": "code",
   "execution_count": 15,
   "id": "8683d9f3-d3ae-41d9-966f-0d276dde11a2",
   "metadata": {},
   "outputs": [
    {
     "data": {
      "text/plain": [
       "array([0, 0, 0, ..., 0, 0, 0])"
      ]
     },
     "execution_count": 15,
     "metadata": {},
     "output_type": "execute_result"
    }
   ],
   "source": [
    "model =  XGBClassifier(use_label_encoder=False, eval_metric='logloss', random_state=SEED)\n",
    "model.fit(df_train,y_train)\n",
    "y_pred = model.predict(df_test)\n",
    "y_pred"
   ]
  },
  {
   "cell_type": "code",
   "execution_count": 16,
   "id": "86817ba1-26fa-4c46-86a1-b70bf529dd42",
   "metadata": {},
   "outputs": [
    {
     "data": {
      "text/plain": [
       "array([0, 1])"
      ]
     },
     "execution_count": 16,
     "metadata": {},
     "output_type": "execute_result"
    }
   ],
   "source": [
    "np.unique(y_pred)"
   ]
  },
  {
   "cell_type": "code",
   "execution_count": 17,
   "id": "2c8ff063-ab43-4ab3-875f-fb1bb7269c1b",
   "metadata": {},
   "outputs": [],
   "source": [
    "def showDiagnostics(y_test, y_pred):\n",
    "  # Model Accuracy, how often is the classifier correct?\n",
    "  print(\"Accuracy:\",accuracy_score(y_test, y_pred))\n",
    "  print(\"Confusion Matrix:\")\n",
    "  print(confusion_matrix(y_test, y_pred))\n",
    "  print(\"Classification Report:\")\n",
    "  print(classification_report(y_test, y_pred, digits=3))"
   ]
  },
  {
   "cell_type": "code",
   "execution_count": 18,
   "id": "79d3b6f4-0526-4f35-a1fb-91d4d3e35688",
   "metadata": {},
   "outputs": [
    {
     "name": "stdout",
     "output_type": "stream",
     "text": [
      "Accuracy: 0.8859837119588513\n",
      "Confusion Matrix:\n",
      "[[1914   54]\n",
      " [ 212  153]]\n",
      "Classification Report:\n",
      "              precision    recall  f1-score   support\n",
      "\n",
      "           0      0.900     0.973     0.935      1968\n",
      "           1      0.739     0.419     0.535       365\n",
      "\n",
      "    accuracy                          0.886      2333\n",
      "   macro avg      0.820     0.696     0.735      2333\n",
      "weighted avg      0.875     0.886     0.872      2333\n",
      "\n"
     ]
    }
   ],
   "source": [
    "showDiagnostics(y_test,y_pred)"
   ]
  },
  {
   "cell_type": "raw",
   "id": "583ee3cb-e081-4794-827d-b36adbe2ca70",
   "metadata": {},
   "source": [
    "Accuracy: 0.8885555079297043\n",
    "Confusion Matrix:\n",
    "[[1926   42]\n",
    " [ 218  147]]\n",
    "Classification Report:\n",
    "              precision    recall  f1-score   support\n",
    "\n",
    "           0      0.898     0.979     0.937      1968\n",
    "           1      0.778     0.403     0.531       365\n",
    "\n",
    "    accuracy                          0.889      2333\n",
    "   macro avg      0.838     0.691     0.734      2333\n",
    "weighted avg      0.879     0.889     0.873      2333"
   ]
  },
  {
   "cell_type": "markdown",
   "id": "f0e8da06-4625-41ba-af31-743478d0ae97",
   "metadata": {},
   "source": [
    "## Generate predictions"
   ]
  },
  {
   "cell_type": "code",
   "execution_count": 19,
   "id": "2f07cd08-e0b5-4210-802f-920df760c2b0",
   "metadata": {},
   "outputs": [],
   "source": [
    "y_pred = model.predict(df_churn_test)"
   ]
  },
  {
   "cell_type": "code",
   "execution_count": 21,
   "id": "9e62b5dc-63e9-4e91-891b-fdd60500ca16",
   "metadata": {},
   "outputs": [
    {
     "name": "stdout",
     "output_type": "stream",
     "text": [
      "(3542, 2)\n",
      "    Customer Churn\n",
      "0  708182832    No\n",
      "1  708240660    No\n",
      "2  708249778    No\n",
      "3  708259785    No\n",
      "4  708264579    No\n"
     ]
    }
   ],
   "source": [
    "df_pred = pd.DataFrame({'Churn': y_pred}, index=df_churn_test.index)\n",
    "df_pred = df_pred.Churn.map( {0:'No', 1:\"Yes\"} )\n",
    "df_pred = df_pred.reset_index()\n",
    "print(df_pred.shape)\n",
    "print(df_pred.head(5))\n",
    "df_pred.to_csv(\"./orig/output/pred.csv\",index=False)\n"
   ]
  },
  {
   "cell_type": "code",
   "execution_count": null,
   "id": "07232381-fa35-4086-95ff-b236efb588d2",
   "metadata": {},
   "outputs": [],
   "source": []
  }
 ],
 "metadata": {
  "kernelspec": {
   "display_name": "Python 3 (ipykernel)",
   "language": "python",
   "name": "python3"
  },
  "language_info": {
   "codemirror_mode": {
    "name": "ipython",
    "version": 3
   },
   "file_extension": ".py",
   "mimetype": "text/x-python",
   "name": "python",
   "nbconvert_exporter": "python",
   "pygments_lexer": "ipython3",
   "version": "3.10.2"
  }
 },
 "nbformat": 4,
 "nbformat_minor": 5
}
