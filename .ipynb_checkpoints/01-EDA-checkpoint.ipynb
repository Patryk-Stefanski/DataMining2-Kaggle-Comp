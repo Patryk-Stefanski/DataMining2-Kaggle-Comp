{
 "cells": [
  {
   "cell_type": "markdown",
   "id": "90ad0533-d970-4a78-8aff-00f60cfd8997",
   "metadata": {},
   "source": [
    "# EDA"
   ]
  },
  {
   "cell_type": "markdown",
   "id": "3a701f39-370a-4d70-bcc8-8a100637989c",
   "metadata": {},
   "source": [
    "## Imports"
   ]
  },
  {
   "cell_type": "code",
   "execution_count": 1,
   "id": "108e9e92-adc5-45a6-a0c8-9391b2282e3e",
   "metadata": {},
   "outputs": [],
   "source": [
    "import pandas as pd\n",
    "import numpy as np\n",
    "import matplotlib.pyplot as plt\n",
    "import seaborn as sns\n",
    "\n",
    "DEBUG = False\n",
    "SEED = 666"
   ]
  },
  {
   "cell_type": "markdown",
   "id": "70246bc5-6486-4b4d-9fff-43cb4b3ddd40",
   "metadata": {},
   "source": [
    "## Load all the datasets"
   ]
  },
  {
   "cell_type": "markdown",
   "id": "2d008f35-11ab-4906-91fc-79eb46087120",
   "metadata": {},
   "source": [
    "### Accounts dataset"
   ]
  },
  {
   "cell_type": "code",
   "execution_count": 2,
   "id": "384215c8-b323-421a-91b6-a7f53759357f",
   "metadata": {},
   "outputs": [
    {
     "name": "stdout",
     "output_type": "stream",
     "text": [
      "(25012, 2)\n"
     ]
    },
    {
     "data": {
      "text/html": [
       "<div>\n",
       "<style scoped>\n",
       "    .dataframe tbody tr th:only-of-type {\n",
       "        vertical-align: middle;\n",
       "    }\n",
       "\n",
       "    .dataframe tbody tr th {\n",
       "        vertical-align: top;\n",
       "    }\n",
       "\n",
       "    .dataframe thead th {\n",
       "        text-align: right;\n",
       "    }\n",
       "</style>\n",
       "<table border=\"1\" class=\"dataframe\">\n",
       "  <thead>\n",
       "    <tr style=\"text-align: right;\">\n",
       "      <th></th>\n",
       "      <th>Customer</th>\n",
       "      <th>Account</th>\n",
       "    </tr>\n",
       "  </thead>\n",
       "  <tbody>\n",
       "    <tr>\n",
       "      <th>0</th>\n",
       "      <td>828247016</td>\n",
       "      <td>Investment</td>\n",
       "    </tr>\n",
       "    <tr>\n",
       "      <th>1</th>\n",
       "      <td>828247016</td>\n",
       "      <td>Current</td>\n",
       "    </tr>\n",
       "    <tr>\n",
       "      <th>2</th>\n",
       "      <td>828247016</td>\n",
       "      <td>Credit Card</td>\n",
       "    </tr>\n",
       "    <tr>\n",
       "      <th>3</th>\n",
       "      <td>828247016</td>\n",
       "      <td>On Demand Deposit</td>\n",
       "    </tr>\n",
       "    <tr>\n",
       "      <th>4</th>\n",
       "      <td>828247016</td>\n",
       "      <td>Mortgage</td>\n",
       "    </tr>\n",
       "  </tbody>\n",
       "</table>\n",
       "</div>"
      ],
      "text/plain": [
       "    Customer            Account\n",
       "0  828247016         Investment\n",
       "1  828247016            Current\n",
       "2  828247016        Credit Card\n",
       "3  828247016  On Demand Deposit\n",
       "4  828247016           Mortgage"
      ]
     },
     "execution_count": 2,
     "metadata": {},
     "output_type": "execute_result"
    }
   ],
   "source": [
    "df_accounts = pd.read_csv(f\"orig/accounts_train.csv\")\n",
    "print(df_accounts.shape)\n",
    "df_accounts.head(5)"
   ]
  },
  {
   "cell_type": "markdown",
   "id": "fe572f84-29fa-4b8f-ba07-5c474a661fbd",
   "metadata": {},
   "source": [
    "### Customers Dataset"
   ]
  },
  {
   "cell_type": "code",
   "execution_count": 3,
   "id": "8b0c5a3d-a5ed-482f-b913-39dd94558fbf",
   "metadata": {},
   "outputs": [
    {
     "name": "stdout",
     "output_type": "stream",
     "text": [
      "(6577, 15)\n"
     ]
    },
    {
     "data": {
      "text/html": [
       "<div>\n",
       "<style scoped>\n",
       "    .dataframe tbody tr th:only-of-type {\n",
       "        vertical-align: middle;\n",
       "    }\n",
       "\n",
       "    .dataframe tbody tr th {\n",
       "        vertical-align: top;\n",
       "    }\n",
       "\n",
       "    .dataframe thead th {\n",
       "        text-align: right;\n",
       "    }\n",
       "</style>\n",
       "<table border=\"1\" class=\"dataframe\">\n",
       "  <thead>\n",
       "    <tr style=\"text-align: right;\">\n",
       "      <th></th>\n",
       "      <th>Customer</th>\n",
       "      <th>Churn</th>\n",
       "      <th>Card</th>\n",
       "      <th>Start_Date</th>\n",
       "      <th>Customer_Service_Calls</th>\n",
       "      <th>Credit_Limit</th>\n",
       "      <th>Total_Revolving_Balance</th>\n",
       "      <th>Average_Open_To_Buy</th>\n",
       "      <th>Average_Utilisation_Ratio</th>\n",
       "      <th>Age</th>\n",
       "      <th>Gender</th>\n",
       "      <th>Education</th>\n",
       "      <th>Marital_Status</th>\n",
       "      <th>Dependents</th>\n",
       "      <th>Income</th>\n",
       "    </tr>\n",
       "  </thead>\n",
       "  <tbody>\n",
       "    <tr>\n",
       "      <th>0</th>\n",
       "      <td>797197508</td>\n",
       "      <td>No</td>\n",
       "      <td>Silver</td>\n",
       "      <td>2020-06-01</td>\n",
       "      <td>1</td>\n",
       "      <td>2315.0</td>\n",
       "      <td>1565</td>\n",
       "      <td>750.0</td>\n",
       "      <td>0.676</td>\n",
       "      <td>48.0</td>\n",
       "      <td>F</td>\n",
       "      <td>Graduate</td>\n",
       "      <td>Married</td>\n",
       "      <td>2</td>\n",
       "      <td>Less than €30K</td>\n",
       "    </tr>\n",
       "    <tr>\n",
       "      <th>1</th>\n",
       "      <td>812854728</td>\n",
       "      <td>No</td>\n",
       "      <td>Silver</td>\n",
       "      <td>2020-01-01</td>\n",
       "      <td>1</td>\n",
       "      <td>7645.0</td>\n",
       "      <td>2076</td>\n",
       "      <td>5569.0</td>\n",
       "      <td>0.272</td>\n",
       "      <td>58.0</td>\n",
       "      <td>F</td>\n",
       "      <td>Second level</td>\n",
       "      <td>Single</td>\n",
       "      <td>5</td>\n",
       "      <td>Less than €30K</td>\n",
       "    </tr>\n",
       "    <tr>\n",
       "      <th>2</th>\n",
       "      <td>768000743</td>\n",
       "      <td>No</td>\n",
       "      <td>Silver</td>\n",
       "      <td>2020-01-01</td>\n",
       "      <td>2</td>\n",
       "      <td>6394.0</td>\n",
       "      <td>0</td>\n",
       "      <td>6394.0</td>\n",
       "      <td>0.000</td>\n",
       "      <td>55.0</td>\n",
       "      <td>F</td>\n",
       "      <td>Second level</td>\n",
       "      <td>Single</td>\n",
       "      <td>2</td>\n",
       "      <td>Less than €30K</td>\n",
       "    </tr>\n",
       "    <tr>\n",
       "      <th>3</th>\n",
       "      <td>722161439</td>\n",
       "      <td>No</td>\n",
       "      <td>Silver</td>\n",
       "      <td>2020-08-01</td>\n",
       "      <td>3</td>\n",
       "      <td>4663.0</td>\n",
       "      <td>0</td>\n",
       "      <td>4663.0</td>\n",
       "      <td>0.000</td>\n",
       "      <td>41.0</td>\n",
       "      <td>F</td>\n",
       "      <td>Graduate</td>\n",
       "      <td>NaN</td>\n",
       "      <td>2</td>\n",
       "      <td>€30K - €50K</td>\n",
       "    </tr>\n",
       "    <tr>\n",
       "      <th>4</th>\n",
       "      <td>759029725</td>\n",
       "      <td>No</td>\n",
       "      <td>Silver</td>\n",
       "      <td>2021-02-01</td>\n",
       "      <td>4</td>\n",
       "      <td>1879.0</td>\n",
       "      <td>1486</td>\n",
       "      <td>393.0</td>\n",
       "      <td>0.791</td>\n",
       "      <td>37.0</td>\n",
       "      <td>F</td>\n",
       "      <td>Second level</td>\n",
       "      <td>Single</td>\n",
       "      <td>1</td>\n",
       "      <td>Less than €30K</td>\n",
       "    </tr>\n",
       "  </tbody>\n",
       "</table>\n",
       "</div>"
      ],
      "text/plain": [
       "    Customer Churn    Card  Start_Date  Customer_Service_Calls  Credit_Limit  \\\n",
       "0  797197508    No  Silver  2020-06-01                       1        2315.0   \n",
       "1  812854728    No  Silver  2020-01-01                       1        7645.0   \n",
       "2  768000743    No  Silver  2020-01-01                       2        6394.0   \n",
       "3  722161439    No  Silver  2020-08-01                       3        4663.0   \n",
       "4  759029725    No  Silver  2021-02-01                       4        1879.0   \n",
       "\n",
       "   Total_Revolving_Balance  Average_Open_To_Buy  Average_Utilisation_Ratio  \\\n",
       "0                     1565                750.0                      0.676   \n",
       "1                     2076               5569.0                      0.272   \n",
       "2                        0               6394.0                      0.000   \n",
       "3                        0               4663.0                      0.000   \n",
       "4                     1486                393.0                      0.791   \n",
       "\n",
       "    Age Gender     Education Marital_Status  Dependents          Income  \n",
       "0  48.0      F      Graduate        Married           2  Less than €30K  \n",
       "1  58.0      F  Second level         Single           5  Less than €30K  \n",
       "2  55.0      F  Second level         Single           2  Less than €30K  \n",
       "3  41.0      F      Graduate            NaN           2     €30K - €50K  \n",
       "4  37.0      F  Second level         Single           1  Less than €30K  "
      ]
     },
     "execution_count": 3,
     "metadata": {},
     "output_type": "execute_result"
    }
   ],
   "source": [
    "df_customers = pd.read_csv(f\"orig/customers_train.csv\")\n",
    "print(df_customers.shape)\n",
    "df_customers.head(5)"
   ]
  },
  {
   "cell_type": "markdown",
   "id": "c267f75d-3466-4216-b6e0-f2d5612153ff",
   "metadata": {},
   "source": [
    "### Transactions Dataset"
   ]
  },
  {
   "cell_type": "code",
   "execution_count": 4,
   "id": "c89e2c60-7ac4-4ee1-99e3-4571b04e59f1",
   "metadata": {},
   "outputs": [
    {
     "name": "stdout",
     "output_type": "stream",
     "text": [
      "(514611, 3)\n"
     ]
    },
    {
     "data": {
      "text/html": [
       "<div>\n",
       "<style scoped>\n",
       "    .dataframe tbody tr th:only-of-type {\n",
       "        vertical-align: middle;\n",
       "    }\n",
       "\n",
       "    .dataframe tbody tr th {\n",
       "        vertical-align: top;\n",
       "    }\n",
       "\n",
       "    .dataframe thead th {\n",
       "        text-align: right;\n",
       "    }\n",
       "</style>\n",
       "<table border=\"1\" class=\"dataframe\">\n",
       "  <thead>\n",
       "    <tr style=\"text-align: right;\">\n",
       "      <th></th>\n",
       "      <th>Customer</th>\n",
       "      <th>Date</th>\n",
       "      <th>Amount</th>\n",
       "    </tr>\n",
       "  </thead>\n",
       "  <tbody>\n",
       "    <tr>\n",
       "      <th>0</th>\n",
       "      <td>828247016</td>\n",
       "      <td>2022-03-01</td>\n",
       "      <td>70.94</td>\n",
       "    </tr>\n",
       "    <tr>\n",
       "      <th>1</th>\n",
       "      <td>828247016</td>\n",
       "      <td>2022-02-21</td>\n",
       "      <td>52.16</td>\n",
       "    </tr>\n",
       "    <tr>\n",
       "      <th>2</th>\n",
       "      <td>828247016</td>\n",
       "      <td>2022-02-19</td>\n",
       "      <td>67.03</td>\n",
       "    </tr>\n",
       "    <tr>\n",
       "      <th>3</th>\n",
       "      <td>828247016</td>\n",
       "      <td>2022-02-19</td>\n",
       "      <td>48.24</td>\n",
       "    </tr>\n",
       "    <tr>\n",
       "      <th>4</th>\n",
       "      <td>828247016</td>\n",
       "      <td>2022-05-20</td>\n",
       "      <td>10.97</td>\n",
       "    </tr>\n",
       "  </tbody>\n",
       "</table>\n",
       "</div>"
      ],
      "text/plain": [
       "    Customer        Date  Amount\n",
       "0  828247016  2022-03-01   70.94\n",
       "1  828247016  2022-02-21   52.16\n",
       "2  828247016  2022-02-19   67.03\n",
       "3  828247016  2022-02-19   48.24\n",
       "4  828247016  2022-05-20   10.97"
      ]
     },
     "execution_count": 4,
     "metadata": {},
     "output_type": "execute_result"
    }
   ],
   "source": [
    "df_transaction = pd.read_csv(f\"orig/transactions_train.csv\")\n",
    "print(df_transaction.shape)\n",
    "df_transaction.head(5)"
   ]
  },
  {
   "cell_type": "markdown",
   "id": "f2bc8991-8c43-472a-b5ad-112b9e772a66",
   "metadata": {},
   "source": [
    "## Merge Datasets"
   ]
  },
  {
   "cell_type": "code",
   "execution_count": 5,
   "id": "c230e15c-f393-4b36-94b8-ff003c50a825",
   "metadata": {},
   "outputs": [
    {
     "data": {
      "text/html": [
       "<div>\n",
       "<style scoped>\n",
       "    .dataframe tbody tr th:only-of-type {\n",
       "        vertical-align: middle;\n",
       "    }\n",
       "\n",
       "    .dataframe tbody tr th {\n",
       "        vertical-align: top;\n",
       "    }\n",
       "\n",
       "    .dataframe thead th {\n",
       "        text-align: right;\n",
       "    }\n",
       "</style>\n",
       "<table border=\"1\" class=\"dataframe\">\n",
       "  <thead>\n",
       "    <tr style=\"text-align: right;\">\n",
       "      <th></th>\n",
       "      <th>Customer</th>\n",
       "      <th>Account</th>\n",
       "      <th>Churn</th>\n",
       "      <th>Card</th>\n",
       "      <th>Start_Date</th>\n",
       "      <th>Customer_Service_Calls</th>\n",
       "      <th>Credit_Limit</th>\n",
       "      <th>Total_Revolving_Balance</th>\n",
       "      <th>Average_Open_To_Buy</th>\n",
       "      <th>Average_Utilisation_Ratio</th>\n",
       "      <th>Age</th>\n",
       "      <th>Gender</th>\n",
       "      <th>Education</th>\n",
       "      <th>Marital_Status</th>\n",
       "      <th>Dependents</th>\n",
       "      <th>Income</th>\n",
       "      <th>Date</th>\n",
       "      <th>Amount</th>\n",
       "    </tr>\n",
       "  </thead>\n",
       "  <tbody>\n",
       "    <tr>\n",
       "      <th>0</th>\n",
       "      <td>828247016</td>\n",
       "      <td>Investment</td>\n",
       "      <td>No</td>\n",
       "      <td>Silver</td>\n",
       "      <td>2019-05-01</td>\n",
       "      <td>2</td>\n",
       "      <td>8256.0</td>\n",
       "      <td>864</td>\n",
       "      <td>7392.0</td>\n",
       "      <td>0.105</td>\n",
       "      <td>56.0</td>\n",
       "      <td>F</td>\n",
       "      <td>Graduate</td>\n",
       "      <td>Single</td>\n",
       "      <td>5</td>\n",
       "      <td>Less than €30K</td>\n",
       "      <td>2022-03-01</td>\n",
       "      <td>70.94</td>\n",
       "    </tr>\n",
       "    <tr>\n",
       "      <th>1</th>\n",
       "      <td>828247016</td>\n",
       "      <td>Investment</td>\n",
       "      <td>No</td>\n",
       "      <td>Silver</td>\n",
       "      <td>2019-05-01</td>\n",
       "      <td>2</td>\n",
       "      <td>8256.0</td>\n",
       "      <td>864</td>\n",
       "      <td>7392.0</td>\n",
       "      <td>0.105</td>\n",
       "      <td>56.0</td>\n",
       "      <td>F</td>\n",
       "      <td>Graduate</td>\n",
       "      <td>Single</td>\n",
       "      <td>5</td>\n",
       "      <td>Less than €30K</td>\n",
       "      <td>2022-02-21</td>\n",
       "      <td>52.16</td>\n",
       "    </tr>\n",
       "    <tr>\n",
       "      <th>2</th>\n",
       "      <td>828247016</td>\n",
       "      <td>Investment</td>\n",
       "      <td>No</td>\n",
       "      <td>Silver</td>\n",
       "      <td>2019-05-01</td>\n",
       "      <td>2</td>\n",
       "      <td>8256.0</td>\n",
       "      <td>864</td>\n",
       "      <td>7392.0</td>\n",
       "      <td>0.105</td>\n",
       "      <td>56.0</td>\n",
       "      <td>F</td>\n",
       "      <td>Graduate</td>\n",
       "      <td>Single</td>\n",
       "      <td>5</td>\n",
       "      <td>Less than €30K</td>\n",
       "      <td>2022-02-19</td>\n",
       "      <td>67.03</td>\n",
       "    </tr>\n",
       "    <tr>\n",
       "      <th>3</th>\n",
       "      <td>828247016</td>\n",
       "      <td>Investment</td>\n",
       "      <td>No</td>\n",
       "      <td>Silver</td>\n",
       "      <td>2019-05-01</td>\n",
       "      <td>2</td>\n",
       "      <td>8256.0</td>\n",
       "      <td>864</td>\n",
       "      <td>7392.0</td>\n",
       "      <td>0.105</td>\n",
       "      <td>56.0</td>\n",
       "      <td>F</td>\n",
       "      <td>Graduate</td>\n",
       "      <td>Single</td>\n",
       "      <td>5</td>\n",
       "      <td>Less than €30K</td>\n",
       "      <td>2022-02-19</td>\n",
       "      <td>48.24</td>\n",
       "    </tr>\n",
       "    <tr>\n",
       "      <th>4</th>\n",
       "      <td>828247016</td>\n",
       "      <td>Investment</td>\n",
       "      <td>No</td>\n",
       "      <td>Silver</td>\n",
       "      <td>2019-05-01</td>\n",
       "      <td>2</td>\n",
       "      <td>8256.0</td>\n",
       "      <td>864</td>\n",
       "      <td>7392.0</td>\n",
       "      <td>0.105</td>\n",
       "      <td>56.0</td>\n",
       "      <td>F</td>\n",
       "      <td>Graduate</td>\n",
       "      <td>Single</td>\n",
       "      <td>5</td>\n",
       "      <td>Less than €30K</td>\n",
       "      <td>2022-05-20</td>\n",
       "      <td>10.97</td>\n",
       "    </tr>\n",
       "  </tbody>\n",
       "</table>\n",
       "</div>"
      ],
      "text/plain": [
       "    Customer     Account Churn    Card  Start_Date  Customer_Service_Calls  \\\n",
       "0  828247016  Investment    No  Silver  2019-05-01                       2   \n",
       "1  828247016  Investment    No  Silver  2019-05-01                       2   \n",
       "2  828247016  Investment    No  Silver  2019-05-01                       2   \n",
       "3  828247016  Investment    No  Silver  2019-05-01                       2   \n",
       "4  828247016  Investment    No  Silver  2019-05-01                       2   \n",
       "\n",
       "   Credit_Limit  Total_Revolving_Balance  Average_Open_To_Buy  \\\n",
       "0        8256.0                      864               7392.0   \n",
       "1        8256.0                      864               7392.0   \n",
       "2        8256.0                      864               7392.0   \n",
       "3        8256.0                      864               7392.0   \n",
       "4        8256.0                      864               7392.0   \n",
       "\n",
       "   Average_Utilisation_Ratio   Age Gender Education Marital_Status  \\\n",
       "0                      0.105  56.0      F  Graduate         Single   \n",
       "1                      0.105  56.0      F  Graduate         Single   \n",
       "2                      0.105  56.0      F  Graduate         Single   \n",
       "3                      0.105  56.0      F  Graduate         Single   \n",
       "4                      0.105  56.0      F  Graduate         Single   \n",
       "\n",
       "   Dependents          Income        Date  Amount  \n",
       "0           5  Less than €30K  2022-03-01   70.94  \n",
       "1           5  Less than €30K  2022-02-21   52.16  \n",
       "2           5  Less than €30K  2022-02-19   67.03  \n",
       "3           5  Less than €30K  2022-02-19   48.24  \n",
       "4           5  Less than €30K  2022-05-20   10.97  "
      ]
     },
     "execution_count": 5,
     "metadata": {},
     "output_type": "execute_result"
    }
   ],
   "source": [
    "df = pd.merge(df_accounts, df_customers, on=\"Customer\")\n",
    "df = pd.merge(df, df_transaction, on=\"Customer\")\n",
    "df.head(5)"
   ]
  },
  {
   "cell_type": "markdown",
   "id": "668307e9-348d-4675-b6b6-333e1c8aab55",
   "metadata": {},
   "source": [
    "## Clean"
   ]
  },
  {
   "cell_type": "markdown",
   "id": "813176cd-44d8-49b5-bd00-5015e0892e3a",
   "metadata": {},
   "source": [
    "### Summarise dataset"
   ]
  },
  {
   "cell_type": "code",
   "execution_count": 6,
   "id": "2745550e-ba86-4bac-aa38-2d97f86c933a",
   "metadata": {},
   "outputs": [
    {
     "name": "stdout",
     "output_type": "stream",
     "text": [
      "<class 'pandas.core.frame.DataFrame'>\n",
      "Int64Index: 1572916 entries, 0 to 1572915\n",
      "Data columns (total 18 columns):\n",
      " #   Column                     Non-Null Count    Dtype  \n",
      "---  ------                     --------------    -----  \n",
      " 0   Customer                   1572916 non-null  int64  \n",
      " 1   Account                    1572916 non-null  object \n",
      " 2   Churn                      1568019 non-null  object \n",
      " 3   Card                       1572916 non-null  object \n",
      " 4   Start_Date                 1572916 non-null  object \n",
      " 5   Customer_Service_Calls     1572916 non-null  int64  \n",
      " 6   Credit_Limit               1572916 non-null  float64\n",
      " 7   Total_Revolving_Balance    1572916 non-null  int64  \n",
      " 8   Average_Open_To_Buy        1572916 non-null  float64\n",
      " 9   Average_Utilisation_Ratio  1572916 non-null  float64\n",
      " 10  Age                        1508903 non-null  float64\n",
      " 11  Gender                     1572916 non-null  object \n",
      " 12  Education                  1572916 non-null  object \n",
      " 13  Marital_Status             1455812 non-null  object \n",
      " 14  Dependents                 1572916 non-null  int64  \n",
      " 15  Income                     1572916 non-null  object \n",
      " 16  Date                       1572916 non-null  object \n",
      " 17  Amount                     1572916 non-null  float64\n",
      "dtypes: float64(5), int64(4), object(9)\n",
      "memory usage: 228.0+ MB\n"
     ]
    }
   ],
   "source": [
    "df.info()"
   ]
  },
  {
   "cell_type": "markdown",
   "id": "f8a49e7d-4e35-43e4-8cd2-313c5e97c302",
   "metadata": {},
   "source": [
    "#### Comments\n",
    "Issues:\n",
    " - Account,Card,Gender,Education,Marital_Status,Income can be encoded to catgerical values\n",
    " - Churn (target) can be encoded to a boolean\n",
    " - Start_Date and Date can be encoded to DateTime type"
   ]
  },
  {
   "cell_type": "markdown",
   "id": "bd138777-9ed1-42f4-89f7-01141674c31a",
   "metadata": {},
   "source": [
    "### Encoding Object Values"
   ]
  },
  {
   "cell_type": "markdown",
   "id": "b4db6401-0eb0-4e02-8c07-6df956e8efe8",
   "metadata": {},
   "source": [
    "#### All features with object data types"
   ]
  },
  {
   "cell_type": "code",
   "execution_count": 7,
   "id": "ba364090-7eac-427a-9bd2-a4c40c3f0f7d",
   "metadata": {},
   "outputs": [],
   "source": [
    "for c in df.columns:\n",
    "    if df[c].dtype == \"object\":\n",
    "        df[c] = pd.Categorical(df[c])"
   ]
  },
  {
   "cell_type": "code",
   "execution_count": 8,
   "id": "60e0f0a7-8481-403b-9d05-acb8dae7d10c",
   "metadata": {},
   "outputs": [
    {
     "name": "stdout",
     "output_type": "stream",
     "text": [
      "<class 'pandas.core.frame.DataFrame'>\n",
      "Int64Index: 1572916 entries, 0 to 1572915\n",
      "Data columns (total 18 columns):\n",
      " #   Column                     Non-Null Count    Dtype   \n",
      "---  ------                     --------------    -----   \n",
      " 0   Customer                   1572916 non-null  int64   \n",
      " 1   Account                    1572916 non-null  category\n",
      " 2   Churn                      1568019 non-null  category\n",
      " 3   Card                       1572916 non-null  category\n",
      " 4   Start_Date                 1572916 non-null  category\n",
      " 5   Customer_Service_Calls     1572916 non-null  int64   \n",
      " 6   Credit_Limit               1572916 non-null  float64 \n",
      " 7   Total_Revolving_Balance    1572916 non-null  int64   \n",
      " 8   Average_Open_To_Buy        1572916 non-null  float64 \n",
      " 9   Average_Utilisation_Ratio  1572916 non-null  float64 \n",
      " 10  Age                        1508903 non-null  float64 \n",
      " 11  Gender                     1572916 non-null  category\n",
      " 12  Education                  1572916 non-null  category\n",
      " 13  Marital_Status             1455812 non-null  category\n",
      " 14  Dependents                 1572916 non-null  int64   \n",
      " 15  Income                     1572916 non-null  category\n",
      " 16  Date                       1572916 non-null  category\n",
      " 17  Amount                     1572916 non-null  float64 \n",
      "dtypes: category(9), float64(5), int64(4)\n",
      "memory usage: 135.0 MB\n"
     ]
    }
   ],
   "source": [
    "df.info()"
   ]
  },
  {
   "cell_type": "code",
   "execution_count": 9,
   "id": "4602f368-cab8-4fa0-a764-6b5170c71391",
   "metadata": {},
   "outputs": [
    {
     "data": {
      "text/plain": [
       "['Investment', 'Current', 'Credit Card', 'On Demand Deposit', 'Mortgage', 'Joint', 'Deposit', 'Loan']\n",
       "Categories (8, object): ['Credit Card', 'Current', 'Deposit', 'Investment', 'Joint', 'Loan', 'Mortgage', 'On Demand Deposit']"
      ]
     },
     "execution_count": 9,
     "metadata": {},
     "output_type": "execute_result"
    }
   ],
   "source": [
    "df.Account.unique()"
   ]
  },
  {
   "cell_type": "code",
   "execution_count": 11,
   "id": "43386689-62fd-4e11-a518-221d1f312a8c",
   "metadata": {},
   "outputs": [],
   "source": [
    "df.to_csv(\"./orig/data/churn.csv\", index=False)"
   ]
  },
  {
   "cell_type": "code",
   "execution_count": null,
   "id": "e03f927f-8aa6-4f68-b8fd-1303dd113f0b",
   "metadata": {},
   "outputs": [],
   "source": []
  },
  {
   "cell_type": "code",
   "execution_count": null,
   "id": "39120cae-6333-4971-a605-cd3c55eae826",
   "metadata": {},
   "outputs": [],
   "source": []
  }
 ],
 "metadata": {
  "kernelspec": {
   "display_name": "Python 3 (ipykernel)",
   "language": "python",
   "name": "python3"
  },
  "language_info": {
   "codemirror_mode": {
    "name": "ipython",
    "version": 3
   },
   "file_extension": ".py",
   "mimetype": "text/x-python",
   "name": "python",
   "nbconvert_exporter": "python",
   "pygments_lexer": "ipython3",
   "version": "3.10.2"
  }
 },
 "nbformat": 4,
 "nbformat_minor": 5
}
