{
 "cells": [
  {
   "cell_type": "markdown",
   "id": "90ad0533-d970-4a78-8aff-00f60cfd8997",
   "metadata": {},
   "source": [
    "# EDA"
   ]
  },
  {
   "cell_type": "markdown",
   "id": "3a701f39-370a-4d70-bcc8-8a100637989c",
   "metadata": {},
   "source": [
    "## Imports"
   ]
  },
  {
   "cell_type": "code",
   "execution_count": 1,
   "id": "108e9e92-adc5-45a6-a0c8-9391b2282e3e",
   "metadata": {},
   "outputs": [],
   "source": [
    "import pandas as pd\n",
    "import numpy as np\n",
    "import matplotlib.pyplot as plt\n",
    "import seaborn as sns\n",
    "\n",
    "DEBUG = False\n",
    "SEED = 666"
   ]
  },
  {
   "cell_type": "markdown",
   "id": "70246bc5-6486-4b4d-9fff-43cb4b3ddd40",
   "metadata": {},
   "source": [
    "## Load and format all the datasets"
   ]
  },
  {
   "cell_type": "markdown",
   "id": "c339b019-7e4a-47e0-b03e-eb63ef489c33",
   "metadata": {},
   "source": [
    "### Accounts dataset"
   ]
  },
  {
   "cell_type": "markdown",
   "id": "54eea380-29a3-4b6e-9037-ee42e3944589",
   "metadata": {},
   "source": [
    "#### Import test and train datasets"
   ]
  },
  {
   "cell_type": "code",
   "execution_count": 2,
   "id": "1f450ad5-3e0f-4667-965a-c7b6b73ce603",
   "metadata": {},
   "outputs": [],
   "source": [
    "df_accounts_train = pd.read_csv(f\"orig/accounts_train.csv\")"
   ]
  },
  {
   "cell_type": "code",
   "execution_count": 3,
   "id": "3b823a1e-331b-4e00-b059-fd9fc9e8c01d",
   "metadata": {},
   "outputs": [],
   "source": [
    "df_accounts_test = pd.read_csv(f\"orig/accounts_test.csv\")"
   ]
  },
  {
   "cell_type": "markdown",
   "id": "6398915b-da01-49ed-9504-50c30b4401e2",
   "metadata": {},
   "source": [
    "#### Function for formatting account datasets "
   ]
  },
  {
   "cell_type": "code",
   "execution_count": 4,
   "id": "8daaef39-d8be-4aea-bf72-2400ffc9a5d1",
   "metadata": {},
   "outputs": [],
   "source": [
    "def format_accounts(df_accounts):\n",
    "    print(\"Number of different Accounts : {} \".format(df_accounts.Account.nunique()))\n",
    "    df_accounts = df_accounts.pivot_table(index='Customer', columns='Account', aggfunc='size', fill_value=0)\n",
    "    print(df_accounts.shape)\n",
    "    print(\"Number of NANs : {}\".format(df_accounts.isna().sum().sum()))\n",
    "\n",
    "    return df_accounts"
   ]
  },
  {
   "cell_type": "markdown",
   "id": "278afd37-2213-4fe1-b987-c18845636921",
   "metadata": {},
   "source": [
    "#### Formatting train dataset"
   ]
  },
  {
   "cell_type": "code",
   "execution_count": 5,
   "id": "39d9c4f3-a204-418e-b333-9d98dfa283f2",
   "metadata": {},
   "outputs": [
    {
     "name": "stdout",
     "output_type": "stream",
     "text": [
      "Number of different Accounts : 8 \n",
      "(6577, 8)\n",
      "Number of NANs : 0\n"
     ]
    },
    {
     "data": {
      "text/html": [
       "<div>\n",
       "<style scoped>\n",
       "    .dataframe tbody tr th:only-of-type {\n",
       "        vertical-align: middle;\n",
       "    }\n",
       "\n",
       "    .dataframe tbody tr th {\n",
       "        vertical-align: top;\n",
       "    }\n",
       "\n",
       "    .dataframe thead th {\n",
       "        text-align: right;\n",
       "    }\n",
       "</style>\n",
       "<table border=\"1\" class=\"dataframe\">\n",
       "  <thead>\n",
       "    <tr style=\"text-align: right;\">\n",
       "      <th>Account</th>\n",
       "      <th>Credit Card</th>\n",
       "      <th>Current</th>\n",
       "      <th>Deposit</th>\n",
       "      <th>Investment</th>\n",
       "      <th>Joint</th>\n",
       "      <th>Loan</th>\n",
       "      <th>Mortgage</th>\n",
       "      <th>On Demand Deposit</th>\n",
       "    </tr>\n",
       "    <tr>\n",
       "      <th>Customer</th>\n",
       "      <th></th>\n",
       "      <th></th>\n",
       "      <th></th>\n",
       "      <th></th>\n",
       "      <th></th>\n",
       "      <th></th>\n",
       "      <th></th>\n",
       "      <th></th>\n",
       "    </tr>\n",
       "  </thead>\n",
       "  <tbody>\n",
       "    <tr>\n",
       "      <th>708115009</th>\n",
       "      <td>1</td>\n",
       "      <td>0</td>\n",
       "      <td>0</td>\n",
       "      <td>0</td>\n",
       "      <td>0</td>\n",
       "      <td>0</td>\n",
       "      <td>0</td>\n",
       "      <td>0</td>\n",
       "    </tr>\n",
       "  </tbody>\n",
       "</table>\n",
       "</div>"
      ],
      "text/plain": [
       "Account    Credit Card  Current  Deposit  Investment  Joint  Loan  Mortgage  \\\n",
       "Customer                                                                      \n",
       "708115009            1        0        0           0      0     0         0   \n",
       "\n",
       "Account    On Demand Deposit  \n",
       "Customer                      \n",
       "708115009                  0  "
      ]
     },
     "execution_count": 5,
     "metadata": {},
     "output_type": "execute_result"
    }
   ],
   "source": [
    "df_accounts_train = format_accounts(df_accounts_train)\n",
    "df_accounts_train.head(1)"
   ]
  },
  {
   "cell_type": "markdown",
   "id": "6919babb-f6ca-4428-856d-39d518d0c76b",
   "metadata": {},
   "source": [
    "#### Formatting test dataset"
   ]
  },
  {
   "cell_type": "code",
   "execution_count": 6,
   "id": "691c5566-9890-4d6e-9ef1-01c552eb1cb1",
   "metadata": {},
   "outputs": [
    {
     "name": "stdout",
     "output_type": "stream",
     "text": [
      "Number of different Accounts : 8 \n",
      "(3542, 8)\n",
      "Number of NANs : 0\n"
     ]
    },
    {
     "data": {
      "text/html": [
       "<div>\n",
       "<style scoped>\n",
       "    .dataframe tbody tr th:only-of-type {\n",
       "        vertical-align: middle;\n",
       "    }\n",
       "\n",
       "    .dataframe tbody tr th {\n",
       "        vertical-align: top;\n",
       "    }\n",
       "\n",
       "    .dataframe thead th {\n",
       "        text-align: right;\n",
       "    }\n",
       "</style>\n",
       "<table border=\"1\" class=\"dataframe\">\n",
       "  <thead>\n",
       "    <tr style=\"text-align: right;\">\n",
       "      <th>Account</th>\n",
       "      <th>Credit Card</th>\n",
       "      <th>Current</th>\n",
       "      <th>Deposit</th>\n",
       "      <th>Investment</th>\n",
       "      <th>Joint</th>\n",
       "      <th>Loan</th>\n",
       "      <th>Mortgage</th>\n",
       "      <th>On Demand Deposit</th>\n",
       "    </tr>\n",
       "    <tr>\n",
       "      <th>Customer</th>\n",
       "      <th></th>\n",
       "      <th></th>\n",
       "      <th></th>\n",
       "      <th></th>\n",
       "      <th></th>\n",
       "      <th></th>\n",
       "      <th></th>\n",
       "      <th></th>\n",
       "    </tr>\n",
       "  </thead>\n",
       "  <tbody>\n",
       "    <tr>\n",
       "      <th>708182832</th>\n",
       "      <td>1</td>\n",
       "      <td>1</td>\n",
       "      <td>1</td>\n",
       "      <td>1</td>\n",
       "      <td>0</td>\n",
       "      <td>0</td>\n",
       "      <td>0</td>\n",
       "      <td>0</td>\n",
       "    </tr>\n",
       "  </tbody>\n",
       "</table>\n",
       "</div>"
      ],
      "text/plain": [
       "Account    Credit Card  Current  Deposit  Investment  Joint  Loan  Mortgage  \\\n",
       "Customer                                                                      \n",
       "708182832            1        1        1           1      0     0         0   \n",
       "\n",
       "Account    On Demand Deposit  \n",
       "Customer                      \n",
       "708182832                  0  "
      ]
     },
     "execution_count": 6,
     "metadata": {},
     "output_type": "execute_result"
    }
   ],
   "source": [
    "df_accounts_test = format_accounts(df_accounts_test)\n",
    "df_accounts_test.head(1)"
   ]
  },
  {
   "cell_type": "markdown",
   "id": "7c8ff415-e2a2-4f2d-b6a2-671fe16eb223",
   "metadata": {},
   "source": [
    "### Customers Dataset"
   ]
  },
  {
   "cell_type": "markdown",
   "id": "3bb7187a-376e-43c9-9137-0f6aba989ff2",
   "metadata": {},
   "source": [
    "#### Import test and train datasets"
   ]
  },
  {
   "cell_type": "code",
   "execution_count": 7,
   "id": "a38f0881-4461-4645-9242-7f00177773f3",
   "metadata": {},
   "outputs": [],
   "source": [
    "df_customers_train = pd.read_csv(f\"orig/customers_train.csv\")"
   ]
  },
  {
   "cell_type": "code",
   "execution_count": 8,
   "id": "27fc94dd-0f01-4957-971e-a56212b3dbdd",
   "metadata": {},
   "outputs": [],
   "source": [
    "df_customers_test = pd.read_csv(f\"orig/customers_test.csv\")"
   ]
  },
  {
   "cell_type": "markdown",
   "id": "b1ddc1bb-a107-4a6f-81ce-0b3c69b3cf5f",
   "metadata": {},
   "source": [
    "#### Function for formatting account dataset "
   ]
  },
  {
   "cell_type": "code",
   "execution_count": 9,
   "id": "cfc7cd08-7a23-46cf-b4a1-cbc57235112b",
   "metadata": {},
   "outputs": [],
   "source": [
    "def format_customers(df_customers):\n",
    "    df_customers[['Start_Year', 'Start_Day', 'Start_Month']] = df_customers['Start_Date'].str.split('-', expand=True)\n",
    "\n",
    "    print(\"Unique Start Months : {} \".format(df_customers.Start_Month.nunique()))\n",
    "\n",
    "    df_customers.drop(['Start_Date','Start_Month'], axis=1, inplace=True)\n",
    "\n",
    "    df_customers = df_customers.set_index('Customer')\n",
    "\n",
    "    print(df_customers.shape)\n",
    "    print(\"Number of NANs : {}\".format(df_customers.isna().sum().sum()))\n",
    "    \n",
    "    return df_customers"
   ]
  },
  {
   "cell_type": "markdown",
   "id": "25b008bb-832b-4b02-a810-32a508318aa2",
   "metadata": {},
   "source": [
    "#### Formatting train dataset"
   ]
  },
  {
   "cell_type": "code",
   "execution_count": 10,
   "id": "a78ca163-1856-4113-9d8e-d2a76c1cd625",
   "metadata": {},
   "outputs": [
    {
     "name": "stdout",
     "output_type": "stream",
     "text": [
      "Unique Start Months : 1 \n",
      "(6577, 15)\n",
      "Number of NANs : 761\n"
     ]
    },
    {
     "data": {
      "text/html": [
       "<div>\n",
       "<style scoped>\n",
       "    .dataframe tbody tr th:only-of-type {\n",
       "        vertical-align: middle;\n",
       "    }\n",
       "\n",
       "    .dataframe tbody tr th {\n",
       "        vertical-align: top;\n",
       "    }\n",
       "\n",
       "    .dataframe thead th {\n",
       "        text-align: right;\n",
       "    }\n",
       "</style>\n",
       "<table border=\"1\" class=\"dataframe\">\n",
       "  <thead>\n",
       "    <tr style=\"text-align: right;\">\n",
       "      <th></th>\n",
       "      <th>Churn</th>\n",
       "      <th>Card</th>\n",
       "      <th>Customer_Service_Calls</th>\n",
       "      <th>Credit_Limit</th>\n",
       "      <th>Total_Revolving_Balance</th>\n",
       "      <th>Average_Open_To_Buy</th>\n",
       "      <th>Average_Utilisation_Ratio</th>\n",
       "      <th>Age</th>\n",
       "      <th>Gender</th>\n",
       "      <th>Education</th>\n",
       "      <th>Marital_Status</th>\n",
       "      <th>Dependents</th>\n",
       "      <th>Income</th>\n",
       "      <th>Start_Year</th>\n",
       "      <th>Start_Day</th>\n",
       "    </tr>\n",
       "    <tr>\n",
       "      <th>Customer</th>\n",
       "      <th></th>\n",
       "      <th></th>\n",
       "      <th></th>\n",
       "      <th></th>\n",
       "      <th></th>\n",
       "      <th></th>\n",
       "      <th></th>\n",
       "      <th></th>\n",
       "      <th></th>\n",
       "      <th></th>\n",
       "      <th></th>\n",
       "      <th></th>\n",
       "      <th></th>\n",
       "      <th></th>\n",
       "      <th></th>\n",
       "    </tr>\n",
       "  </thead>\n",
       "  <tbody>\n",
       "    <tr>\n",
       "      <th>797197508</th>\n",
       "      <td>No</td>\n",
       "      <td>Silver</td>\n",
       "      <td>1</td>\n",
       "      <td>2315.0</td>\n",
       "      <td>1565</td>\n",
       "      <td>750.0</td>\n",
       "      <td>0.676</td>\n",
       "      <td>48.0</td>\n",
       "      <td>F</td>\n",
       "      <td>Graduate</td>\n",
       "      <td>Married</td>\n",
       "      <td>2</td>\n",
       "      <td>Less than €30K</td>\n",
       "      <td>2020</td>\n",
       "      <td>06</td>\n",
       "    </tr>\n",
       "  </tbody>\n",
       "</table>\n",
       "</div>"
      ],
      "text/plain": [
       "          Churn    Card  Customer_Service_Calls  Credit_Limit  \\\n",
       "Customer                                                        \n",
       "797197508    No  Silver                       1        2315.0   \n",
       "\n",
       "           Total_Revolving_Balance  Average_Open_To_Buy  \\\n",
       "Customer                                                  \n",
       "797197508                     1565                750.0   \n",
       "\n",
       "           Average_Utilisation_Ratio   Age Gender Education Marital_Status  \\\n",
       "Customer                                                                     \n",
       "797197508                      0.676  48.0      F  Graduate        Married   \n",
       "\n",
       "           Dependents          Income Start_Year Start_Day  \n",
       "Customer                                                    \n",
       "797197508           2  Less than €30K       2020        06  "
      ]
     },
     "execution_count": 10,
     "metadata": {},
     "output_type": "execute_result"
    }
   ],
   "source": [
    "df_customers_train = format_customers(df_customers_train)\n",
    "df_customers_train.head(1)\n",
    "#df_customers_train.Marital_Status.nunique()"
   ]
  },
  {
   "cell_type": "markdown",
   "id": "0834e372-a461-481b-8683-0505f98244b2",
   "metadata": {},
   "source": [
    "#### Formatting test dataset"
   ]
  },
  {
   "cell_type": "code",
   "execution_count": 11,
   "id": "8a420473-22e6-4d54-9dd1-ad956e973b5c",
   "metadata": {},
   "outputs": [
    {
     "name": "stdout",
     "output_type": "stream",
     "text": [
      "Unique Start Months : 1 \n",
      "(3542, 14)\n",
      "Number of NANs : 0\n"
     ]
    },
    {
     "data": {
      "text/html": [
       "<div>\n",
       "<style scoped>\n",
       "    .dataframe tbody tr th:only-of-type {\n",
       "        vertical-align: middle;\n",
       "    }\n",
       "\n",
       "    .dataframe tbody tr th {\n",
       "        vertical-align: top;\n",
       "    }\n",
       "\n",
       "    .dataframe thead th {\n",
       "        text-align: right;\n",
       "    }\n",
       "</style>\n",
       "<table border=\"1\" class=\"dataframe\">\n",
       "  <thead>\n",
       "    <tr style=\"text-align: right;\">\n",
       "      <th></th>\n",
       "      <th>Card</th>\n",
       "      <th>Customer_Service_Calls</th>\n",
       "      <th>Credit_Limit</th>\n",
       "      <th>Total_Revolving_Balance</th>\n",
       "      <th>Average_Open_To_Buy</th>\n",
       "      <th>Average_Utilisation_Ratio</th>\n",
       "      <th>Age</th>\n",
       "      <th>Gender</th>\n",
       "      <th>Education</th>\n",
       "      <th>Marital_Status</th>\n",
       "      <th>Dependents</th>\n",
       "      <th>Income</th>\n",
       "      <th>Start_Year</th>\n",
       "      <th>Start_Day</th>\n",
       "    </tr>\n",
       "    <tr>\n",
       "      <th>Customer</th>\n",
       "      <th></th>\n",
       "      <th></th>\n",
       "      <th></th>\n",
       "      <th></th>\n",
       "      <th></th>\n",
       "      <th></th>\n",
       "      <th></th>\n",
       "      <th></th>\n",
       "      <th></th>\n",
       "      <th></th>\n",
       "      <th></th>\n",
       "      <th></th>\n",
       "      <th></th>\n",
       "      <th></th>\n",
       "    </tr>\n",
       "  </thead>\n",
       "  <tbody>\n",
       "    <tr>\n",
       "      <th>774663629</th>\n",
       "      <td>Gold</td>\n",
       "      <td>2</td>\n",
       "      <td>29663.0</td>\n",
       "      <td>1743</td>\n",
       "      <td>27920.0</td>\n",
       "      <td>0.059</td>\n",
       "      <td>51</td>\n",
       "      <td>M</td>\n",
       "      <td>Graduate</td>\n",
       "      <td>Single</td>\n",
       "      <td>3</td>\n",
       "      <td>€50K - €80K</td>\n",
       "      <td>2020</td>\n",
       "      <td>01</td>\n",
       "    </tr>\n",
       "  </tbody>\n",
       "</table>\n",
       "</div>"
      ],
      "text/plain": [
       "           Card  Customer_Service_Calls  Credit_Limit  \\\n",
       "Customer                                                \n",
       "774663629  Gold                       2       29663.0   \n",
       "\n",
       "           Total_Revolving_Balance  Average_Open_To_Buy  \\\n",
       "Customer                                                  \n",
       "774663629                     1743              27920.0   \n",
       "\n",
       "           Average_Utilisation_Ratio  Age Gender Education Marital_Status  \\\n",
       "Customer                                                                    \n",
       "774663629                      0.059   51      M  Graduate         Single   \n",
       "\n",
       "           Dependents       Income Start_Year Start_Day  \n",
       "Customer                                                 \n",
       "774663629           3  €50K - €80K       2020        01  "
      ]
     },
     "execution_count": 11,
     "metadata": {},
     "output_type": "execute_result"
    }
   ],
   "source": [
    "df_customers_test = format_customers(df_customers_test)\n",
    "df_customers_test.head(1)\n",
    "#df_customers_test.Marital_Status.nunique()"
   ]
  },
  {
   "cell_type": "markdown",
   "id": "a9d64eeb-0492-4e80-bb0b-ab2854e22a17",
   "metadata": {},
   "source": [
    "#### Comment\n",
    "- Test dataset has one more marital status - Unknown\n",
    "- We will add this to the marital status category after we transform all the object types to categories"
   ]
  },
  {
   "cell_type": "markdown",
   "id": "209620f4-533c-4cc2-94fe-d67671084daf",
   "metadata": {},
   "source": [
    "#### Cleaning NANs in training data"
   ]
  },
  {
   "cell_type": "code",
   "execution_count": 12,
   "id": "a33c8adb-2c23-4d50-9deb-2c22e9e6915c",
   "metadata": {},
   "outputs": [
    {
     "name": "stdout",
     "output_type": "stream",
     "text": [
      "Number of NANs : 0\n",
      "(5831, 15)\n"
     ]
    },
    {
     "data": {
      "text/html": [
       "<div>\n",
       "<style scoped>\n",
       "    .dataframe tbody tr th:only-of-type {\n",
       "        vertical-align: middle;\n",
       "    }\n",
       "\n",
       "    .dataframe tbody tr th {\n",
       "        vertical-align: top;\n",
       "    }\n",
       "\n",
       "    .dataframe thead th {\n",
       "        text-align: right;\n",
       "    }\n",
       "</style>\n",
       "<table border=\"1\" class=\"dataframe\">\n",
       "  <thead>\n",
       "    <tr style=\"text-align: right;\">\n",
       "      <th></th>\n",
       "      <th>Churn</th>\n",
       "      <th>Card</th>\n",
       "      <th>Customer_Service_Calls</th>\n",
       "      <th>Credit_Limit</th>\n",
       "      <th>Total_Revolving_Balance</th>\n",
       "      <th>Average_Open_To_Buy</th>\n",
       "      <th>Average_Utilisation_Ratio</th>\n",
       "      <th>Age</th>\n",
       "      <th>Gender</th>\n",
       "      <th>Education</th>\n",
       "      <th>Marital_Status</th>\n",
       "      <th>Dependents</th>\n",
       "      <th>Income</th>\n",
       "      <th>Start_Year</th>\n",
       "      <th>Start_Day</th>\n",
       "    </tr>\n",
       "    <tr>\n",
       "      <th>Customer</th>\n",
       "      <th></th>\n",
       "      <th></th>\n",
       "      <th></th>\n",
       "      <th></th>\n",
       "      <th></th>\n",
       "      <th></th>\n",
       "      <th></th>\n",
       "      <th></th>\n",
       "      <th></th>\n",
       "      <th></th>\n",
       "      <th></th>\n",
       "      <th></th>\n",
       "      <th></th>\n",
       "      <th></th>\n",
       "      <th></th>\n",
       "    </tr>\n",
       "  </thead>\n",
       "  <tbody>\n",
       "    <tr>\n",
       "      <th>797197508</th>\n",
       "      <td>No</td>\n",
       "      <td>Silver</td>\n",
       "      <td>1</td>\n",
       "      <td>2315.0</td>\n",
       "      <td>1565</td>\n",
       "      <td>750.0</td>\n",
       "      <td>0.676</td>\n",
       "      <td>48.0</td>\n",
       "      <td>F</td>\n",
       "      <td>Graduate</td>\n",
       "      <td>Married</td>\n",
       "      <td>2</td>\n",
       "      <td>Less than €30K</td>\n",
       "      <td>2020</td>\n",
       "      <td>06</td>\n",
       "    </tr>\n",
       "    <tr>\n",
       "      <th>812854728</th>\n",
       "      <td>No</td>\n",
       "      <td>Silver</td>\n",
       "      <td>1</td>\n",
       "      <td>7645.0</td>\n",
       "      <td>2076</td>\n",
       "      <td>5569.0</td>\n",
       "      <td>0.272</td>\n",
       "      <td>58.0</td>\n",
       "      <td>F</td>\n",
       "      <td>Second level</td>\n",
       "      <td>Single</td>\n",
       "      <td>5</td>\n",
       "      <td>Less than €30K</td>\n",
       "      <td>2020</td>\n",
       "      <td>01</td>\n",
       "    </tr>\n",
       "    <tr>\n",
       "      <th>768000743</th>\n",
       "      <td>No</td>\n",
       "      <td>Silver</td>\n",
       "      <td>2</td>\n",
       "      <td>6394.0</td>\n",
       "      <td>0</td>\n",
       "      <td>6394.0</td>\n",
       "      <td>0.000</td>\n",
       "      <td>55.0</td>\n",
       "      <td>F</td>\n",
       "      <td>Second level</td>\n",
       "      <td>Single</td>\n",
       "      <td>2</td>\n",
       "      <td>Less than €30K</td>\n",
       "      <td>2020</td>\n",
       "      <td>01</td>\n",
       "    </tr>\n",
       "    <tr>\n",
       "      <th>759029725</th>\n",
       "      <td>No</td>\n",
       "      <td>Silver</td>\n",
       "      <td>4</td>\n",
       "      <td>1879.0</td>\n",
       "      <td>1486</td>\n",
       "      <td>393.0</td>\n",
       "      <td>0.791</td>\n",
       "      <td>37.0</td>\n",
       "      <td>F</td>\n",
       "      <td>Second level</td>\n",
       "      <td>Single</td>\n",
       "      <td>1</td>\n",
       "      <td>Less than €30K</td>\n",
       "      <td>2021</td>\n",
       "      <td>02</td>\n",
       "    </tr>\n",
       "    <tr>\n",
       "      <th>764982590</th>\n",
       "      <td>No</td>\n",
       "      <td>Silver</td>\n",
       "      <td>4</td>\n",
       "      <td>6036.0</td>\n",
       "      <td>1409</td>\n",
       "      <td>4627.0</td>\n",
       "      <td>0.233</td>\n",
       "      <td>56.0</td>\n",
       "      <td>M</td>\n",
       "      <td>PhD</td>\n",
       "      <td>Married</td>\n",
       "      <td>2</td>\n",
       "      <td>€50K - €80K</td>\n",
       "      <td>2018</td>\n",
       "      <td>10</td>\n",
       "    </tr>\n",
       "  </tbody>\n",
       "</table>\n",
       "</div>"
      ],
      "text/plain": [
       "          Churn    Card  Customer_Service_Calls  Credit_Limit  \\\n",
       "Customer                                                        \n",
       "797197508    No  Silver                       1        2315.0   \n",
       "812854728    No  Silver                       1        7645.0   \n",
       "768000743    No  Silver                       2        6394.0   \n",
       "759029725    No  Silver                       4        1879.0   \n",
       "764982590    No  Silver                       4        6036.0   \n",
       "\n",
       "           Total_Revolving_Balance  Average_Open_To_Buy  \\\n",
       "Customer                                                  \n",
       "797197508                     1565                750.0   \n",
       "812854728                     2076               5569.0   \n",
       "768000743                        0               6394.0   \n",
       "759029725                     1486                393.0   \n",
       "764982590                     1409               4627.0   \n",
       "\n",
       "           Average_Utilisation_Ratio   Age Gender     Education  \\\n",
       "Customer                                                          \n",
       "797197508                      0.676  48.0      F      Graduate   \n",
       "812854728                      0.272  58.0      F  Second level   \n",
       "768000743                      0.000  55.0      F  Second level   \n",
       "759029725                      0.791  37.0      F  Second level   \n",
       "764982590                      0.233  56.0      M           PhD   \n",
       "\n",
       "          Marital_Status  Dependents          Income Start_Year Start_Day  \n",
       "Customer                                                                   \n",
       "797197508        Married           2  Less than €30K       2020        06  \n",
       "812854728         Single           5  Less than €30K       2020        01  \n",
       "768000743         Single           2  Less than €30K       2020        01  \n",
       "759029725         Single           1  Less than €30K       2021        02  \n",
       "764982590        Married           2     €50K - €80K       2018        10  "
      ]
     },
     "execution_count": 12,
     "metadata": {},
     "output_type": "execute_result"
    }
   ],
   "source": [
    "df_customers_train.dropna(inplace=True)\n",
    "print(\"Number of NANs : {}\".format(df_customers_train.isna().sum().sum()))\n",
    "print(df_customers_train.shape)\n",
    "df_customers_train.head(5)"
   ]
  },
  {
   "cell_type": "markdown",
   "id": "3dbb878e-6608-4436-8861-822420f6a2e3",
   "metadata": {},
   "source": [
    "### Transactions Dataset"
   ]
  },
  {
   "cell_type": "markdown",
   "id": "8fc75bfe-7057-4fca-a9ae-64c97bced178",
   "metadata": {},
   "source": [
    "#### Import test and train datasets"
   ]
  },
  {
   "cell_type": "code",
   "execution_count": 13,
   "id": "d758bf8e-272c-4ccf-a85b-b77d88756f2f",
   "metadata": {},
   "outputs": [],
   "source": [
    "df_transaction_train = pd.read_csv(f\"orig/transactions_train.csv\")"
   ]
  },
  {
   "cell_type": "code",
   "execution_count": 14,
   "id": "acb3e155-2435-453a-b1c3-c8653406cd0f",
   "metadata": {},
   "outputs": [],
   "source": [
    "df_transaction_test = pd.read_csv(f\"orig/transactions_test.csv\")"
   ]
  },
  {
   "cell_type": "markdown",
   "id": "2dcebd2c-b3a7-49ec-95d1-43405aeb9a2e",
   "metadata": {},
   "source": [
    "#### Function for formatting transaction dataset "
   ]
  },
  {
   "cell_type": "code",
   "execution_count": 15,
   "id": "e6aa7488-44a4-43cc-b136-080c438bac03",
   "metadata": {},
   "outputs": [],
   "source": [
    "def format_transactions(df_transaction):\n",
    "    df_transaction['Date'] = pd.to_datetime(df_transaction['Date'])\n",
    "\n",
    "    df_transaction['Month'] = df_transaction['Date'].dt.month\n",
    "\n",
    "    df_transaction_grouped = df_transaction.groupby(['Customer', 'Month'])['Amount'].sum().reset_index()\n",
    "\n",
    "    df_transaction_pivot = df_transaction_grouped.pivot(index='Customer', columns='Month', values='Amount').reset_index()\n",
    "\n",
    "    df_transaction_pivot.columns = ['Customer', 'Jan_Total', 'Feb_Total', 'Mar_Total', 'Apr_Total', 'May_Total', 'Jun_Total', 'Jul_Total', 'Aug_Total', 'Sep_Total', 'Oct_Total', 'Nov_Total', 'Dec_Total']\n",
    "\n",
    "    df_transaction = df_transaction_pivot.set_index('Customer')\n",
    "\n",
    "    df_transaction = df_transaction.fillna(0)\n",
    "    \n",
    "    return df_transaction"
   ]
  },
  {
   "cell_type": "markdown",
   "id": "3f4b4a20-bb49-4c4d-9d77-627357fd1682",
   "metadata": {},
   "source": [
    "#### Formatting train dataset"
   ]
  },
  {
   "cell_type": "code",
   "execution_count": 16,
   "id": "e1507d04-29ca-4b94-90f4-429353eb9487",
   "metadata": {},
   "outputs": [
    {
     "data": {
      "text/html": [
       "<div>\n",
       "<style scoped>\n",
       "    .dataframe tbody tr th:only-of-type {\n",
       "        vertical-align: middle;\n",
       "    }\n",
       "\n",
       "    .dataframe tbody tr th {\n",
       "        vertical-align: top;\n",
       "    }\n",
       "\n",
       "    .dataframe thead th {\n",
       "        text-align: right;\n",
       "    }\n",
       "</style>\n",
       "<table border=\"1\" class=\"dataframe\">\n",
       "  <thead>\n",
       "    <tr style=\"text-align: right;\">\n",
       "      <th></th>\n",
       "      <th>Jan_Total</th>\n",
       "      <th>Feb_Total</th>\n",
       "      <th>Mar_Total</th>\n",
       "      <th>Apr_Total</th>\n",
       "      <th>May_Total</th>\n",
       "      <th>Jun_Total</th>\n",
       "      <th>Jul_Total</th>\n",
       "      <th>Aug_Total</th>\n",
       "      <th>Sep_Total</th>\n",
       "      <th>Oct_Total</th>\n",
       "      <th>Nov_Total</th>\n",
       "      <th>Dec_Total</th>\n",
       "    </tr>\n",
       "    <tr>\n",
       "      <th>Customer</th>\n",
       "      <th></th>\n",
       "      <th></th>\n",
       "      <th></th>\n",
       "      <th></th>\n",
       "      <th></th>\n",
       "      <th></th>\n",
       "      <th></th>\n",
       "      <th></th>\n",
       "      <th></th>\n",
       "      <th></th>\n",
       "      <th></th>\n",
       "      <th></th>\n",
       "    </tr>\n",
       "  </thead>\n",
       "  <tbody>\n",
       "    <tr>\n",
       "      <th>708115009</th>\n",
       "      <td>0.0</td>\n",
       "      <td>653.68</td>\n",
       "      <td>0.0</td>\n",
       "      <td>25.44</td>\n",
       "      <td>38.82</td>\n",
       "      <td>391.74</td>\n",
       "      <td>89.15</td>\n",
       "      <td>0.0</td>\n",
       "      <td>282.99</td>\n",
       "      <td>7.23</td>\n",
       "      <td>397.94</td>\n",
       "      <td>0.0</td>\n",
       "    </tr>\n",
       "  </tbody>\n",
       "</table>\n",
       "</div>"
      ],
      "text/plain": [
       "           Jan_Total  Feb_Total  Mar_Total  Apr_Total  May_Total  Jun_Total  \\\n",
       "Customer                                                                      \n",
       "708115009        0.0     653.68        0.0      25.44      38.82     391.74   \n",
       "\n",
       "           Jul_Total  Aug_Total  Sep_Total  Oct_Total  Nov_Total  Dec_Total  \n",
       "Customer                                                                     \n",
       "708115009      89.15        0.0     282.99       7.23     397.94        0.0  "
      ]
     },
     "execution_count": 16,
     "metadata": {},
     "output_type": "execute_result"
    }
   ],
   "source": [
    "df_transaction_train = format_transactions(df_transaction_train)\n",
    "df_transaction_train.head(1)"
   ]
  },
  {
   "cell_type": "markdown",
   "id": "9c1dfdab-b5ac-42b1-adcb-b25d5c92174d",
   "metadata": {},
   "source": [
    "#### Formatting test dataset"
   ]
  },
  {
   "cell_type": "code",
   "execution_count": 17,
   "id": "9454a0ed-552b-4f95-b28b-4c90e8996734",
   "metadata": {},
   "outputs": [
    {
     "data": {
      "text/html": [
       "<div>\n",
       "<style scoped>\n",
       "    .dataframe tbody tr th:only-of-type {\n",
       "        vertical-align: middle;\n",
       "    }\n",
       "\n",
       "    .dataframe tbody tr th {\n",
       "        vertical-align: top;\n",
       "    }\n",
       "\n",
       "    .dataframe thead th {\n",
       "        text-align: right;\n",
       "    }\n",
       "</style>\n",
       "<table border=\"1\" class=\"dataframe\">\n",
       "  <thead>\n",
       "    <tr style=\"text-align: right;\">\n",
       "      <th></th>\n",
       "      <th>Jan_Total</th>\n",
       "      <th>Feb_Total</th>\n",
       "      <th>Mar_Total</th>\n",
       "      <th>Apr_Total</th>\n",
       "      <th>May_Total</th>\n",
       "      <th>Jun_Total</th>\n",
       "      <th>Jul_Total</th>\n",
       "      <th>Aug_Total</th>\n",
       "      <th>Sep_Total</th>\n",
       "      <th>Oct_Total</th>\n",
       "      <th>Nov_Total</th>\n",
       "      <th>Dec_Total</th>\n",
       "    </tr>\n",
       "    <tr>\n",
       "      <th>Customer</th>\n",
       "      <th></th>\n",
       "      <th></th>\n",
       "      <th></th>\n",
       "      <th></th>\n",
       "      <th></th>\n",
       "      <th></th>\n",
       "      <th></th>\n",
       "      <th></th>\n",
       "      <th></th>\n",
       "      <th></th>\n",
       "      <th></th>\n",
       "      <th></th>\n",
       "    </tr>\n",
       "  </thead>\n",
       "  <tbody>\n",
       "    <tr>\n",
       "      <th>708182832</th>\n",
       "      <td>673.59</td>\n",
       "      <td>0.0</td>\n",
       "      <td>925.22</td>\n",
       "      <td>260.99</td>\n",
       "      <td>443.52</td>\n",
       "      <td>361.47</td>\n",
       "      <td>334.93</td>\n",
       "      <td>0.0</td>\n",
       "      <td>519.59</td>\n",
       "      <td>0.0</td>\n",
       "      <td>364.3</td>\n",
       "      <td>457.4</td>\n",
       "    </tr>\n",
       "  </tbody>\n",
       "</table>\n",
       "</div>"
      ],
      "text/plain": [
       "           Jan_Total  Feb_Total  Mar_Total  Apr_Total  May_Total  Jun_Total  \\\n",
       "Customer                                                                      \n",
       "708182832     673.59        0.0     925.22     260.99     443.52     361.47   \n",
       "\n",
       "           Jul_Total  Aug_Total  Sep_Total  Oct_Total  Nov_Total  Dec_Total  \n",
       "Customer                                                                     \n",
       "708182832     334.93        0.0     519.59        0.0      364.3      457.4  "
      ]
     },
     "execution_count": 17,
     "metadata": {},
     "output_type": "execute_result"
    }
   ],
   "source": [
    "df_transaction_test = format_transactions(df_transaction_test)\n",
    "df_transaction_test.head(1)"
   ]
  },
  {
   "cell_type": "markdown",
   "id": "9a2d2974-bed8-4d50-91f9-09c724758261",
   "metadata": {},
   "source": [
    "## Merge Datasets"
   ]
  },
  {
   "cell_type": "markdown",
   "id": "00f39345-186f-4cb9-afa6-45c7113c82e8",
   "metadata": {},
   "source": [
    "### Merge train"
   ]
  },
  {
   "cell_type": "code",
   "execution_count": 18,
   "id": "66382b09-cb25-4d11-b191-75799185517d",
   "metadata": {},
   "outputs": [
    {
     "name": "stdout",
     "output_type": "stream",
     "text": [
      "(5831, 35)\n"
     ]
    },
    {
     "data": {
      "text/html": [
       "<div>\n",
       "<style scoped>\n",
       "    .dataframe tbody tr th:only-of-type {\n",
       "        vertical-align: middle;\n",
       "    }\n",
       "\n",
       "    .dataframe tbody tr th {\n",
       "        vertical-align: top;\n",
       "    }\n",
       "\n",
       "    .dataframe thead th {\n",
       "        text-align: right;\n",
       "    }\n",
       "</style>\n",
       "<table border=\"1\" class=\"dataframe\">\n",
       "  <thead>\n",
       "    <tr style=\"text-align: right;\">\n",
       "      <th></th>\n",
       "      <th>Credit Card</th>\n",
       "      <th>Current</th>\n",
       "      <th>Deposit</th>\n",
       "      <th>Investment</th>\n",
       "      <th>Joint</th>\n",
       "      <th>Loan</th>\n",
       "      <th>Mortgage</th>\n",
       "      <th>On Demand Deposit</th>\n",
       "      <th>Churn</th>\n",
       "      <th>Card</th>\n",
       "      <th>...</th>\n",
       "      <th>Mar_Total</th>\n",
       "      <th>Apr_Total</th>\n",
       "      <th>May_Total</th>\n",
       "      <th>Jun_Total</th>\n",
       "      <th>Jul_Total</th>\n",
       "      <th>Aug_Total</th>\n",
       "      <th>Sep_Total</th>\n",
       "      <th>Oct_Total</th>\n",
       "      <th>Nov_Total</th>\n",
       "      <th>Dec_Total</th>\n",
       "    </tr>\n",
       "    <tr>\n",
       "      <th>Customer</th>\n",
       "      <th></th>\n",
       "      <th></th>\n",
       "      <th></th>\n",
       "      <th></th>\n",
       "      <th></th>\n",
       "      <th></th>\n",
       "      <th></th>\n",
       "      <th></th>\n",
       "      <th></th>\n",
       "      <th></th>\n",
       "      <th></th>\n",
       "      <th></th>\n",
       "      <th></th>\n",
       "      <th></th>\n",
       "      <th></th>\n",
       "      <th></th>\n",
       "      <th></th>\n",
       "      <th></th>\n",
       "      <th></th>\n",
       "      <th></th>\n",
       "      <th></th>\n",
       "    </tr>\n",
       "  </thead>\n",
       "  <tbody>\n",
       "    <tr>\n",
       "      <th>708115009</th>\n",
       "      <td>1</td>\n",
       "      <td>0</td>\n",
       "      <td>0</td>\n",
       "      <td>0</td>\n",
       "      <td>0</td>\n",
       "      <td>0</td>\n",
       "      <td>0</td>\n",
       "      <td>0</td>\n",
       "      <td>Yes</td>\n",
       "      <td>Silver</td>\n",
       "      <td>...</td>\n",
       "      <td>0.00</td>\n",
       "      <td>25.44</td>\n",
       "      <td>38.82</td>\n",
       "      <td>391.74</td>\n",
       "      <td>89.15</td>\n",
       "      <td>0.00</td>\n",
       "      <td>282.99</td>\n",
       "      <td>7.23</td>\n",
       "      <td>397.94</td>\n",
       "      <td>0.00</td>\n",
       "    </tr>\n",
       "    <tr>\n",
       "      <th>708117651</th>\n",
       "      <td>1</td>\n",
       "      <td>1</td>\n",
       "      <td>0</td>\n",
       "      <td>0</td>\n",
       "      <td>0</td>\n",
       "      <td>0</td>\n",
       "      <td>0</td>\n",
       "      <td>0</td>\n",
       "      <td>No</td>\n",
       "      <td>Silver</td>\n",
       "      <td>...</td>\n",
       "      <td>1008.48</td>\n",
       "      <td>1114.80</td>\n",
       "      <td>412.19</td>\n",
       "      <td>513.07</td>\n",
       "      <td>818.03</td>\n",
       "      <td>1060.71</td>\n",
       "      <td>0.00</td>\n",
       "      <td>507.95</td>\n",
       "      <td>669.83</td>\n",
       "      <td>346.73</td>\n",
       "    </tr>\n",
       "    <tr>\n",
       "      <th>708163600</th>\n",
       "      <td>1</td>\n",
       "      <td>1</td>\n",
       "      <td>0</td>\n",
       "      <td>0</td>\n",
       "      <td>0</td>\n",
       "      <td>0</td>\n",
       "      <td>0</td>\n",
       "      <td>1</td>\n",
       "      <td>No</td>\n",
       "      <td>Silver</td>\n",
       "      <td>...</td>\n",
       "      <td>0.00</td>\n",
       "      <td>0.00</td>\n",
       "      <td>3794.27</td>\n",
       "      <td>0.00</td>\n",
       "      <td>561.84</td>\n",
       "      <td>1774.10</td>\n",
       "      <td>1081.42</td>\n",
       "      <td>1168.54</td>\n",
       "      <td>1077.05</td>\n",
       "      <td>325.53</td>\n",
       "    </tr>\n",
       "  </tbody>\n",
       "</table>\n",
       "<p>3 rows × 35 columns</p>\n",
       "</div>"
      ],
      "text/plain": [
       "           Credit Card  Current  Deposit  Investment  Joint  Loan  Mortgage  \\\n",
       "Customer                                                                      \n",
       "708115009            1        0        0           0      0     0         0   \n",
       "708117651            1        1        0           0      0     0         0   \n",
       "708163600            1        1        0           0      0     0         0   \n",
       "\n",
       "           On Demand Deposit Churn    Card  ...  Mar_Total  Apr_Total  \\\n",
       "Customer                                    ...                         \n",
       "708115009                  0   Yes  Silver  ...       0.00      25.44   \n",
       "708117651                  0    No  Silver  ...    1008.48    1114.80   \n",
       "708163600                  1    No  Silver  ...       0.00       0.00   \n",
       "\n",
       "           May_Total  Jun_Total  Jul_Total  Aug_Total Sep_Total Oct_Total  \\\n",
       "Customer                                                                    \n",
       "708115009      38.82     391.74      89.15       0.00    282.99      7.23   \n",
       "708117651     412.19     513.07     818.03    1060.71      0.00    507.95   \n",
       "708163600    3794.27       0.00     561.84    1774.10   1081.42   1168.54   \n",
       "\n",
       "          Nov_Total  Dec_Total  \n",
       "Customer                        \n",
       "708115009    397.94       0.00  \n",
       "708117651    669.83     346.73  \n",
       "708163600   1077.05     325.53  \n",
       "\n",
       "[3 rows x 35 columns]"
      ]
     },
     "execution_count": 18,
     "metadata": {},
     "output_type": "execute_result"
    }
   ],
   "source": [
    "df_train = pd.merge(df_accounts_train, df_customers_train, left_index=True, right_index=True)\n",
    "df_train = pd.merge(df_train, df_transaction_train, left_index=True, right_index=True)\n",
    "print(df_train.shape)\n",
    "df_train.head(3)"
   ]
  },
  {
   "cell_type": "markdown",
   "id": "40652079-e3a3-4bc8-9200-13467e3afbec",
   "metadata": {},
   "source": [
    "### Merge test"
   ]
  },
  {
   "cell_type": "code",
   "execution_count": 19,
   "id": "a28c579d-991d-4003-9de8-007a09344844",
   "metadata": {},
   "outputs": [
    {
     "name": "stdout",
     "output_type": "stream",
     "text": [
      "(3542, 34)\n"
     ]
    },
    {
     "data": {
      "text/html": [
       "<div>\n",
       "<style scoped>\n",
       "    .dataframe tbody tr th:only-of-type {\n",
       "        vertical-align: middle;\n",
       "    }\n",
       "\n",
       "    .dataframe tbody tr th {\n",
       "        vertical-align: top;\n",
       "    }\n",
       "\n",
       "    .dataframe thead th {\n",
       "        text-align: right;\n",
       "    }\n",
       "</style>\n",
       "<table border=\"1\" class=\"dataframe\">\n",
       "  <thead>\n",
       "    <tr style=\"text-align: right;\">\n",
       "      <th></th>\n",
       "      <th>Credit Card</th>\n",
       "      <th>Current</th>\n",
       "      <th>Deposit</th>\n",
       "      <th>Investment</th>\n",
       "      <th>Joint</th>\n",
       "      <th>Loan</th>\n",
       "      <th>Mortgage</th>\n",
       "      <th>On Demand Deposit</th>\n",
       "      <th>Card</th>\n",
       "      <th>Customer_Service_Calls</th>\n",
       "      <th>...</th>\n",
       "      <th>Mar_Total</th>\n",
       "      <th>Apr_Total</th>\n",
       "      <th>May_Total</th>\n",
       "      <th>Jun_Total</th>\n",
       "      <th>Jul_Total</th>\n",
       "      <th>Aug_Total</th>\n",
       "      <th>Sep_Total</th>\n",
       "      <th>Oct_Total</th>\n",
       "      <th>Nov_Total</th>\n",
       "      <th>Dec_Total</th>\n",
       "    </tr>\n",
       "    <tr>\n",
       "      <th>Customer</th>\n",
       "      <th></th>\n",
       "      <th></th>\n",
       "      <th></th>\n",
       "      <th></th>\n",
       "      <th></th>\n",
       "      <th></th>\n",
       "      <th></th>\n",
       "      <th></th>\n",
       "      <th></th>\n",
       "      <th></th>\n",
       "      <th></th>\n",
       "      <th></th>\n",
       "      <th></th>\n",
       "      <th></th>\n",
       "      <th></th>\n",
       "      <th></th>\n",
       "      <th></th>\n",
       "      <th></th>\n",
       "      <th></th>\n",
       "      <th></th>\n",
       "      <th></th>\n",
       "    </tr>\n",
       "  </thead>\n",
       "  <tbody>\n",
       "    <tr>\n",
       "      <th>708182832</th>\n",
       "      <td>1</td>\n",
       "      <td>1</td>\n",
       "      <td>1</td>\n",
       "      <td>1</td>\n",
       "      <td>0</td>\n",
       "      <td>0</td>\n",
       "      <td>0</td>\n",
       "      <td>0</td>\n",
       "      <td>Silver</td>\n",
       "      <td>1</td>\n",
       "      <td>...</td>\n",
       "      <td>925.22</td>\n",
       "      <td>260.99</td>\n",
       "      <td>443.52</td>\n",
       "      <td>361.47</td>\n",
       "      <td>334.93</td>\n",
       "      <td>0.00</td>\n",
       "      <td>519.59</td>\n",
       "      <td>0.00</td>\n",
       "      <td>364.30</td>\n",
       "      <td>457.40</td>\n",
       "    </tr>\n",
       "    <tr>\n",
       "      <th>708240660</th>\n",
       "      <td>1</td>\n",
       "      <td>1</td>\n",
       "      <td>1</td>\n",
       "      <td>1</td>\n",
       "      <td>0</td>\n",
       "      <td>1</td>\n",
       "      <td>0</td>\n",
       "      <td>0</td>\n",
       "      <td>Silver</td>\n",
       "      <td>3</td>\n",
       "      <td>...</td>\n",
       "      <td>111.69</td>\n",
       "      <td>0.00</td>\n",
       "      <td>0.00</td>\n",
       "      <td>456.52</td>\n",
       "      <td>285.88</td>\n",
       "      <td>17.58</td>\n",
       "      <td>81.31</td>\n",
       "      <td>24.92</td>\n",
       "      <td>521.61</td>\n",
       "      <td>15.67</td>\n",
       "    </tr>\n",
       "    <tr>\n",
       "      <th>708249778</th>\n",
       "      <td>1</td>\n",
       "      <td>1</td>\n",
       "      <td>0</td>\n",
       "      <td>1</td>\n",
       "      <td>0</td>\n",
       "      <td>0</td>\n",
       "      <td>1</td>\n",
       "      <td>0</td>\n",
       "      <td>Silver</td>\n",
       "      <td>2</td>\n",
       "      <td>...</td>\n",
       "      <td>306.64</td>\n",
       "      <td>0.00</td>\n",
       "      <td>709.69</td>\n",
       "      <td>0.00</td>\n",
       "      <td>0.00</td>\n",
       "      <td>606.68</td>\n",
       "      <td>0.00</td>\n",
       "      <td>191.04</td>\n",
       "      <td>0.00</td>\n",
       "      <td>118.69</td>\n",
       "    </tr>\n",
       "  </tbody>\n",
       "</table>\n",
       "<p>3 rows × 34 columns</p>\n",
       "</div>"
      ],
      "text/plain": [
       "           Credit Card  Current  Deposit  Investment  Joint  Loan  Mortgage  \\\n",
       "Customer                                                                      \n",
       "708182832            1        1        1           1      0     0         0   \n",
       "708240660            1        1        1           1      0     1         0   \n",
       "708249778            1        1        0           1      0     0         1   \n",
       "\n",
       "           On Demand Deposit    Card  Customer_Service_Calls  ...  Mar_Total  \\\n",
       "Customer                                                      ...              \n",
       "708182832                  0  Silver                       1  ...     925.22   \n",
       "708240660                  0  Silver                       3  ...     111.69   \n",
       "708249778                  0  Silver                       2  ...     306.64   \n",
       "\n",
       "           Apr_Total  May_Total  Jun_Total  Jul_Total Aug_Total Sep_Total  \\\n",
       "Customer                                                                    \n",
       "708182832     260.99     443.52     361.47     334.93      0.00    519.59   \n",
       "708240660       0.00       0.00     456.52     285.88     17.58     81.31   \n",
       "708249778       0.00     709.69       0.00       0.00    606.68      0.00   \n",
       "\n",
       "          Oct_Total  Nov_Total Dec_Total  \n",
       "Customer                                  \n",
       "708182832      0.00     364.30    457.40  \n",
       "708240660     24.92     521.61     15.67  \n",
       "708249778    191.04       0.00    118.69  \n",
       "\n",
       "[3 rows x 34 columns]"
      ]
     },
     "execution_count": 19,
     "metadata": {},
     "output_type": "execute_result"
    }
   ],
   "source": [
    "df_test = pd.merge(df_accounts_test, df_customers_test, left_index=True, right_index=True)\n",
    "df_test = pd.merge(df_test, df_transaction_test, left_index=True, right_index=True)\n",
    "print(df_test.shape)\n",
    "df_test.head(3)"
   ]
  },
  {
   "cell_type": "markdown",
   "id": "668307e9-348d-4675-b6b6-333e1c8aab55",
   "metadata": {},
   "source": [
    "## Clean"
   ]
  },
  {
   "cell_type": "markdown",
   "id": "813176cd-44d8-49b5-bd00-5015e0892e3a",
   "metadata": {},
   "source": [
    "### Summarise dataset"
   ]
  },
  {
   "cell_type": "code",
   "execution_count": 20,
   "id": "3e238879-a8f0-4726-ac1b-addafef7ed37",
   "metadata": {},
   "outputs": [
    {
     "name": "stdout",
     "output_type": "stream",
     "text": [
      "<class 'pandas.core.frame.DataFrame'>\n",
      "Int64Index: 5831 entries, 708115009 to 828317722\n",
      "Data columns (total 35 columns):\n",
      " #   Column                     Non-Null Count  Dtype  \n",
      "---  ------                     --------------  -----  \n",
      " 0   Credit Card                5831 non-null   int64  \n",
      " 1   Current                    5831 non-null   int64  \n",
      " 2   Deposit                    5831 non-null   int64  \n",
      " 3   Investment                 5831 non-null   int64  \n",
      " 4   Joint                      5831 non-null   int64  \n",
      " 5   Loan                       5831 non-null   int64  \n",
      " 6   Mortgage                   5831 non-null   int64  \n",
      " 7   On Demand Deposit          5831 non-null   int64  \n",
      " 8   Churn                      5831 non-null   object \n",
      " 9   Card                       5831 non-null   object \n",
      " 10  Customer_Service_Calls     5831 non-null   int64  \n",
      " 11  Credit_Limit               5831 non-null   float64\n",
      " 12  Total_Revolving_Balance    5831 non-null   int64  \n",
      " 13  Average_Open_To_Buy        5831 non-null   float64\n",
      " 14  Average_Utilisation_Ratio  5831 non-null   float64\n",
      " 15  Age                        5831 non-null   float64\n",
      " 16  Gender                     5831 non-null   object \n",
      " 17  Education                  5831 non-null   object \n",
      " 18  Marital_Status             5831 non-null   object \n",
      " 19  Dependents                 5831 non-null   int64  \n",
      " 20  Income                     5831 non-null   object \n",
      " 21  Start_Year                 5831 non-null   object \n",
      " 22  Start_Day                  5831 non-null   object \n",
      " 23  Jan_Total                  5831 non-null   float64\n",
      " 24  Feb_Total                  5831 non-null   float64\n",
      " 25  Mar_Total                  5831 non-null   float64\n",
      " 26  Apr_Total                  5831 non-null   float64\n",
      " 27  May_Total                  5831 non-null   float64\n",
      " 28  Jun_Total                  5831 non-null   float64\n",
      " 29  Jul_Total                  5831 non-null   float64\n",
      " 30  Aug_Total                  5831 non-null   float64\n",
      " 31  Sep_Total                  5831 non-null   float64\n",
      " 32  Oct_Total                  5831 non-null   float64\n",
      " 33  Nov_Total                  5831 non-null   float64\n",
      " 34  Dec_Total                  5831 non-null   float64\n",
      "dtypes: float64(16), int64(11), object(8)\n",
      "memory usage: 1.6+ MB\n"
     ]
    }
   ],
   "source": [
    "df_train.info()"
   ]
  },
  {
   "cell_type": "code",
   "execution_count": 21,
   "id": "59e7b66b-4d34-4cea-a38c-6296dad0d22d",
   "metadata": {},
   "outputs": [
    {
     "name": "stdout",
     "output_type": "stream",
     "text": [
      "<class 'pandas.core.frame.DataFrame'>\n",
      "Int64Index: 3542 entries, 708182832 to 828331426\n",
      "Data columns (total 34 columns):\n",
      " #   Column                     Non-Null Count  Dtype  \n",
      "---  ------                     --------------  -----  \n",
      " 0   Credit Card                3542 non-null   int64  \n",
      " 1   Current                    3542 non-null   int64  \n",
      " 2   Deposit                    3542 non-null   int64  \n",
      " 3   Investment                 3542 non-null   int64  \n",
      " 4   Joint                      3542 non-null   int64  \n",
      " 5   Loan                       3542 non-null   int64  \n",
      " 6   Mortgage                   3542 non-null   int64  \n",
      " 7   On Demand Deposit          3542 non-null   int64  \n",
      " 8   Card                       3542 non-null   object \n",
      " 9   Customer_Service_Calls     3542 non-null   int64  \n",
      " 10  Credit_Limit               3542 non-null   float64\n",
      " 11  Total_Revolving_Balance    3542 non-null   int64  \n",
      " 12  Average_Open_To_Buy        3542 non-null   float64\n",
      " 13  Average_Utilisation_Ratio  3542 non-null   float64\n",
      " 14  Age                        3542 non-null   int64  \n",
      " 15  Gender                     3542 non-null   object \n",
      " 16  Education                  3542 non-null   object \n",
      " 17  Marital_Status             3542 non-null   object \n",
      " 18  Dependents                 3542 non-null   int64  \n",
      " 19  Income                     3542 non-null   object \n",
      " 20  Start_Year                 3542 non-null   object \n",
      " 21  Start_Day                  3542 non-null   object \n",
      " 22  Jan_Total                  3542 non-null   float64\n",
      " 23  Feb_Total                  3542 non-null   float64\n",
      " 24  Mar_Total                  3542 non-null   float64\n",
      " 25  Apr_Total                  3542 non-null   float64\n",
      " 26  May_Total                  3542 non-null   float64\n",
      " 27  Jun_Total                  3542 non-null   float64\n",
      " 28  Jul_Total                  3542 non-null   float64\n",
      " 29  Aug_Total                  3542 non-null   float64\n",
      " 30  Sep_Total                  3542 non-null   float64\n",
      " 31  Oct_Total                  3542 non-null   float64\n",
      " 32  Nov_Total                  3542 non-null   float64\n",
      " 33  Dec_Total                  3542 non-null   float64\n",
      "dtypes: float64(15), int64(12), object(7)\n",
      "memory usage: 1.1+ MB\n"
     ]
    }
   ],
   "source": [
    "df_test.info()"
   ]
  },
  {
   "cell_type": "markdown",
   "id": "f8a49e7d-4e35-43e4-8cd2-313c5e97c302",
   "metadata": {},
   "source": [
    "#### Comments\n",
    "Issues:\n",
    " - Account,Card,Gender,Education,Marital_Status,Income can be encoded to catgerical values\n",
    " - Churn (target) can be encoded to a boolean"
   ]
  },
  {
   "cell_type": "markdown",
   "id": "bd138777-9ed1-42f4-89f7-01141674c31a",
   "metadata": {},
   "source": [
    "### Encoding Object Values"
   ]
  },
  {
   "cell_type": "markdown",
   "id": "b4db6401-0eb0-4e02-8c07-6df956e8efe8",
   "metadata": {},
   "source": [
    "#### All features with object data types"
   ]
  },
  {
   "cell_type": "code",
   "execution_count": 22,
   "id": "e9088b61-ebfd-476e-95d8-4cf9af2b2979",
   "metadata": {},
   "outputs": [],
   "source": [
    "for c in df_train.columns:\n",
    "    if df_train[c].dtype == \"object\":\n",
    "        df_train[c] = pd.Categorical(df_train[c])"
   ]
  },
  {
   "cell_type": "code",
   "execution_count": 23,
   "id": "fd9b95d2-4185-4a13-b478-94213333b7b7",
   "metadata": {},
   "outputs": [],
   "source": [
    "for c in df_test.columns:\n",
    "    if df_test[c].dtype == \"object\":\n",
    "        df_test[c] = pd.Categorical(df_test[c])"
   ]
  },
  {
   "cell_type": "code",
   "execution_count": 24,
   "id": "c2fc5e7d-d583-452a-ba72-b9e5eab3c989",
   "metadata": {},
   "outputs": [
    {
     "name": "stdout",
     "output_type": "stream",
     "text": [
      "<class 'pandas.core.frame.DataFrame'>\n",
      "Int64Index: 5831 entries, 708115009 to 828317722\n",
      "Data columns (total 35 columns):\n",
      " #   Column                     Non-Null Count  Dtype   \n",
      "---  ------                     --------------  -----   \n",
      " 0   Credit Card                5831 non-null   int64   \n",
      " 1   Current                    5831 non-null   int64   \n",
      " 2   Deposit                    5831 non-null   int64   \n",
      " 3   Investment                 5831 non-null   int64   \n",
      " 4   Joint                      5831 non-null   int64   \n",
      " 5   Loan                       5831 non-null   int64   \n",
      " 6   Mortgage                   5831 non-null   int64   \n",
      " 7   On Demand Deposit          5831 non-null   int64   \n",
      " 8   Churn                      5831 non-null   category\n",
      " 9   Card                       5831 non-null   category\n",
      " 10  Customer_Service_Calls     5831 non-null   int64   \n",
      " 11  Credit_Limit               5831 non-null   float64 \n",
      " 12  Total_Revolving_Balance    5831 non-null   int64   \n",
      " 13  Average_Open_To_Buy        5831 non-null   float64 \n",
      " 14  Average_Utilisation_Ratio  5831 non-null   float64 \n",
      " 15  Age                        5831 non-null   float64 \n",
      " 16  Gender                     5831 non-null   category\n",
      " 17  Education                  5831 non-null   category\n",
      " 18  Marital_Status             5831 non-null   category\n",
      " 19  Dependents                 5831 non-null   int64   \n",
      " 20  Income                     5831 non-null   category\n",
      " 21  Start_Year                 5831 non-null   category\n",
      " 22  Start_Day                  5831 non-null   category\n",
      " 23  Jan_Total                  5831 non-null   float64 \n",
      " 24  Feb_Total                  5831 non-null   float64 \n",
      " 25  Mar_Total                  5831 non-null   float64 \n",
      " 26  Apr_Total                  5831 non-null   float64 \n",
      " 27  May_Total                  5831 non-null   float64 \n",
      " 28  Jun_Total                  5831 non-null   float64 \n",
      " 29  Jul_Total                  5831 non-null   float64 \n",
      " 30  Aug_Total                  5831 non-null   float64 \n",
      " 31  Sep_Total                  5831 non-null   float64 \n",
      " 32  Oct_Total                  5831 non-null   float64 \n",
      " 33  Nov_Total                  5831 non-null   float64 \n",
      " 34  Dec_Total                  5831 non-null   float64 \n",
      "dtypes: category(8), float64(16), int64(11)\n",
      "memory usage: 1.3 MB\n"
     ]
    }
   ],
   "source": [
    "df_train.info()"
   ]
  },
  {
   "cell_type": "code",
   "execution_count": 25,
   "id": "d6a61538-4ee6-46f8-91ec-01c5a098e76a",
   "metadata": {},
   "outputs": [
    {
     "name": "stdout",
     "output_type": "stream",
     "text": [
      "Index(['Divorced', 'Married', 'Single', 'Unknown'], dtype='object')\n"
     ]
    }
   ],
   "source": [
    "df_train.Marital_Status = df_train.Marital_Status.cat.add_categories(['Unknown'])\n",
    "print(df_train.Marital_Status.cat.categories)"
   ]
  },
  {
   "cell_type": "markdown",
   "id": "e0b69f52-0f2d-4e05-ac90-9afc231f53f8",
   "metadata": {},
   "source": [
    "### Check nans"
   ]
  },
  {
   "cell_type": "code",
   "execution_count": 26,
   "id": "217a8d40-d344-46ca-a686-4856e2ef54d3",
   "metadata": {},
   "outputs": [
    {
     "data": {
      "text/plain": [
       "0"
      ]
     },
     "execution_count": 26,
     "metadata": {},
     "output_type": "execute_result"
    }
   ],
   "source": [
    "df_train.isna().sum().sum()"
   ]
  },
  {
   "cell_type": "code",
   "execution_count": 27,
   "id": "d7ad2377-8266-4393-bd95-3bca15ad3da8",
   "metadata": {},
   "outputs": [
    {
     "data": {
      "text/plain": [
       "0"
      ]
     },
     "execution_count": 27,
     "metadata": {},
     "output_type": "execute_result"
    }
   ],
   "source": [
    "df_test.isna().sum().sum()"
   ]
  },
  {
   "cell_type": "markdown",
   "id": "15ad56d1-471d-48eb-b3bd-38252b6658d3",
   "metadata": {},
   "source": [
    "## Save test and train datasets"
   ]
  },
  {
   "cell_type": "code",
   "execution_count": 28,
   "id": "ebf1aea1-3be2-46ef-ba51-b1d5c4b34236",
   "metadata": {},
   "outputs": [],
   "source": [
    "df_train.to_pickle(\"./orig/data/churn_train.pkl\")"
   ]
  },
  {
   "cell_type": "code",
   "execution_count": 29,
   "id": "07e44fc8-2487-4951-b35f-a812fb26b85f",
   "metadata": {},
   "outputs": [],
   "source": [
    "df_test.to_pickle(\"./orig/data/churn_test.pkl\")"
   ]
  },
  {
   "cell_type": "code",
   "execution_count": null,
   "id": "a83c835a-1954-424c-8359-b4b5318ef223",
   "metadata": {},
   "outputs": [],
   "source": []
  }
 ],
 "metadata": {
  "kernelspec": {
   "display_name": "Python 3 (ipykernel)",
   "language": "python",
   "name": "python3"
  },
  "language_info": {
   "codemirror_mode": {
    "name": "ipython",
    "version": 3
   },
   "file_extension": ".py",
   "mimetype": "text/x-python",
   "name": "python",
   "nbconvert_exporter": "python",
   "pygments_lexer": "ipython3",
   "version": "3.10.2"
  }
 },
 "nbformat": 4,
 "nbformat_minor": 5
}
